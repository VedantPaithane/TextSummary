{
  "nbformat": 4,
  "nbformat_minor": 0,
  "metadata": {
    "colab": {
      "name": "Text_Summarization.ipynb",
      "provenance": [],
      "collapsed_sections": []
    },
    "language_info": {
      "codemirror_mode": {
        "name": "ipython",
        "version": 3
      },
      "file_extension": ".py",
      "mimetype": "text/x-python",
      "name": "python",
      "nbconvert_exporter": "python",
      "pygments_lexer": "ipython3",
      "version": "3.7.3"
    },
    "kernelspec": {
      "name": "python3",
      "display_name": "Python 3"
    },
    "accelerator": "GPU"
  },
  "cells": [
    {
      "cell_type": "markdown",
      "metadata": {
        "id": "LRBnHVc4Iuyk",
        "colab_type": "text"
      },
      "source": [
        "Attention layer"
      ]
    },
    {
      "cell_type": "code",
      "metadata": {
        "id": "3ngFVqlJHZnb",
        "colab_type": "code",
        "colab": {}
      },
      "source": [
        "import tensorflow as tf\n",
        "import os\n",
        "from tensorflow.python.keras.layers import Layer\n",
        "from tensorflow.python.keras import backend as K\n",
        "\n",
        "\n",
        "class AttentionLayer(Layer):\n",
        "    \"\"\"\n",
        "    This class implements Bahdanau attention (https://arxiv.org/pdf/1409.0473.pdf).\n",
        "    There are three sets of weights introduced W_a, U_a, and V_a\n",
        "     \"\"\"\n",
        "\n",
        "    def __init__(self, **kwargs):\n",
        "        super(AttentionLayer, self).__init__(**kwargs)\n",
        "\n",
        "    def build(self, input_shape):\n",
        "        assert isinstance(input_shape, list)\n",
        "        # Create a trainable weight variable for this layer.\n",
        "\n",
        "        self.W_a = self.add_weight(name='W_a',\n",
        "                                   shape=tf.TensorShape((input_shape[0][2], input_shape[0][2])),\n",
        "                                   initializer='uniform',\n",
        "                                   trainable=True)\n",
        "        self.U_a = self.add_weight(name='U_a',\n",
        "                                   shape=tf.TensorShape((input_shape[1][2], input_shape[0][2])),\n",
        "                                   initializer='uniform',\n",
        "                                   trainable=True)\n",
        "        self.V_a = self.add_weight(name='V_a',\n",
        "                                   shape=tf.TensorShape((input_shape[0][2], 1)),\n",
        "                                   initializer='uniform',\n",
        "                                   trainable=True)\n",
        "\n",
        "        super(AttentionLayer, self).build(input_shape)  # Be sure to call this at the end\n",
        "\n",
        "    def call(self, inputs, verbose=False):\n",
        "        \"\"\"\n",
        "        inputs: [encoder_output_sequence, decoder_output_sequence]\n",
        "        \"\"\"\n",
        "        assert type(inputs) == list\n",
        "        encoder_out_seq, decoder_out_seq = inputs\n",
        "        if verbose:\n",
        "            print('encoder_out_seq>', encoder_out_seq.shape)\n",
        "            print('decoder_out_seq>', decoder_out_seq.shape)\n",
        "\n",
        "        def energy_step(inputs, states):\n",
        "            \"\"\" Step function for computing energy for a single decoder state \"\"\"\n",
        "\n",
        "            assert_msg = \"States must be a list. However states {} is of type {}\".format(states, type(states))\n",
        "            assert isinstance(states, list) or isinstance(states, tuple), assert_msg\n",
        "\n",
        "            \"\"\" Some parameters required for shaping tensors\"\"\"\n",
        "            en_seq_len, en_hidden = encoder_out_seq.shape[1], encoder_out_seq.shape[2]\n",
        "            de_hidden = inputs.shape[-1]\n",
        "\n",
        "            \"\"\" Computing S.Wa where S=[s0, s1, ..., si]\"\"\"\n",
        "            # <= batch_size*en_seq_len, latent_dim\n",
        "            reshaped_enc_outputs = K.reshape(encoder_out_seq, (-1, en_hidden))\n",
        "            # <= batch_size*en_seq_len, latent_dim\n",
        "            W_a_dot_s = K.reshape(K.dot(reshaped_enc_outputs, self.W_a), (-1, en_seq_len, en_hidden))\n",
        "            if verbose:\n",
        "                print('wa.s>',W_a_dot_s.shape)\n",
        "\n",
        "            \"\"\" Computing hj.Ua \"\"\"\n",
        "            U_a_dot_h = K.expand_dims(K.dot(inputs, self.U_a), 1)  # <= batch_size, 1, latent_dim\n",
        "            if verbose:\n",
        "                print('Ua.h>',U_a_dot_h.shape)\n",
        "\n",
        "            \"\"\" tanh(S.Wa + hj.Ua) \"\"\"\n",
        "            # <= batch_size*en_seq_len, latent_dim\n",
        "            reshaped_Ws_plus_Uh = K.tanh(K.reshape(W_a_dot_s + U_a_dot_h, (-1, en_hidden)))\n",
        "            if verbose:\n",
        "                print('Ws+Uh>', reshaped_Ws_plus_Uh.shape)\n",
        "\n",
        "            \"\"\" softmax(va.tanh(S.Wa + hj.Ua)) \"\"\"\n",
        "            # <= batch_size, en_seq_len\n",
        "            e_i = K.reshape(K.dot(reshaped_Ws_plus_Uh, self.V_a), (-1, en_seq_len))\n",
        "            # <= batch_size, en_seq_len\n",
        "            e_i = K.softmax(e_i)\n",
        "\n",
        "            if verbose:\n",
        "                print('ei>', e_i.shape)\n",
        "\n",
        "            return e_i, [e_i]\n",
        "\n",
        "        def context_step(inputs, states):\n",
        "            \"\"\" Step function for computing ci using ei \"\"\"\n",
        "            # <= batch_size, hidden_size\n",
        "            c_i = K.sum(encoder_out_seq * K.expand_dims(inputs, -1), axis=1)\n",
        "            if verbose:\n",
        "                print('ci>', c_i.shape)\n",
        "            return c_i, [c_i]\n",
        "\n",
        "        def create_inital_state(inputs, hidden_size):\n",
        "            # We are not using initial states, but need to pass something to K.rnn funciton\n",
        "            fake_state = K.zeros_like(inputs)  # <= (batch_size, enc_seq_len, latent_dim\n",
        "            fake_state = K.sum(fake_state, axis=[1, 2])  # <= (batch_size)\n",
        "            fake_state = K.expand_dims(fake_state)  # <= (batch_size, 1)\n",
        "            fake_state = K.tile(fake_state, [1, hidden_size])  # <= (batch_size, latent_dim\n",
        "            return fake_state\n",
        "\n",
        "        fake_state_c = create_inital_state(encoder_out_seq, encoder_out_seq.shape[-1])\n",
        "        fake_state_e = create_inital_state(encoder_out_seq, encoder_out_seq.shape[1])  # <= (batch_size, enc_seq_len, latent_dim\n",
        "\n",
        "        \"\"\" Computing energy outputs \"\"\"\n",
        "        # e_outputs => (batch_size, de_seq_len, en_seq_len)\n",
        "        last_out, e_outputs, _ = K.rnn(\n",
        "            energy_step, decoder_out_seq, [fake_state_e],\n",
        "        )\n",
        "\n",
        "        \"\"\" Computing context vectors \"\"\"\n",
        "        last_out, c_outputs, _ = K.rnn(\n",
        "            context_step, e_outputs, [fake_state_c],\n",
        "        )\n",
        "\n",
        "        return c_outputs, e_outputs\n",
        "\n",
        "    def compute_output_shape(self, input_shape):\n",
        "        \"\"\" Outputs produced by the layer \"\"\"\n",
        "        return [\n",
        "            tf.TensorShape((input_shape[1][0], input_shape[1][1], input_shape[1][2])),\n",
        "            tf.TensorShape((input_shape[1][0], input_shape[1][1], input_shape[0][1]))\n",
        "        ]"
      ],
      "execution_count": null,
      "outputs": []
    },
    {
      "cell_type": "code",
      "metadata": {
        "id": "FXKJN9o0HZnw",
        "colab_type": "code",
        "colab": {
          "base_uri": "https://localhost:8080/",
          "height": 35
        },
        "outputId": "bf7b4222-c9f3-4e11-c0b1-648552e94420"
      },
      "source": [
        "import numpy as np  \n",
        "import pandas as pd \n",
        "import re           \n",
        "from bs4 import BeautifulSoup \n",
        "from keras.preprocessing.text import Tokenizer \n",
        "from keras.preprocessing.sequence import pad_sequences\n",
        "from nltk.corpus import stopwords   \n",
        "from tensorflow.keras.layers import Input, LSTM, Embedding, Dense, Concatenate, TimeDistributed, Bidirectional\n",
        "from tensorflow.keras.models import Model\n",
        "from tensorflow.keras.callbacks import EarlyStopping\n",
        "import warnings\n",
        "pd.set_option(\"display.max_colwidth\", 200)\n",
        "warnings.filterwarnings(\"ignore\")"
      ],
      "execution_count": null,
      "outputs": [
        {
          "output_type": "stream",
          "text": [
            "Using TensorFlow backend.\n"
          ],
          "name": "stderr"
        }
      ]
    },
    {
      "cell_type": "markdown",
      "metadata": {
        "id": "vIP1T_VVJG60",
        "colab_type": "text"
      },
      "source": [
        "# Setting up kaggle in Colab"
      ]
    },
    {
      "cell_type": "code",
      "metadata": {
        "id": "Tj44QtrsHzhc",
        "colab_type": "code",
        "colab": {
          "resources": {
            "http://localhost:8080/nbextensions/google.colab/files.js": {
              "data": "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",
              "ok": true,
              "headers": [
                [
                  "content-type",
                  "application/javascript"
                ]
              ],
              "status": 200,
              "status_text": ""
            }
          },
          "base_uri": "https://localhost:8080/",
          "height": 93
        },
        "outputId": "15c44e52-38a0-483d-8d68-db67297655cf"
      },
      "source": [
        "from google.colab import files\n",
        "files.upload()"
      ],
      "execution_count": null,
      "outputs": [
        {
          "output_type": "display_data",
          "data": {
            "text/html": [
              "\n",
              "     <input type=\"file\" id=\"files-157d0177-5005-4b08-a096-9c641d99e650\" name=\"files[]\" multiple disabled />\n",
              "     <output id=\"result-157d0177-5005-4b08-a096-9c641d99e650\">\n",
              "      Upload widget is only available when the cell has been executed in the\n",
              "      current browser session. Please rerun this cell to enable.\n",
              "      </output>\n",
              "      <script src=\"/nbextensions/google.colab/files.js\"></script> "
            ],
            "text/plain": [
              "<IPython.core.display.HTML object>"
            ]
          },
          "metadata": {
            "tags": []
          }
        },
        {
          "output_type": "stream",
          "text": [
            "Saving kaggle.json to kaggle.json\n"
          ],
          "name": "stdout"
        },
        {
          "output_type": "execute_result",
          "data": {
            "text/plain": [
              "{'kaggle.json': b'{\"username\":\"shubham128\",\"key\":\"366a4a597744726043c4aa64c8541ef2\"}'}"
            ]
          },
          "metadata": {
            "tags": []
          },
          "execution_count": 4
        }
      ]
    },
    {
      "cell_type": "code",
      "metadata": {
        "id": "Z1B3GPzqIXR8",
        "colab_type": "code",
        "colab": {}
      },
      "source": [
        "!pip install -q kaggle"
      ],
      "execution_count": null,
      "outputs": []
    },
    {
      "cell_type": "code",
      "metadata": {
        "id": "lrMTtiwfIknJ",
        "colab_type": "code",
        "colab": {}
      },
      "source": [
        "!mkdir -p ~/.kaggle\n",
        "!cp kaggle.json ~/.kaggle/"
      ],
      "execution_count": null,
      "outputs": []
    },
    {
      "cell_type": "code",
      "metadata": {
        "id": "zDpjTWsaIRTk",
        "colab_type": "code",
        "colab": {
          "base_uri": "https://localhost:8080/",
          "height": 87
        },
        "outputId": "dd056348-8d47-4cf9-dc1a-c4688d03efe7"
      },
      "source": [
        "!kaggle datasets download -d snap/amazon-fine-food-reviews"
      ],
      "execution_count": null,
      "outputs": [
        {
          "output_type": "stream",
          "text": [
            "Warning: Your Kaggle API key is readable by other users on this system! To fix this, you can run 'chmod 600 /root/.kaggle/kaggle.json'\n",
            "Downloading amazon-fine-food-reviews.zip to /content\n",
            " 99% 247M/251M [00:03<00:00, 98.1MB/s]\n",
            "100% 251M/251M [00:03<00:00, 77.5MB/s]\n"
          ],
          "name": "stdout"
        }
      ]
    },
    {
      "cell_type": "code",
      "metadata": {
        "id": "a1wQ8AGuItqO",
        "colab_type": "code",
        "colab": {
          "base_uri": "https://localhost:8080/",
          "height": 87
        },
        "outputId": "9893539b-7e3e-4e69-8fa2-3cdde1103ece"
      },
      "source": [
        "!unzip amazon-fine-food-reviews.zip "
      ],
      "execution_count": null,
      "outputs": [
        {
          "output_type": "stream",
          "text": [
            "Archive:  amazon-fine-food-reviews.zip\n",
            "  inflating: Reviews.csv             \n",
            "  inflating: database.sqlite         \n",
            "  inflating: hashes.txt              \n"
          ],
          "name": "stdout"
        }
      ]
    },
    {
      "cell_type": "markdown",
      "metadata": {
        "id": "zFxRIPApJfYV",
        "colab_type": "text"
      },
      "source": [
        "# Data Loading and Cleaning "
      ]
    },
    {
      "cell_type": "code",
      "metadata": {
        "id": "B5pDkkSIHZn_",
        "colab_type": "code",
        "colab": {}
      },
      "source": [
        "data=pd.read_csv(\"Reviews.csv\",nrows=100000)\n"
      ],
      "execution_count": null,
      "outputs": []
    },
    {
      "cell_type": "code",
      "metadata": {
        "id": "aKU9vFizHZoL",
        "colab_type": "code",
        "colab": {}
      },
      "source": [
        "data.drop_duplicates(subset=['Text'],inplace=True)\n",
        "data.dropna(axis=0,inplace=True) "
      ],
      "execution_count": null,
      "outputs": []
    },
    {
      "cell_type": "code",
      "metadata": {
        "id": "EpAf8U4fHZoV",
        "colab_type": "code",
        "colab": {}
      },
      "source": [
        "contraction_mapping = {\"ain't\": \"is not\", \"aren't\": \"are not\",\"can't\": \"cannot\", \"'cause\": \"because\", \"could've\": \"could have\", \"couldn't\": \"could not\",\n",
        "\n",
        "                           \"didn't\": \"did not\", \"doesn't\": \"does not\", \"don't\": \"do not\", \"hadn't\": \"had not\", \"hasn't\": \"has not\", \"haven't\": \"have not\",\n",
        "\n",
        "                           \"he'd\": \"he would\",\"he'll\": \"he will\", \"he's\": \"he is\", \"how'd\": \"how did\", \"how'd'y\": \"how do you\", \"how'll\": \"how will\", \"how's\": \"how is\",\n",
        "\n",
        "                           \"I'd\": \"I would\", \"I'd've\": \"I would have\", \"I'll\": \"I will\", \"I'll've\": \"I will have\",\"I'm\": \"I am\", \"I've\": \"I have\", \"i'd\": \"i would\",\n",
        "\n",
        "                           \"i'd've\": \"i would have\", \"i'll\": \"i will\",  \"i'll've\": \"i will have\",\"i'm\": \"i am\", \"i've\": \"i have\", \"isn't\": \"is not\", \"it'd\": \"it would\",\n",
        "\n",
        "                           \"it'd've\": \"it would have\", \"it'll\": \"it will\", \"it'll've\": \"it will have\",\"it's\": \"it is\", \"let's\": \"let us\", \"ma'am\": \"madam\",\n",
        "\n",
        "                           \"mayn't\": \"may not\", \"might've\": \"might have\",\"mightn't\": \"might not\",\"mightn't've\": \"might not have\", \"must've\": \"must have\",\n",
        "\n",
        "                           \"mustn't\": \"must not\", \"mustn't've\": \"must not have\", \"needn't\": \"need not\", \"needn't've\": \"need not have\",\"o'clock\": \"of the clock\",\n",
        "\n",
        "                           \"oughtn't\": \"ought not\", \"oughtn't've\": \"ought not have\", \"shan't\": \"shall not\", \"sha'n't\": \"shall not\", \"shan't've\": \"shall not have\",\n",
        "\n",
        "                           \"she'd\": \"she would\", \"she'd've\": \"she would have\", \"she'll\": \"she will\", \"she'll've\": \"she will have\", \"she's\": \"she is\",\n",
        "\n",
        "                           \"should've\": \"should have\", \"shouldn't\": \"should not\", \"shouldn't've\": \"should not have\", \"so've\": \"so have\",\"so's\": \"so as\",\n",
        "\n",
        "                           \"this's\": \"this is\",\"that'd\": \"that would\", \"that'd've\": \"that would have\", \"that's\": \"that is\", \"there'd\": \"there would\",\n",
        "\n",
        "                           \"there'd've\": \"there would have\", \"there's\": \"there is\", \"here's\": \"here is\",\"they'd\": \"they would\", \"they'd've\": \"they would have\",\n",
        "\n",
        "                           \"they'll\": \"they will\", \"they'll've\": \"they will have\", \"they're\": \"they are\", \"they've\": \"they have\", \"to've\": \"to have\",\n",
        "\n",
        "                           \"wasn't\": \"was not\", \"we'd\": \"we would\", \"we'd've\": \"we would have\", \"we'll\": \"we will\", \"we'll've\": \"we will have\", \"we're\": \"we are\",\n",
        "\n",
        "                           \"we've\": \"we have\", \"weren't\": \"were not\", \"what'll\": \"what will\", \"what'll've\": \"what will have\", \"what're\": \"what are\",\n",
        "\n",
        "                           \"what's\": \"what is\", \"what've\": \"what have\", \"when's\": \"when is\", \"when've\": \"when have\", \"where'd\": \"where did\", \"where's\": \"where is\",\n",
        "\n",
        "                           \"where've\": \"where have\", \"who'll\": \"who will\", \"who'll've\": \"who will have\", \"who's\": \"who is\", \"who've\": \"who have\",\n",
        "\n",
        "                           \"why's\": \"why is\", \"why've\": \"why have\", \"will've\": \"will have\", \"won't\": \"will not\", \"won't've\": \"will not have\",\n",
        "\n",
        "                           \"would've\": \"would have\", \"wouldn't\": \"would not\", \"wouldn't've\": \"would not have\", \"y'all\": \"you all\",\n",
        "\n",
        "                           \"y'all'd\": \"you all would\",\"y'all'd've\": \"you all would have\",\"y'all're\": \"you all are\",\"y'all've\": \"you all have\",\n",
        "\n",
        "                           \"you'd\": \"you would\", \"you'd've\": \"you would have\", \"you'll\": \"you will\", \"you'll've\": \"you will have\",\n",
        "\n",
        "                           \"you're\": \"you are\", \"you've\": \"you have\"}"
      ],
      "execution_count": null,
      "outputs": []
    },
    {
      "cell_type": "code",
      "metadata": {
        "id": "-kweo6SQHZog",
        "colab_type": "code",
        "colab": {
          "base_uri": "https://localhost:8080/",
          "height": 228
        },
        "outputId": "e787aaff-2069-4245-ccbf-55484174593e"
      },
      "source": [
        "data['Text'][:10]\n"
      ],
      "execution_count": null,
      "outputs": [
        {
          "output_type": "execute_result",
          "data": {
            "text/plain": [
              "0    I have bought several of the Vitality canned dog food products and have found them all to be of good quality. The product looks more like a stew than a processed meat and it smells better. My Labr...\n",
              "1             Product arrived labeled as Jumbo Salted Peanuts...the peanuts were actually small sized unsalted. Not sure if this was an error or if the vendor intended to represent the product as \"Jumbo\".\n",
              "2    This is a confection that has been around a few centuries.  It is a light, pillowy citrus gelatin with nuts - in this case Filberts. And it is cut into tiny squares and then liberally coated with ...\n",
              "3    If you are looking for the secret ingredient in Robitussin I believe I have found it.  I got this in addition to the Root Beer Extract I ordered (which was good) and made some cherry soda.  The fl...\n",
              "4                                                               Great taffy at a great price.  There was a wide assortment of yummy taffy.  Delivery was very quick.  If your a taffy lover, this is a deal.\n",
              "5    I got a wild hair for taffy and ordered this five pound bag. The taffy was all very enjoyable with many flavors: watermelon, root beer, melon, peppermint, grape, etc. My only complaint is there wa...\n",
              "6    This saltwater taffy had great flavors and was very soft and chewy.  Each candy was individually wrapped well.  None of the candies were stuck together, which did happen in the expensive version, ...\n",
              "7                                                               This taffy is so good.  It is very soft and chewy.  The flavors are amazing.  I would definitely recommend you buying it.  Very satisfying!!\n",
              "8                                                                        Right now I'm mostly just sprouting this so my cats can eat the grass. They love it. I rotate it around with Wheatgrass and Rye too\n",
              "9                                                                  This is a very healthy dog food. Good for their digestion. Also good for small puppies. My dog eats her required amount at every feeding.\n",
              "Name: Text, dtype: object"
            ]
          },
          "metadata": {
            "tags": []
          },
          "execution_count": 12
        }
      ]
    },
    {
      "cell_type": "code",
      "metadata": {
        "id": "VOYTsCQoJ-P6",
        "colab_type": "code",
        "colab": {
          "base_uri": "https://localhost:8080/",
          "height": 69
        },
        "outputId": "a36eb469-feff-4ea4-8777-91d15844aeb5"
      },
      "source": [
        "import nltk\n",
        "nltk.download(\"stopwords\")"
      ],
      "execution_count": null,
      "outputs": [
        {
          "output_type": "stream",
          "text": [
            "[nltk_data] Downloading package stopwords to /root/nltk_data...\n",
            "[nltk_data]   Unzipping corpora/stopwords.zip.\n"
          ],
          "name": "stdout"
        },
        {
          "output_type": "execute_result",
          "data": {
            "text/plain": [
              "True"
            ]
          },
          "metadata": {
            "tags": []
          },
          "execution_count": 13
        }
      ]
    },
    {
      "cell_type": "code",
      "metadata": {
        "id": "5L-zSf58HZo2",
        "colab_type": "code",
        "colab": {}
      },
      "source": [
        "stop_words = set(stopwords.words('english')) \n",
        "\n",
        "def text_cleaner(text,num):\n",
        "    newString = text.lower()\n",
        "    newString = BeautifulSoup(newString, \"lxml\").text\n",
        "    newString = re.sub(r'\\([^)]*\\)', '', newString)\n",
        "    newString = re.sub('\"','', newString)\n",
        "    newString = ' '.join([contraction_mapping[t] if t in contraction_mapping else t for t in newString.split(\" \")])    \n",
        "    newString = re.sub(r\"'s\\b\",\"\",newString)\n",
        "    newString = re.sub(\"[^a-zA-Z]\", \" \", newString) \n",
        "    newString = re.sub('[m]{2,}', 'mm', newString)\n",
        "    if(num==0):\n",
        "        tokens = [w for w in newString.split() if not w in stop_words]\n",
        "    else:\n",
        "        tokens=newString.split()\n",
        "    long_words=[]\n",
        "    for i in tokens:\n",
        "        if len(i)>1:                                                 \n",
        "            long_words.append(i)   \n",
        "    return (\" \".join(long_words)).strip()"
      ],
      "execution_count": null,
      "outputs": []
    },
    {
      "cell_type": "code",
      "metadata": {
        "id": "LXey87a4HZo9",
        "colab_type": "code",
        "colab": {}
      },
      "source": [
        "cleaned_text = []\n",
        "for t in data['Text']:\n",
        "    cleaned_text.append(text_cleaner(t,0))"
      ],
      "execution_count": null,
      "outputs": []
    },
    {
      "cell_type": "code",
      "metadata": {
        "id": "Zn6qn-DeHZpM",
        "colab_type": "code",
        "colab": {
          "base_uri": "https://localhost:8080/",
          "height": 124
        },
        "outputId": "1ea944e1-4717-408c-d8ce-5a15e6d10779"
      },
      "source": [
        "cleaned_text[:5]\n"
      ],
      "execution_count": null,
      "outputs": [
        {
          "output_type": "execute_result",
          "data": {
            "text/plain": [
              "['bought several vitality canned dog food products found good quality product looks like stew processed meat smells better labrador finicky appreciates product better',\n",
              " 'product arrived labeled jumbo salted peanuts peanuts actually small sized unsalted sure error vendor intended represent product jumbo',\n",
              " 'confection around centuries light pillowy citrus gelatin nuts case filberts cut tiny squares liberally coated powdered sugar tiny mouthful heaven chewy flavorful highly recommend yummy treat familiar story lewis lion witch wardrobe treat seduces edmund selling brother sisters witch',\n",
              " 'looking secret ingredient robitussin believe found got addition root beer extract ordered made cherry soda flavor medicinal',\n",
              " 'great taffy great price wide assortment yummy taffy delivery quick taffy lover deal']"
            ]
          },
          "metadata": {
            "tags": []
          },
          "execution_count": 16
        }
      ]
    },
    {
      "cell_type": "code",
      "metadata": {
        "id": "pE7qZDEtHZpa",
        "colab_type": "code",
        "colab": {}
      },
      "source": [
        "cleaned_summary = []\n",
        "for t in data['Summary']:\n",
        "    cleaned_summary.append(text_cleaner(t,1))"
      ],
      "execution_count": null,
      "outputs": []
    },
    {
      "cell_type": "code",
      "metadata": {
        "id": "ZiY2zaZSHZpm",
        "colab_type": "code",
        "colab": {
          "base_uri": "https://localhost:8080/",
          "height": 191
        },
        "outputId": "f3c94366-c238-4141-e23d-c3d471824134"
      },
      "source": [
        "cleaned_summary[:10]\n"
      ],
      "execution_count": null,
      "outputs": [
        {
          "output_type": "execute_result",
          "data": {
            "text/plain": [
              "['good quality dog food',\n",
              " 'not as advertised',\n",
              " 'delight says it all',\n",
              " 'cough medicine',\n",
              " 'great taffy',\n",
              " 'nice taffy',\n",
              " 'great just as good as the expensive brands',\n",
              " 'wonderful tasty taffy',\n",
              " 'yay barley',\n",
              " 'healthy dog food']"
            ]
          },
          "metadata": {
            "tags": []
          },
          "execution_count": 18
        }
      ]
    },
    {
      "cell_type": "code",
      "metadata": {
        "id": "8B564xnlHZp1",
        "colab_type": "code",
        "colab": {}
      },
      "source": [
        "data['cleaned_text']=cleaned_text\n",
        "data['cleaned_summary']=cleaned_summary"
      ],
      "execution_count": null,
      "outputs": []
    },
    {
      "cell_type": "code",
      "metadata": {
        "id": "1yxRe6kcHZp6",
        "colab_type": "code",
        "colab": {}
      },
      "source": [
        "data.replace('', np.nan, inplace=True)\n",
        "data.dropna(axis=0,inplace=True)"
      ],
      "execution_count": null,
      "outputs": []
    },
    {
      "cell_type": "code",
      "metadata": {
        "id": "c3NfGmO3HZqA",
        "colab_type": "code",
        "colab": {
          "base_uri": "https://localhost:8080/",
          "height": 1000
        },
        "outputId": "e39b0fd3-5a85-406f-8578-06fd530ed504"
      },
      "source": [
        "print(data)"
      ],
      "execution_count": null,
      "outputs": [
        {
          "output_type": "stream",
          "text": [
            "           Id  ...                                                        cleaned_summary\n",
            "0           1  ...                                                  good quality dog food\n",
            "1           2  ...                                                      not as advertised\n",
            "2           3  ...                                                    delight says it all\n",
            "3           4  ...                                                         cough medicine\n",
            "4           5  ...                                                            great taffy\n",
            "5           6  ...                                                             nice taffy\n",
            "6           7  ...                             great just as good as the expensive brands\n",
            "7           8  ...                                                  wonderful tasty taffy\n",
            "8           9  ...                                                             yay barley\n",
            "9          10  ...                                                       healthy dog food\n",
            "10         11  ...                                        the best hot sauce in the world\n",
            "11         12  ...             my cats love this diet food better than their regular food\n",
            "12         13  ...                                   my cats are not fans of the new food\n",
            "13         14  ...                                                       fresh and greasy\n",
            "14         15  ...                                             strawberry twizzlers yummy\n",
            "15         16  ...                                 lots of twizzlers just what you expect\n",
            "16         17  ...                                                             poor taste\n",
            "17         18  ...                                                                love it\n",
            "18         19  ...                                                      great sweet candy\n",
            "19         20  ...                                                home delivered twizlers\n",
            "20         21  ...                                                           always fresh\n",
            "21         22  ...                                                              twizzlers\n",
            "22         23  ...                                                      delicious product\n",
            "23         24  ...                                                              twizzlers\n",
            "24         25  ...                                            please sell these in mexico\n",
            "25         26  ...                                                   twizzlers strawberry\n",
            "26         27  ...                                                        nasty no flavor\n",
            "27         28  ...                                            great bargain for the price\n",
            "28         29  ...                                                                  yummy\n",
            "30         31  ...                                                          great machine\n",
            "...       ...  ...                                                                    ...\n",
            "99970   99971  ...                                                            sooooo good\n",
            "99971   99972  ...                                                      delicious noodles\n",
            "99972   99973  ...                                      great noodle texture spicy flavor\n",
            "99973   99974  ...                                                           supernoodles\n",
            "99974   99975  ...                                                       it hurts so good\n",
            "99975   99976  ...                                          the best noodle have ever had\n",
            "99976   99977  ...                                                                  spicy\n",
            "99977   99978  ...                                                                yum yum\n",
            "99978   99979  ...                                                            pretty good\n",
            "99979   99980  ...                                                        for adults only\n",
            "99980   99981  ...                                           nong shim shin noodles spicy\n",
            "99981   99982  ...                                       delicious noodle with good price\n",
            "99982   99983  ...                                                     very tasty noodles\n",
            "99983   99984  ...                                                    good deal at amazon\n",
            "99984   99985  ...                                            to steal tagline mm mm good\n",
            "99985   99986  ...                                                              nong shim\n",
            "99986   99987  ...                                      yummy al dente noodles in my bowl\n",
            "99987   99988  ...                                                 tastes very very awful\n",
            "99988   99989  ...                          what else can you ask for at discounted price\n",
            "99989   99990  ...                                                      this is the ramen\n",
            "99990   99991  ...                                                             over price\n",
            "99991   99992  ...                                                   wow just plain nasty\n",
            "99992   99993  ...                                 my new favorite ramen thanks to amazon\n",
            "99993   99994  ...                                                            great stuff\n",
            "99994   99995  ...                                                             good stuff\n",
            "99995   99996  ...                                                                  yummy\n",
            "99996   99997  ...                                                       tastes like more\n",
            "99997   99998  ...                                                            great ramen\n",
            "99998   99999  ...                                                                  spicy\n",
            "99999  100000  ...  this spicy noodle cures my cold upset stomach and headache every time\n",
            "\n",
            "[88351 rows x 12 columns]\n"
          ],
          "name": "stdout"
        }
      ]
    },
    {
      "cell_type": "code",
      "metadata": {
        "id": "PnBek5HhHZqE",
        "colab_type": "code",
        "colab": {
          "base_uri": "https://localhost:8080/",
          "height": 281
        },
        "outputId": "8b3f54e5-2613-451c-a539-3e73bb0cda7a"
      },
      "source": [
        "import matplotlib.pyplot as plt\n",
        "\n",
        "text_word_count = []\n",
        "summary_word_count = []\n",
        "\n",
        "# populate the lists with sentence lengths\n",
        "for i in data['cleaned_text']:\n",
        "      text_word_count.append(len(i.split()))\n",
        "\n",
        "for i in data['cleaned_summary']:\n",
        "      summary_word_count.append(len(i.split()))\n",
        "\n",
        "length_df = pd.DataFrame({'text_word_length vs freq':text_word_count, 'summary_word_length vs freq':summary_word_count})\n",
        "\n",
        "length_df.hist(bins = 30)\n",
        "plt.show()"
      ],
      "execution_count": null,
      "outputs": [
        {
          "output_type": "display_data",
          "data": {
            "image/png": "[encoded data removed]",
            "text/plain": [
              "<Figure size 432x288 with 2 Axes>"
            ]
          },
          "metadata": {
            "tags": []
          }
        }
      ]
    },
    {
      "cell_type": "code",
      "metadata": {
        "id": "6fvT6GSeHZqI",
        "colab_type": "code",
        "colab": {}
      },
      "source": [
        "max_text_len=80\n",
        "max_summary_len=40"
      ],
      "execution_count": null,
      "outputs": []
    },
    {
      "cell_type": "code",
      "metadata": {
        "id": "-KTfnlT0HZqN",
        "colab_type": "code",
        "colab": {
          "base_uri": "https://localhost:8080/",
          "height": 1000
        },
        "outputId": "982dea14-4640-442d-e4ac-bc160a5c3d6a"
      },
      "source": [
        "cleaned_text =np.array(data['cleaned_text'])\n",
        "cleaned_summary=np.array(data['cleaned_summary'])\n",
        "\n",
        "short_text=[]\n",
        "short_summary=[]\n",
        "\n",
        "for i in range(len(cleaned_text)):\n",
        "    if(len(cleaned_summary[i].split())<=max_summary_len and len(cleaned_text[i].split())<=max_text_len):\n",
        "        short_text.append(cleaned_text[i])\n",
        "        short_summary.append(cleaned_summary[i])\n",
        "        \n",
        "df=pd.DataFrame({'text':short_text,'summary':short_summary})\n",
        "print(df)"
      ],
      "execution_count": null,
      "outputs": [
        {
          "output_type": "stream",
          "text": [
            "                                                                                                                                                                                                          text                                                                summary\n",
            "0                                         bought several vitality canned dog food products found good quality product looks like stew processed meat smells better labrador finicky appreciates product better                                                  good quality dog food\n",
            "1                                                                        product arrived labeled jumbo salted peanuts peanuts actually small sized unsalted sure error vendor intended represent product jumbo                                                      not as advertised\n",
            "2      confection around centuries light pillowy citrus gelatin nuts case filberts cut tiny squares liberally coated powdered sugar tiny mouthful heaven chewy flavorful highly recommend yummy treat famil...                                                    delight says it all\n",
            "3                                                                                  looking secret ingredient robitussin believe found got addition root beer extract ordered made cherry soda flavor medicinal                                                         cough medicine\n",
            "4                                                                                                                          great taffy great price wide assortment yummy taffy delivery quick taffy lover deal                                                            great taffy\n",
            "5      got wild hair taffy ordered five pound bag taffy enjoyable many flavors watermelon root beer melon peppermint grape etc complaint bit much red black licorice flavored pieces kids husband lasted tw...                                                             nice taffy\n",
            "6      saltwater taffy great flavors soft chewy candy individually wrapped well none candies stuck together happen expensive version fralinger would highly recommend candy served beach themed party every...                             great just as good as the expensive brands\n",
            "7                                                                                                                           taffy good soft chewy flavors amazing would definitely recommend buying satisfying                                                  wonderful tasty taffy\n",
            "8                                                                                                                                      right mostly sprouting cats eat grass love rotate around wheatgrass rye                                                             yay barley\n",
            "9                                                                                                               healthy dog food good digestion also good small puppies dog eats required amount every feeding                                                       healthy dog food\n",
            "10     know cactus tequila unique combination ingredients flavour hot sauce makes one kind picked bottle trip brought back home us totally blown away realized simply could find anywhere city bummed magic...                                        the best hot sauce in the world\n",
            "11                             one boys needed lose weight put food floor chubby guy protein rich product food higher skinny boy jump higher food sits going stale really go food chubby boy losing ounce week             my cats love this diet food better than their regular food\n",
            "12     cats happily eating felidae platinum two years got new bag shape food different tried new food first put bowls bowls sit full kitties touch food noticed similar reviews related formula changes pas...                                   my cats are not fans of the new food\n",
            "13                                                                                                                                             good flavor came securely packed fresh delicious love twizzlers                                                       fresh and greasy\n",
            "14                                                                                                                                            strawberry twizzlers guilty pleasure yummy six pounds around son                                             strawberry twizzlers yummy\n",
            "15                                                                                         daughter loves twizzlers shipment six pounds really hit spot exactly would expect six packages strawberry twizzlers                                 lots of twizzlers just what you expect\n",
            "16                                                                                                 love eating good watching tv looking movies sweet like transfer zip lock baggie stay fresh take time eating                                                             poor taste\n",
            "17                                                                                                                                       satisfied twizzler purchase shared others enjoyed definitely ordering                                                                love it\n",
            "18     twizzlers strawberry childhood favorite candy made lancaster pennsylvania candies inc one oldest confectionery firms united states subsidiary hershey company company established young smylie also ...                                                      great sweet candy\n",
            "19                                                                                                                         candy delivered fast purchased reasonable price home bound unable get store perfect                                                home delivered twizlers\n",
            "20                                      husband twizzlers addict bought many times amazon government employees living overseas cannot get country assigned always fresh tasty packed well arrive timely manner                                                           always fresh\n",
            "21                                                   bought husband currently overseas loves apparently staff likes also generous amounts twizzlers ounce bag well worth price twizzlers strawberry ounce bags                                                              twizzlers\n",
            "22                                                                                                                           remember buying candy kid quality dropped years still superb product disappointed                                                      delicious product\n",
            "23                                                                                                                                                           love candy weight watchers cut back still craving                                                              twizzlers\n",
            "24                                                                               lived us yrs miss twizzlers go back visit someone visits always stock say yum sell mexico faithful buyer often able buy right                                            please sell these in mexico\n",
            "25                                                                                                                                                 product received advertised twizzlers strawberry ounce bags                                                   twizzlers strawberry\n",
            "26                                                                                                                                                                 candy red flavor plan chewy would never buy                                                        nasty no flavor\n",
            "27                                                                                              glad amazon carried batteries hard time finding elsewhere unique size need garage door opener great deal price                                            great bargain for the price\n",
            "28     got mum diabetic needs watch sugar intake father simply chooses limit unnecessary sugar intake one sweet tooth loved toffees would never guess sugar free great eat pretty much guilt free impressed...                                                                  yummy\n",
            "29     never huge coffee fan however mother purchased little machine talked trying latte macciato coffee shop better one like products little dolche guesto machine super easy use prepares really good cof...                                                          great machine\n",
            "...                                                                                                                                                                                                        ...                                                                    ...\n",
            "80163  noodles quick make quite tasty comes dried vegetables spicy seasoning made less minutes stovetop minutes water boil minutes cook fan spicy foods noodles little spicy use half packet cut back spici...                                           quick and tasty best noodles\n",
            "80164  spice flavor go hand hand usually add flavor packet make slightly soupy often discard little broth reduce sodium levels spare digestive tract ravages taste buds also great egg stirred near end cou...                                                            great taste\n",
            "80165         like spicy noodles really feel like taking time make comes really close instant noodle best boil water toss noodles add vegie kamaboko tofu actually look like fancy bowl noodles done less mins                                                                  tasty\n",
            "80166                                                   like spicy ramen noodles choice like ones husband used eat korea kid naturally love also pretty expensive stores amazon usually sells reasonable price                                                            sooooo good\n",
            "80167                                                                                                                                taste one bought asian supermarket recall chinese style noodles delicious                                                      delicious noodles\n",
            "80168  first kudos super saver shipping option got ordering two cases nong shim shin ramyun made affordable type superior three minute ramen one get especially hawaii food imported thus expensive become ...                                      great noodle texture spicy flavor\n",
            "80169  love hard think anything else cheap warming satisfying delicious use little water called directions add tablespoons dried diced bell peppers bit nutrition adding noodles packet contents noodles co...                                                           supernoodles\n",
            "80170                                                                                                                                             best noodle ever every time add eggs vegies try never forget                                          the best noodle have ever had\n",
            "80171  browsing amazon came across noodles realized noodles ages used eat time hard brick type noodles boil water minutes love spicy add spice almost everything eat lived middle far east cooked first pac...                                                                  spicy\n",
            "80172                                                                                                                         best tasting artery clogging high blood pressure inducing ramen ever tasted yumm                                                                yum yum\n",
            "80173  noodles fine filling make simple cheap meal vegetables slices meat eggs thrown spice packet bit overwhelming starting stick using quarter packet first dehydrated vegetables nice touch though take ...                                                            pretty good\n",
            "80174  first exposure shin ramyun years back japanese grocer available shin cups picked thought looked best seller almost cup became pricey treat feel love immediately hearty noodles rich fiery broth end...                                                        for adults only\n",
            "80175                                                                                                                    bought product strictly review others right noodles great way better top ramen buying                                           nong shim shin noodles spicy\n",
            "80176                                                                                                                      hot delicious noodle good although later found little cheaper local asian food mart                                       delicious noodle with good price\n",
            "80177                     say spicy tasty noodles wife loves noodles buys asian market miles away house happy amazon sells comparable price includes free shipping saves us expense hassle driving across town                                                     very tasty noodles\n",
            "80178  purchased noodle local supermarket years due rising cost everything got expensive ever please find amazon carry promotional offer paid lot less market delivery quick taste spicy put whole pack sea...                                                    good deal at amazon\n",
            "80179  stuff awesome right amount spice noodles much thicker flavorful standard pack stuff get wrong love regular top ramen much better throw left chicken frozen corn peas egg excellent meal add ice cold...                                            to steal tagline mm mm good\n",
            "80180  nong shim soup good spicy addicting really like chicken original spicy noodles yeah msg every soup including name brand soups like cambells chef boyardee lot salty foods list goes including chips ...                                                              nong shim\n",
            "80181                                                                                                                      apparently used much synthetic flavors burns tongue also much oil almost made choke                                                 tastes very very awful\n",
            "80182  stacks shin ramyun stored sold every korean airport duty free shops one complaining buying average buck bag extra spice needed really hot flavor cooking stone pot extra egg fresh kimchi beef bring...                          what else can you ask for at discounted price\n",
            "80183                                        several places around world including russia mongolia ask ramen ramen one give best tasty enhance flavor often throw shrimp mushroom sliced onion mucho delicious                                                      this is the ramen\n",
            "80184                                                                                                                                             item really price buy local asian grocery stores lot cheaper                                                             over price\n",
            "80185                                                                                                           would say noodles packaged product plain bad spice packet par whats expected noodles taste bad                                                   wow just plain nasty\n",
            "80186  originally decided purchase particular brand ramen seeing positive reviews amazon bit apprehensive first fearing would enjoy since never tried brand glad turned delicious spiciness although explai...                                 my new favorite ramen thanks to amazon\n",
            "80187                                                                                                                          stuff awesome best flavor boil water drain water add spice packet add hot water                                                            great stuff\n",
            "80188                                                                                                                                                                     love noodle little spicy wife perfct                                                             good stuff\n",
            "80189                                                                                                                                                                       love buy another box done last one                                                                  yummy\n",
            "80190                                                                                         favorite brand korean ramen spicy used eating spicy food make sure use spice pack add egg soup makes great snack                                                            great ramen\n",
            "80191  like noodles although say spicy somewhat understatement one else family tolerates spicy well seeing looking forward extra little something palate disappointed completely honest usually drain liqui...                                                                  spicy\n",
            "80192                                                                     love noodle twice week amazing thing feel well cold hot bowl noodle cure upset stomach headache running nose may work definitely try  this spicy noodle cures my cold upset stomach and headache every time\n",
            "\n",
            "[80193 rows x 2 columns]\n"
          ],
          "name": "stdout"
        }
      ]
    },
    {
      "cell_type": "code",
      "metadata": {
        "id": "UbrQ5T5AHZqR",
        "colab_type": "code",
        "colab": {}
      },
      "source": [
        "df['summary'] = df['summary'].apply(lambda x : 'sos '+ x +' fini')\n"
      ],
      "execution_count": null,
      "outputs": []
    },
    {
      "cell_type": "code",
      "metadata": {
        "id": "-4NZP2JNHZqY",
        "colab_type": "code",
        "colab": {
          "base_uri": "https://localhost:8080/",
          "height": 1000
        },
        "outputId": "9a495cd9-393a-4030-fd63-aeac2bf679ed"
      },
      "source": [
        "df[\"summary\"]"
      ],
      "execution_count": null,
      "outputs": [
        {
          "output_type": "execute_result",
          "data": {
            "text/plain": [
              "0                                                        sos good quality dog food fini\n",
              "1                                                            sos not as advertised fini\n",
              "2                                                          sos delight says it all fini\n",
              "3                                                               sos cough medicine fini\n",
              "4                                                                  sos great taffy fini\n",
              "5                                                                   sos nice taffy fini\n",
              "6                                   sos great just as good as the expensive brands fini\n",
              "7                                                        sos wonderful tasty taffy fini\n",
              "8                                                                   sos yay barley fini\n",
              "9                                                             sos healthy dog food fini\n",
              "10                                             sos the best hot sauce in the world fini\n",
              "11                  sos my cats love this diet food better than their regular food fini\n",
              "12                                        sos my cats are not fans of the new food fini\n",
              "13                                                            sos fresh and greasy fini\n",
              "14                                                  sos strawberry twizzlers yummy fini\n",
              "15                                      sos lots of twizzlers just what you expect fini\n",
              "16                                                                  sos poor taste fini\n",
              "17                                                                     sos love it fini\n",
              "18                                                           sos great sweet candy fini\n",
              "19                                                     sos home delivered twizlers fini\n",
              "20                                                                sos always fresh fini\n",
              "21                                                                   sos twizzlers fini\n",
              "22                                                           sos delicious product fini\n",
              "23                                                                   sos twizzlers fini\n",
              "24                                                 sos please sell these in mexico fini\n",
              "25                                                        sos twizzlers strawberry fini\n",
              "26                                                             sos nasty no flavor fini\n",
              "27                                                 sos great bargain for the price fini\n",
              "28                                                                       sos yummy fini\n",
              "29                                                               sos great machine fini\n",
              "                                              ...                                      \n",
              "80163                                             sos quick and tasty best noodles fini\n",
              "80164                                                              sos great taste fini\n",
              "80165                                                                    sos tasty fini\n",
              "80166                                                              sos sooooo good fini\n",
              "80167                                                        sos delicious noodles fini\n",
              "80168                                        sos great noodle texture spicy flavor fini\n",
              "80169                                                             sos supernoodles fini\n",
              "80170                                            sos the best noodle have ever had fini\n",
              "80171                                                                    sos spicy fini\n",
              "80172                                                                  sos yum yum fini\n",
              "80173                                                              sos pretty good fini\n",
              "80174                                                          sos for adults only fini\n",
              "80175                                             sos nong shim shin noodles spicy fini\n",
              "80176                                         sos delicious noodle with good price fini\n",
              "80177                                                       sos very tasty noodles fini\n",
              "80178                                                      sos good deal at amazon fini\n",
              "80179                                              sos to steal tagline mm mm good fini\n",
              "80180                                                                sos nong shim fini\n",
              "80181                                                   sos tastes very very awful fini\n",
              "80182                            sos what else can you ask for at discounted price fini\n",
              "80183                                                        sos this is the ramen fini\n",
              "80184                                                               sos over price fini\n",
              "80185                                                     sos wow just plain nasty fini\n",
              "80186                                   sos my new favorite ramen thanks to amazon fini\n",
              "80187                                                              sos great stuff fini\n",
              "80188                                                               sos good stuff fini\n",
              "80189                                                                    sos yummy fini\n",
              "80190                                                              sos great ramen fini\n",
              "80191                                                                    sos spicy fini\n",
              "80192    sos this spicy noodle cures my cold upset stomach and headache every time fini\n",
              "Name: summary, Length: 80193, dtype: object"
            ]
          },
          "metadata": {
            "tags": []
          },
          "execution_count": 28
        }
      ]
    },
    {
      "cell_type": "markdown",
      "metadata": {
        "id": "YB2jc8PrOmSv",
        "colab_type": "text"
      },
      "source": [
        "# Train Model"
      ]
    },
    {
      "cell_type": "code",
      "metadata": {
        "id": "dFV0_F6yHZqk",
        "colab_type": "code",
        "colab": {}
      },
      "source": [
        "from sklearn.model_selection import train_test_split\n",
        "x_tr,x_val,y_tr,y_val=train_test_split(np.array(df['text']),np.array(df['summary']),test_size=0.2,random_state=0,shuffle=True)"
      ],
      "execution_count": null,
      "outputs": []
    },
    {
      "cell_type": "code",
      "metadata": {
        "id": "Ieab9YF5HZqp",
        "colab_type": "code",
        "colab": {}
      },
      "source": [
        "from keras.preprocessing.text import Tokenizer \n",
        "from keras.preprocessing.sequence import pad_sequences\n",
        "\n",
        "x_tokenizer = Tokenizer() \n",
        "x_tokenizer.fit_on_texts(list(x_tr))"
      ],
      "execution_count": null,
      "outputs": []
    },
    {
      "cell_type": "code",
      "metadata": {
        "id": "Z6wa9e0EHZq1",
        "colab_type": "code",
        "colab": {}
      },
      "source": [
        "thresh=4\n",
        "\n",
        "cnt=0\n",
        "tot_cnt=0\n",
        "freq=0\n",
        "tot_freq=0\n",
        "\n",
        "for key,value in x_tokenizer.word_counts.items():\n",
        "    tot_cnt=tot_cnt+1\n",
        "    tot_freq=tot_freq+value\n",
        "    if(value<thresh):\n",
        "        cnt=cnt+1\n",
        "        freq=freq+value"
      ],
      "execution_count": null,
      "outputs": []
    },
    {
      "cell_type": "code",
      "metadata": {
        "id": "ylnJFRPbHZq9",
        "colab_type": "code",
        "colab": {}
      },
      "source": [
        "x_tokenizer = Tokenizer(num_words=tot_cnt-cnt) \n",
        "x_tokenizer.fit_on_texts(list(x_tr))\n",
        "\n",
        "x_tr_seq    =   x_tokenizer.texts_to_sequences(x_tr) \n",
        "x_val_seq   =   x_tokenizer.texts_to_sequences(x_val)\n",
        "\n",
        "x_tr    =   pad_sequences(x_tr_seq,  maxlen=max_text_len, padding='post')\n",
        "x_val   =   pad_sequences(x_val_seq, maxlen=max_text_len, padding='post')\n",
        "\n",
        "x_voc   =  x_tokenizer.num_words + 1"
      ],
      "execution_count": null,
      "outputs": []
    },
    {
      "cell_type": "code",
      "metadata": {
        "id": "Kreq11wFHZrJ",
        "colab_type": "code",
        "colab": {
          "base_uri": "https://localhost:8080/",
          "height": 35
        },
        "outputId": "b8a7eadd-e491-40b3-90d0-524753c4e690"
      },
      "source": [
        "x_voc"
      ],
      "execution_count": null,
      "outputs": [
        {
          "output_type": "execute_result",
          "data": {
            "text/plain": [
              "14092"
            ]
          },
          "metadata": {
            "tags": []
          },
          "execution_count": 33
        }
      ]
    },
    {
      "cell_type": "code",
      "metadata": {
        "id": "RF2kBZKRHZrU",
        "colab_type": "code",
        "colab": {}
      },
      "source": [
        "y_tokenizer = Tokenizer()   \n",
        "y_tokenizer.fit_on_texts(list(y_tr))"
      ],
      "execution_count": null,
      "outputs": []
    },
    {
      "cell_type": "code",
      "metadata": {
        "id": "hraaAaM-HZrf",
        "colab_type": "code",
        "colab": {}
      },
      "source": [
        "thresh=3\n",
        "\n",
        "cnt=0\n",
        "tot_cnt=0\n",
        "freq=0\n",
        "tot_freq=0\n",
        "\n",
        "for key,value in y_tokenizer.word_counts.items():\n",
        "    tot_cnt=tot_cnt+1\n",
        "    tot_freq=tot_freq+value\n",
        "    if(value<thresh):\n",
        "        cnt=cnt+1\n",
        "        freq=freq+value"
      ],
      "execution_count": null,
      "outputs": []
    },
    {
      "cell_type": "code",
      "metadata": {
        "id": "TOoTkOzvHZrp",
        "colab_type": "code",
        "colab": {}
      },
      "source": [
        "y_tokenizer = Tokenizer(num_words=tot_cnt-cnt) \n",
        "y_tokenizer.fit_on_texts(list(y_tr))\n",
        "\n",
        "#convert text sequences into integer sequences\n",
        "y_tr_seq    =   y_tokenizer.texts_to_sequences(y_tr) \n",
        "y_val_seq   =   y_tokenizer.texts_to_sequences(y_val) \n",
        "\n",
        "#padding zero upto maximum length\n",
        "y_tr    =   pad_sequences(y_tr_seq, maxlen=max_summary_len, padding='post')\n",
        "y_val   =   pad_sequences(y_val_seq, maxlen=max_summary_len, padding='post')\n",
        "\n",
        "#size of vocabulary\n",
        "y_voc  =   y_tokenizer.num_words +1"
      ],
      "execution_count": null,
      "outputs": []
    },
    {
      "cell_type": "code",
      "metadata": {
        "id": "6nuzHqcDHZry",
        "colab_type": "code",
        "colab": {
          "base_uri": "https://localhost:8080/",
          "height": 35
        },
        "outputId": "27257ea0-f2bf-42a1-eaf2-d9f231edd367"
      },
      "source": [
        "y_tokenizer.word_counts['sos'],len(y_tr)\n"
      ],
      "execution_count": null,
      "outputs": [
        {
          "output_type": "execute_result",
          "data": {
            "text/plain": [
              "(64154, 64154)"
            ]
          },
          "metadata": {
            "tags": []
          },
          "execution_count": 37
        }
      ]
    },
    {
      "cell_type": "code",
      "metadata": {
        "id": "bs8OD9jvHZr1",
        "colab_type": "code",
        "colab": {}
      },
      "source": [
        "ind=[]\n",
        "for i in range(len(y_tr)):\n",
        "    cnt=0\n",
        "    for j in y_tr[i]:\n",
        "        if j!=0:\n",
        "            cnt=cnt+1\n",
        "    if(cnt==2):\n",
        "        ind.append(i)\n",
        "\n",
        "y_tr=np.delete(y_tr,ind, axis=0)\n",
        "x_tr=np.delete(x_tr,ind, axis=0)"
      ],
      "execution_count": null,
      "outputs": []
    },
    {
      "cell_type": "code",
      "metadata": {
        "id": "t5Au_vW5HZr8",
        "colab_type": "code",
        "colab": {}
      },
      "source": [
        "ind=[]\n",
        "for i in range(len(y_val)):\n",
        "    cnt=0\n",
        "    for j in y_val[i]:\n",
        "        if j!=0:\n",
        "            cnt=cnt+1\n",
        "    if(cnt==2):\n",
        "        ind.append(i)\n",
        "\n",
        "y_val=np.delete(y_val,ind, axis=0)\n",
        "x_val=np.delete(x_val,ind, axis=0)"
      ],
      "execution_count": null,
      "outputs": []
    },
    {
      "cell_type": "code",
      "metadata": {
        "id": "hs-jw8NcHZsH",
        "colab_type": "code",
        "colab": {
          "base_uri": "https://localhost:8080/",
          "height": 956
        },
        "outputId": "f27486be-71cb-44e9-dcee-4920f883a60f"
      },
      "source": [
        "from keras import backend as K \n",
        "K.clear_session()\n",
        "\n",
        "latent_dim = 300\n",
        "embedding_dim=100\n",
        "\n",
        "encoder_inputs = Input(shape=(max_text_len,))\n",
        "\n",
        "enc_emb =  Embedding(x_voc, embedding_dim,trainable=True)(encoder_inputs)\n",
        "\n",
        "encoder_lstm1 = LSTM(latent_dim,return_sequences=True,return_state=True,dropout=0.4,recurrent_dropout=0.4)\n",
        "encoder_output1, state_h1, state_c1 = encoder_lstm1(enc_emb)\n",
        "\n",
        "encoder_lstm2 = LSTM(latent_dim,return_sequences=True,return_state=True,dropout=0.4,recurrent_dropout=0.4)\n",
        "encoder_output2, state_h2, state_c2 = encoder_lstm2(encoder_output1)\n",
        "\n",
        "encoder_lstm3=LSTM(latent_dim, return_state=True, return_sequences=True,dropout=0.4,recurrent_dropout=0.4)\n",
        "encoder_outputs, state_h, state_c= encoder_lstm3(encoder_output2)\n",
        "\n",
        "decoder_inputs = Input(shape=(None,))\n",
        "\n",
        "dec_emb_layer = Embedding(y_voc, embedding_dim,trainable=True)\n",
        "dec_emb = dec_emb_layer(decoder_inputs)\n",
        "\n",
        "decoder_lstm = LSTM(latent_dim, return_sequences=True, return_state=True,dropout=0.4,recurrent_dropout=0.2)\n",
        "decoder_outputs,decoder_fwd_state, decoder_back_state = decoder_lstm(dec_emb,initial_state=[state_h, state_c])\n",
        "\n",
        "attn_layer = AttentionLayer(name='attention_layer')\n",
        "attn_out, attn_states = attn_layer([encoder_outputs, decoder_outputs])\n",
        "\n",
        "decoder_concat_input = Concatenate(axis=-1, name='concat_layer')([decoder_outputs, attn_out])\n",
        "\n",
        "decoder_dense =  TimeDistributed(Dense(y_voc, activation='softmax'))\n",
        "decoder_outputs = decoder_dense(decoder_concat_input)\n",
        "\n",
        "model = Model([encoder_inputs, decoder_inputs], decoder_outputs)\n",
        "\n",
        "model.summary()"
      ],
      "execution_count": null,
      "outputs": [
        {
          "output_type": "stream",
          "text": [
            "WARNING: Logging before flag parsing goes to stderr.\n",
            "W0709 05:36:07.665064 140434294847360 deprecation_wrapper.py:119] From /usr/local/lib/python3.6/dist-packages/keras/backend/tensorflow_backend.py:95: The name tf.reset_default_graph is deprecated. Please use tf.compat.v1.reset_default_graph instead.\n",
            "\n",
            "W0709 05:36:07.667214 140434294847360 deprecation_wrapper.py:119] From /usr/local/lib/python3.6/dist-packages/keras/backend/tensorflow_backend.py:98: The name tf.placeholder_with_default is deprecated. Please use tf.compat.v1.placeholder_with_default instead.\n",
            "\n",
            "W0709 05:36:07.710679 140434294847360 deprecation_wrapper.py:119] From /usr/local/lib/python3.6/dist-packages/keras/backend/tensorflow_backend.py:102: The name tf.get_default_graph is deprecated. Please use tf.compat.v1.get_default_graph instead.\n",
            "\n",
            "W0709 05:36:07.723042 140434294847360 deprecation.py:506] From /usr/local/lib/python3.6/dist-packages/tensorflow/python/keras/initializers.py:119: calling RandomUniform.__init__ (from tensorflow.python.ops.init_ops) with dtype is deprecated and will be removed in a future version.\n",
            "Instructions for updating:\n",
            "Call initializer instance with the dtype argument instead of passing it to the constructor\n",
            "W0709 05:36:07.747737 140434294847360 deprecation.py:506] From /usr/local/lib/python3.6/dist-packages/tensorflow/python/ops/init_ops.py:1251: calling VarianceScaling.__init__ (from tensorflow.python.ops.init_ops) with dtype is deprecated and will be removed in a future version.\n",
            "Instructions for updating:\n",
            "Call initializer instance with the dtype argument instead of passing it to the constructor\n",
            "W0709 05:36:10.730130 140434294847360 ag_logging.py:145] Entity <function rnn at 0x7fb91e47ff28> could not be transformed and will be executed as-is. Please report this to the AutgoGraph team. When filing the bug, set the verbosity to 10 (on Linux, `export AUTOGRAPH_VERBOSITY=10`) and attach the full output. Cause: The global keyword is not yet supported.\n",
            "W0709 05:36:10.882905 140434294847360 deprecation_wrapper.py:119] From /usr/local/lib/python3.6/dist-packages/tensorflow/python/autograph/converters/directives.py:117: The name tf.sparse_tensor_dense_matmul is deprecated. Please use tf.sparse.sparse_dense_matmul instead.\n",
            "\n"
          ],
          "name": "stderr"
        },
        {
          "output_type": "stream",
          "text": [
            "WARNING: Entity <function rnn at 0x7fb91e47ff28> could not be transformed and will be executed as-is. Please report this to the AutgoGraph team. When filing the bug, set the verbosity to 10 (on Linux, `export AUTOGRAPH_VERBOSITY=10`) and attach the full output. Cause: The global keyword is not yet supported.\n"
          ],
          "name": "stdout"
        },
        {
          "output_type": "stream",
          "text": [
            "W0709 05:36:11.929670 140434294847360 ag_logging.py:145] Entity <function rnn at 0x7fb91e47ff28> could not be transformed and will be executed as-is. Please report this to the AutgoGraph team. When filing the bug, set the verbosity to 10 (on Linux, `export AUTOGRAPH_VERBOSITY=10`) and attach the full output. Cause: The global keyword is not yet supported.\n"
          ],
          "name": "stderr"
        },
        {
          "output_type": "stream",
          "text": [
            "WARNING: Entity <function rnn at 0x7fb91e47ff28> could not be transformed and will be executed as-is. Please report this to the AutgoGraph team. When filing the bug, set the verbosity to 10 (on Linux, `export AUTOGRAPH_VERBOSITY=10`) and attach the full output. Cause: The global keyword is not yet supported.\n",
            "Model: \"model\"\n",
            "__________________________________________________________________________________________________\n",
            "Layer (type)                    Output Shape         Param #     Connected to                     \n",
            "==================================================================================================\n",
            "input_1 (InputLayer)            [(None, 80)]         0                                            \n",
            "__________________________________________________________________________________________________\n",
            "embedding (Embedding)           (None, 80, 100)      1409200     input_1[0][0]                    \n",
            "__________________________________________________________________________________________________\n",
            "lstm (LSTM)                     [(None, 80, 300), (N 481200      embedding[0][0]                  \n",
            "__________________________________________________________________________________________________\n",
            "input_2 (InputLayer)            [(None, None)]       0                                            \n",
            "__________________________________________________________________________________________________\n",
            "lstm_1 (LSTM)                   [(None, 80, 300), (N 721200      lstm[0][0]                       \n",
            "__________________________________________________________________________________________________\n",
            "embedding_1 (Embedding)         (None, None, 100)    462600      input_2[0][0]                    \n",
            "__________________________________________________________________________________________________\n",
            "lstm_2 (LSTM)                   [(None, 80, 300), (N 721200      lstm_1[0][0]                     \n",
            "__________________________________________________________________________________________________\n",
            "lstm_3 (LSTM)                   [(None, None, 300),  481200      embedding_1[0][0]                \n",
            "                                                                 lstm_2[0][1]                     \n",
            "                                                                 lstm_2[0][2]                     \n",
            "__________________________________________________________________________________________________\n",
            "attention_layer (AttentionLayer ((None, None, 300),  180300      lstm_2[0][0]                     \n",
            "                                                                 lstm_3[0][0]                     \n",
            "__________________________________________________________________________________________________\n",
            "concat_layer (Concatenate)      (None, None, 600)    0           lstm_3[0][0]                     \n",
            "                                                                 attention_layer[0][0]            \n",
            "__________________________________________________________________________________________________\n",
            "time_distributed (TimeDistribut (None, None, 4626)   2780226     concat_layer[0][0]               \n",
            "==================================================================================================\n",
            "Total params: 7,237,126\n",
            "Trainable params: 7,237,126\n",
            "Non-trainable params: 0\n",
            "__________________________________________________________________________________________________\n"
          ],
          "name": "stdout"
        }
      ]
    },
    {
      "cell_type": "code",
      "metadata": {
        "id": "ImCmSNLxHZsQ",
        "colab_type": "code",
        "colab": {}
      },
      "source": [
        "model.compile(optimizer='rmsprop', loss='sparse_categorical_crossentropy')"
      ],
      "execution_count": null,
      "outputs": []
    },
    {
      "cell_type": "code",
      "metadata": {
        "id": "u1QdCFjHHZsb",
        "colab_type": "code",
        "colab": {}
      },
      "source": [
        "es = EarlyStopping(monitor='val_loss', mode='min', verbose=1,patience=2)\n"
      ],
      "execution_count": null,
      "outputs": []
    },
    {
      "cell_type": "code",
      "metadata": {
        "id": "qAnCAIb_HZse",
        "colab_type": "code",
        "colab": {
          "base_uri": "https://localhost:8080/",
          "height": 453
        },
        "outputId": "e82187e9-f25a-4c38-dce6-99a49ce71445"
      },
      "source": [
        "history=model.fit([x_tr,y_tr[:,:-1]], y_tr.reshape(y_tr.shape[0],y_tr.shape[1], 1)[:,1:] ,epochs=10,callbacks=[es],batch_size=128, validation_data=([x_val,y_val[:,:-1]], y_val.reshape(y_val.shape[0],y_val.shape[1], 1)[:,1:]))\n"
      ],
      "execution_count": null,
      "outputs": [
        {
          "output_type": "stream",
          "text": [
            "W0709 05:36:17.289042 140434294847360 deprecation.py:323] From /usr/local/lib/python3.6/dist-packages/tensorflow/python/ops/math_grad.py:1250: add_dispatch_support.<locals>.wrapper (from tensorflow.python.ops.array_ops) is deprecated and will be removed in a future version.\n",
            "Instructions for updating:\n",
            "Use tf.where in 2.0, which has the same broadcast rule as np.where\n"
          ],
          "name": "stderr"
        },
        {
          "output_type": "stream",
          "text": [
            "Train on 63445 samples, validate on 15807 samples\n",
            "Epoch 1/10\n",
            "63445/63445 [==============================] - 550s 9ms/sample - loss: 0.6957 - val_loss: 0.5894\n",
            "Epoch 2/10\n",
            "63445/63445 [==============================] - 545s 9ms/sample - loss: 0.5853 - val_loss: 0.5516\n",
            "Epoch 3/10\n",
            "63445/63445 [==============================] - 545s 9ms/sample - loss: 0.5516 - val_loss: 0.5263\n",
            "Epoch 4/10\n",
            "63445/63445 [==============================] - 544s 9ms/sample - loss: 0.5303 - val_loss: 0.5134\n",
            "Epoch 5/10\n",
            "63445/63445 [==============================] - 543s 9ms/sample - loss: 0.5162 - val_loss: 0.5042\n",
            "Epoch 6/10\n",
            "63445/63445 [==============================] - 540s 9ms/sample - loss: 0.5056 - val_loss: 0.4969\n",
            "Epoch 7/10\n",
            "63445/63445 [==============================] - 538s 8ms/sample - loss: 0.4965 - val_loss: 0.4910\n",
            "Epoch 8/10\n",
            "63445/63445 [==============================] - 540s 9ms/sample - loss: 0.4884 - val_loss: 0.4861\n",
            "Epoch 9/10\n",
            "63445/63445 [==============================] - 540s 9ms/sample - loss: 0.4812 - val_loss: 0.4834\n",
            "Epoch 10/10\n",
            "63445/63445 [==============================] - 540s 9ms/sample - loss: 0.4753 - val_loss: 0.4821\n"
          ],
          "name": "stdout"
        }
      ]
    },
    {
      "cell_type": "code",
      "metadata": {
        "id": "pwsu4CeDHZsm",
        "colab_type": "code",
        "colab": {
          "base_uri": "https://localhost:8080/",
          "height": 269
        },
        "outputId": "3ff96863-eb39-4fec-d9c0-223727cac99c"
      },
      "source": [
        "from matplotlib import pyplot\n",
        "pyplot.plot(history.history['loss'], label='train')\n",
        "pyplot.plot(history.history['val_loss'], label='test')\n",
        "pyplot.legend()\n",
        "pyplot.show()"
      ],
      "execution_count": null,
      "outputs": [
        {
          "output_type": "display_data",
          "data": {
            "image/png": "[encoded data removed]",
            "text/plain": [
              "<Figure size 432x288 with 1 Axes>"
            ]
          },
          "metadata": {
            "tags": []
          }
        }
      ]
    },
    {
      "cell_type": "markdown",
      "metadata": {
        "id": "nsni8BqzPQPJ",
        "colab_type": "text"
      },
      "source": [
        "# Word index"
      ]
    },
    {
      "cell_type": "code",
      "metadata": {
        "id": "NSrery1YHZsq",
        "colab_type": "code",
        "colab": {}
      },
      "source": [
        "reverse_target_word_index=y_tokenizer.index_word\n",
        "reverse_source_word_index=x_tokenizer.index_word\n",
        "target_word_index=y_tokenizer.word_index"
      ],
      "execution_count": null,
      "outputs": []
    },
    {
      "cell_type": "code",
      "metadata": {
        "id": "sk7z8sxZHZsy",
        "colab_type": "code",
        "colab": {
          "base_uri": "https://localhost:8080/",
          "height": 55
        },
        "outputId": "ab5b5bda-10b4-490d-e5c7-2850a1c2be5e"
      },
      "source": [
        "print(target_word_index)"
      ],
      "execution_count": null,
      "outputs": [
        {
          "output_type": "stream",
          "text": [
            "{'sos': 1, 'fini': 2, 'great': 3, 'good': 4, 'the': 5, 'not': 6, 'for': 7, 'and': 8, 'best': 9, 'it': 10, 'my': 11, 'love': 12, 'but': 13, 'this': 14, 'is': 15, 'coffee': 16, 'tea': 17, 'to': 18, 'product': 19, 'delicious': 20, 'of': 21, 'taste': 22, 'very': 23, 'dog': 24, 'like': 25, 'in': 26, 'excellent': 27, 'flavor': 28, 'these': 29, 'tasty': 30, 'yummy': 31, 'price': 32, 'food': 33, 'you': 34, 'too': 35, 'favorite': 36, 'ever': 37, 'as': 38, 'with': 39, 'so': 40, 'are': 41, 'loves': 42, 'stuff': 43, 'on': 44, 'snack': 45, 'dogs': 46, 'just': 47, 'better': 48, 'have': 49, 'chocolate': 50, 'healthy': 51, 'awesome': 52, 'no': 53, 'them': 54, 'free': 55, 'than': 56, 'tastes': 57, 'perfect': 58, 'nice': 59, 'yum': 60, 'sweet': 61, 'what': 62, 'do': 63, 'really': 64, 'at': 65, 'bad': 66, 'treat': 67, 'wonderful': 68, 'tasting': 69, 'one': 70, 'quality': 71, 'all': 72, 'buy': 73, 'treats': 74, 'cup': 75, 'me': 76, 'your': 77, 'hot': 78, 'little': 79, 'cat': 80, 'be': 81, 'chips': 82, 'amazing': 83, 'they': 84, 'from': 85, 'easy': 86, 'will': 87, 'sugar': 88, 'that': 89, 'popcorn': 90, 'much': 91, 'gluten': 92, 'if': 93, 'more': 94, 'mix': 95, 'ok': 96, 'organic': 97, 'was': 98, 'value': 99, 'pretty': 100, 'way': 101, 'cats': 102, 'drink': 103, 'cookies': 104, 'can': 105, 'amazon': 106, 'green': 107, 'does': 108, 'low': 109, 'only': 110, 'works': 111, 'fantastic': 112, 'cereal': 113, 'strong': 114, 'out': 115, 'or': 116, 'up': 117, 'deal': 118, 'happy': 119, 'salt': 120, 'candy': 121, 'did': 122, 'real': 123, 'cannot': 124, 'eat': 125, 'rice': 126, 'sauce': 127, 'our': 128, 'bar': 129, 'go': 130, 'get': 131, 'an': 132, 'fresh': 133, 'baby': 134, 'made': 135, 'bars': 136, 'expensive': 137, 'pasta': 138, 'time': 139, 'loved': 140, 'bread': 141, 'would': 142, 'hard': 143, 'had': 144, 'high': 145, 'oil': 146, 'alternative': 147, 'cups': 148, 'find': 149, 'new': 150, 'old': 151, 'there': 152, 'quick': 153, 'dark': 154, 'water': 155, 'gift': 156, 'wow': 157, 'well': 158, 'disappointed': 159, 'natural': 160, 'service': 161, 'worth': 162, 'energy': 163, 'review': 164, 'by': 165, 'super': 166, 'syrup': 167, 'breakfast': 168, 'expected': 169, 'spicy': 170, 'okay': 171, 'blend': 172, 'smooth': 173, 'packaging': 174, 'small': 175, 'use': 176, 'am': 177, 'ginger': 178, 'decaf': 179, 'coconut': 180, 'bit': 181, 'soup': 182, 'big': 183, 'makes': 184, 'salty': 185, 'money': 186, 'milk': 187, 'kids': 188, 'without': 189, 'has': 190, 'refreshing': 191, 'butter': 192, 'again': 193, 'shipping': 194, 'some': 195, 'convenient': 196, 'chicken': 197, 'we': 198, 'could': 199, 'chai': 200, 'mm': 201, 'make': 202, 'fast': 203, 'light': 204, 'right': 205, 'beware': 206, 'nothing': 207, 'other': 208, 'horrible': 209, 'jerky': 210, 'black': 211, 'roast': 212, 'far': 213, 'enough': 214, 'item': 215, 'found': 216, 'terrible': 217, 'absolutely': 218, 'even': 219, 'dry': 220, 'vanilla': 221, 'crackers': 222, 'greenies': 223, 'cheese': 224, 'peanut': 225, 'stale': 226, 'work': 227, 'bold': 228, 'about': 229, 'cookie': 230, 'cocoa': 231, 'gum': 232, 'fruit': 233, 'nuts': 234, 'bag': 235, 'noodles': 236, 'honey': 237, 'now': 238, 'white': 239, 'try': 240, 'decent': 241, 'bitter': 242, 'awful': 243, 'juice': 244, 'ingredients': 245, 'beef': 246, 'its': 247, 'keurig': 248, 'poor': 249, 'rich': 250, 'still': 251, 'most': 252, 'soda': 253, 'flavored': 254, 'whole': 255, 'when': 256, 'protein': 257, 'meal': 258, 'size': 259, 'beans': 260, 'crunchy': 261, 'must': 262, 'flavorful': 263, 'toy': 264, 'fun': 265, 'thing': 266, 'flavors': 267, 'over': 268, 'pricey': 269, 'pack': 270, 'after': 271, 'texture': 272, 'weak': 273, 'simply': 274, 'choice': 275, 'stars': 276, 'back': 277, 'order': 278, 'long': 279, 'different': 280, 'addictive': 281, 'yuck': 282, 'wrong': 283, 'cheaper': 284, 'store': 285, 'likes': 286, 'another': 287, 'first': 288, 'less': 289, 'special': 290, 'never': 291, 'off': 292, 'got': 293, 'cans': 294, 'instant': 295, 'oatmeal': 296, 'granola': 297, 'chews': 298, 'tasted': 299, 'how': 300, 'fine': 301, 'used': 302, 'market': 303, 'training': 304, 'tried': 305, 'em': 306, 'french': 307, 'brand': 308, 'were': 309, 'disappointing': 310, 'fat': 311, 'fabulous': 312, 'day': 313, 'finally': 314, 'diet': 315, 'overpriced': 316, 'oh': 317, 'pop': 318, 'why': 319, 'puppy': 320, 'pumpkin': 321, 'seeds': 322, 'down': 323, 'substitute': 324, 'kind': 325, 'need': 326, 'box': 327, 'goodness': 328, 'who': 329, 'wheat': 330, 'variety': 331, 'quite': 332, 'snacks': 333, 'always': 334, 'house': 335, 'every': 336, 'around': 337, 'worst': 338, 'customer': 339, 'pleased': 340, 'same': 341, 'picky': 342, 'world': 343, 'waste': 344, 'seasoning': 345, 'licorice': 346, 'almost': 347, 'full': 348, 'bears': 349, 'gf': 350, 'nut': 351, 'pepper': 352, 'lovers': 353, 'almonds': 354, 'lemon': 355, 'bags': 356, 'regular': 357, 'cherry': 358, 'spice': 359, 'son': 360, 'home': 361, 'iced': 362, 'red': 363, 'dried': 364, 'family': 365, 'purchase': 366, 'olive': 367, 'own': 368, 'recommended': 369, 'surprisingly': 370, 'chip': 371, 'think': 372, 'calorie': 373, 'want': 374, 'canned': 375, 'something': 376, 'heaven': 377, 'any': 378, 'carb': 379, 'mild': 380, 'here': 381, 'soft': 382, 'china': 383, 'espresso': 384, 'pure': 385, 'idea': 386, 'many': 387, 'life': 388, 'potato': 389, 'calories': 390, 'hit': 391, 'bland': 392, 'yet': 393, 'wish': 394, 'powder': 395, 'cheap': 396, 'liked': 397, 'morning': 398, 'formula': 399, 'say': 400, 'smells': 401, 'outstanding': 402, 'delivery': 403, 'delish': 404, 'chili': 405, 'brown': 406, 'should': 407, 'sure': 408, 'exactly': 409, 'yumm': 410, 'corn': 411, 'maple': 412, 'health': 413, 'where': 414, 'two': 415, 'know': 416, 'smell': 417, 'sour': 418, 'lover': 419, 'grey': 420, 'gross': 421, 'last': 422, 'cake': 423, 'lot': 424, 'oz': 425, 'highly': 426, 'chewy': 427, 'crunch': 428, 'starbucks': 429, 'option': 430, 'eating': 431, 'original': 432, 'please': 433, 'filling': 434, 'package': 435, 'bought': 436, 'crazy': 437, 'pork': 438, 'aftertaste': 439, 'arrived': 440, 'gummi': 441, 'been': 442, 'cinnamon': 443, 'says': 444, 'orange': 445, 'dented': 446, 'ice': 447, 'simple': 448, 'weight': 449, 'nasty': 450, 'cream': 451, 'those': 452, 'average': 453, 'satisfying': 454, 'products': 455, 'disgusting': 456, 'ounce': 457, 'yes': 458, 'their': 459, 'earl': 460, 'date': 461, 'fan': 462, 'teeth': 463, 'chew': 464, 'blue': 465, 'looking': 466, 'acid': 467, 'raw': 468, 'company': 469, 'mountain': 470, 'fiber': 471, 'apple': 472, 'broken': 473, 'everything': 474, 'warning': 475, 'baking': 476, 'earth': 477, 'miracle': 478, 'mustard': 479, 'thank': 480, 'artificial': 481, 'kitty': 482, 'things': 483, 'plastic': 484, 'popchips': 485, 'newman': 486, 'lots': 487, 'ordered': 488, 'misleading': 489, 'terrific': 490, 'noodle': 491, 'large': 492, 'needs': 493, 'soy': 494, 'give': 495, 'delight': 496, 'nutritious': 497, 'though': 498, 'mint': 499, 'addicted': 500, 'contains': 501, 'available': 502, 'advertised': 503, 'stomach': 504, 'hair': 505, 'us': 506, 'husband': 507, 'daughter': 508, 'change': 509, 'mini': 510, 'non': 511, 'clean': 512, 'bbq': 513, 'almond': 514, 'salmon': 515, 'bite': 516, 'banana': 517, 'pie': 518, 'satisfied': 519, 'doggie': 520, 'live': 521, 'away': 522, 'gummy': 523, 'flour': 524, 'nom': 525, 'actually': 526, 'extra': 527, 'star': 528, 'plus': 529, 'gourmet': 530, 'cooking': 531, 'brew': 532, 'thought': 533, 'dental': 534, 'switch': 535, 'keep': 536, 'priced': 537, 'wild': 538, 'biscuits': 539, 'teas': 540, 'grain': 541, 'top': 542, 'pancakes': 543, 'impressed': 544, 'recipe': 545, 'lunch': 546, 'bay': 547, 'goes': 548, 'brownies': 549, 'addicting': 550, 'cold': 551, 'thin': 552, 'mixed': 553, 'pleasant': 554, 'definitely': 555, 'rip': 556, 'packs': 557, 'wanted': 558, 'aroma': 559, 'changed': 560, 'peanuts': 561, 'kick': 562, 'then': 563, 'cracker': 564, 'beautiful': 565, 'dinner': 566, 'may': 567, 'fish': 568, 'maybe': 569, 'medium': 570, 'added': 571, 'year': 572, 'italian': 573, 'lipton': 574, 'meh': 575, 'pet': 576, 'foods': 577, 'greatest': 578, 'stevia': 579, 'delightful': 580, 'interesting': 581, 'cost': 582, 'people': 583, 'dressing': 584, 'save': 585, 'haribo': 586, 'homemade': 587, 'true': 588, 'years': 589, 'problems': 590, 'strawberry': 591, 'creamy': 592, 'bran': 593, 'seems': 594, 'omg': 595, 'rocks': 596, 'sticks': 597, 'received': 598, 'help': 599, 'san': 600, 'curry': 601, 'add': 602, 'vegan': 603, 'nutrition': 604, 'else': 605, 'vinegar': 606, 'cheesy': 607, 'reviews': 608, 'care': 609, 'bean': 610, 'beverage': 611, 'surprise': 612, 'sea': 613, 'pizza': 614, 'close': 615, 'replacement': 616, 'machine': 617, 'unique': 618, 'boxes': 619, 'looks': 620, 'packaged': 621, 'lovely': 622, 'keeps': 623, 'crispy': 624, 'salad': 625, 'seller': 626, 'expiration': 627, 'stores': 628, 'tree': 629, 'rinds': 630, 'pods': 631, 'favorites': 632, 'pb': 633, 'plain': 634, 'english': 635, 'winner': 636, 'superb': 637, 'tart': 638, 'truly': 639, 'meat': 640, 'wine': 641, 'huge': 642, 'gold': 643, 'take': 644, 'kid': 645, 'sodium': 646, 'extremely': 647, 'crack': 648, 'hands': 649, 'making': 650, 'thanks': 651, 'everyone': 652, 'staple': 653, 'roasted': 654, 'sick': 655, 'half': 656, 'classic': 657, 'cute': 658, 'enjoy': 659, 'healthier': 660, 'hate': 661, 'convenience': 662, 'into': 663, 'raspberry': 664, 'name': 665, 'shampoo': 666, 'allergies': 667, 'ingredient': 668, 'premium': 669, 'bottle': 670, 'mouth': 671, 'berry': 672, 'totally': 673, 'buyer': 674, 'per': 675, 'francisco': 676, 'anything': 677, 'start': 678, 'feel': 679, 'others': 680, 'kit': 681, 'glad': 682, 'microwave': 683, 'look': 684, 'brownie': 685, 'description': 686, 'disappointment': 687, 'versatile': 688, 'msg': 689, 'gone': 690, 'fruity': 691, 'mom': 692, 'chocolates': 693, 'mango': 694, 'busy': 695, 'she': 696, 'drinks': 697, 'everyday': 698, 'buying': 699, 'melted': 700, 'sensitive': 701, 'count': 702, 'read': 703, 'version': 704, 'bones': 705, 'wife': 706, 'darn': 707, 'slightly': 708, 'magic': 709, 'hour': 710, 'extract': 711, 'toddler': 712, 'before': 713, 'cashews': 714, 'balance': 715, 'kona': 716, 'baked': 717, 'difference': 718, 'worked': 719, 'smaller': 720, 'style': 721, 'caffeine': 722, 'surprised': 723, 'tasteless': 724, 'smart': 725, 'grass': 726, 'mess': 727, 'believe': 728, 'dr': 729, 'caramel': 730, 'recommend': 731, 'solid': 732, 'lime': 733, 'hazelnut': 734, 'problem': 735, 'watch': 736, 'weird': 737, 'short': 738, 'ones': 739, 'while': 740, 'brands': 741, 'ground': 742, 'incredible': 743, 'peach': 744, 'open': 745, 'tuna': 746, 'tough': 747, 'absolute': 748, 'babies': 749, 'instead': 750, 'ramen': 751, 'damaged': 752, 'plant': 753, 'strange': 754, 'jelly': 755, 'beer': 756, 'pick': 757, 'handy': 758, 'rock': 759, 'perfectly': 760, 'second': 761, 'summer': 762, 'come': 763, 'stash': 764, 'loose': 765, 'rub': 766, 'paws': 767, 'approved': 768, 'heat': 769, 'going': 770, 'pup': 771, 'berries': 772, 'cherries': 773, 'addition': 774, 'helps': 775, 'thai': 776, 'local': 777, 'movie': 778, 'saver': 779, 'prefer': 780, 'herbal': 781, 'source': 782, 'gets': 783, 'edible': 784, 'tully': 785, 'mints': 786, 'cool': 787, 'sweetener': 788, 'three': 789, 'finicky': 790, 'stop': 791, 'fair': 792, 'agave': 793, 'paste': 794, 'zico': 795, 'superior': 796, 'guilt': 797, 'dont': 798, 'taco': 799, 'bacon': 800, 'grocery': 801, 'he': 802, 'remember': 803, 'effective': 804, 'stick': 805, 'raisins': 806, 'vegetarian': 807, 'friendly': 808, 'gravy': 809, 'batch': 810, 'nutty': 811, 'dessert': 812, 'tummy': 813, 'leaf': 814, 'five': 815, 'tangy': 816, 'expired': 817, 'zero': 818, 'picture': 819, 'bisquick': 820, 'pecan': 821, 'garlic': 822, 'being': 823, 'both': 824, 'affordable': 825, 'also': 826, 'days': 827, 'described': 828, 'kashi': 829, 'pieces': 830, 'gave': 831, 'authentic': 832, 'daily': 833, 'senseo': 834, 'theater': 835, 'bonsai': 836, 'month': 837, 'chef': 838, 'needed': 839, 'stay': 840, 'pretzels': 841, 'bring': 842, 'side': 843, 'messy': 844, 'experience': 845, 'leaves': 846, 'shipped': 847, 'few': 848, 'com': 849, 'nature': 850, 'kitchen': 851, 'job': 852, 'false': 853, 'pamela': 854, 'enjoyed': 855, 'advertising': 856, 'joe': 857, 'bulk': 858, 'eh': 859, 'bottles': 860, 'cal': 861, 'lab': 862, 'quickly': 863, 'pictured': 864, 'crystal': 865, 'touch': 866, 'mediocre': 867, 'gotta': 868, 'pancake': 869, 'tomato': 870, 'spices': 871, 'beat': 872, 'nectar': 873, 'watery': 874, 'friend': 875, 'thick': 876, 'eater': 877, 'hoped': 878, 'sticky': 879, 'illy': 880, 'boost': 881, 'candies': 882, 'twinings': 883, 'planet': 884, 'addiction': 885, 'dairy': 886, 'blueberry': 887, 'dream': 888, 'bites': 889, 'liver': 890, 'online': 891, 'pudding': 892, 'bone': 893, 'amount': 894, 'robust': 895, 'bargain': 896, 'fog': 897, 'cook': 898, 'coffe': 899, 'purpose': 900, 'shake': 901, 'seed': 902, 'wonderfully': 903, 'eats': 904, 'quaker': 905, 'prunes': 906, 'scrumptious': 907, 'fix': 908, 'cafe': 909, 'pay': 910, 'lower': 911, 'allergy': 912, 'christmas': 913, 'odd': 914, 'miss': 915, 'breath': 916, 'color': 917, 'put': 918, 'steak': 919, 'country': 920, 'crisp': 921, 'sardines': 922, 'sooo': 923, 'gummies': 924, 'hooked': 925, 'ate': 926, 'control': 927, 'broccoli': 928, 'basic': 929, 'veggie': 930, 'yogurt': 931, 'bpa': 932, 'muffins': 933, 'pricing': 934, 'tiny': 935, 'chewers': 936, 'grape': 937, 'jack': 938, 'basket': 939, 'party': 940, 'call': 941, 'results': 942, 'delicous': 943, 'liquid': 944, 'coffees': 945, 'rate': 946, 'enjoyable': 947, 'jam': 948, 'balanced': 949, 'anyone': 950, 'thumbs': 951, 'hips': 952, 'amazingly': 953, 'such': 954, 'packing': 955, 'issues': 956, 'mac': 957, 'getting': 958, 'case': 959, 'heavenly': 960, 'kitties': 961, 'powdered': 962, 'grains': 963, 'yuk': 964, 'standard': 965, 'coco': 966, 'condition': 967, 'punch': 968, 'flavoring': 969, 'pill': 970, 'careful': 971, 'packages': 972, 'storage': 973, 'puck': 974, 'man': 975, 'carbonated': 976, 'grade': 977, 'increase': 978, 'dissapointed': 979, 'kinda': 980, 'tips': 981, 'drinker': 982, 'raisin': 983, 'said': 984, 'assortment': 985, 'using': 986, 'her': 987, 'once': 988, 'matcha': 989, 'fake': 990, 'reasonable': 991, 'hamburger': 992, 'caribou': 993, 'memories': 994, 'golden': 995, 'serving': 996, 'expect': 997, 'wolfgang': 998, 'cacao': 999, 'pops': 1000, 'american': 1001, 'rancid': 1002, 'toffee': 1003, 'might': 1004, 'gives': 1005, 'usa': 1006, 'since': 1007, 'through': 1008, 'turkey': 1009, 'hershey': 1010, 'tender': 1011, 'moldy': 1012, 'longer': 1013, 'check': 1014, 'ridiculous': 1015, 'lb': 1016, 'lamb': 1017, 'pound': 1018, 'god': 1019, 'cet': 1020, 'run': 1021, 'purchased': 1022, 'helper': 1023, 'older': 1024, 'because': 1025, 'agree': 1026, 'veggies': 1027, 'yogi': 1028, 'roll': 1029, 'childhood': 1030, 'office': 1031, 'pomegranate': 1032, 'combination': 1033, 'puffs': 1034, 'acidic': 1035, 'holiday': 1036, 'night': 1037, 'wait': 1038, 'sesame': 1039, 'truffle': 1040, 'seriously': 1041, 'single': 1042, 'sent': 1043, 'cheez': 1044, 'rawhide': 1045, 'anytime': 1046, 'line': 1047, 'hibiscus': 1048, 'wellness': 1049, 'drinking': 1050, 'somewhat': 1051, 'design': 1052, 'perfection': 1053, 'gas': 1054, 'mill': 1055, 'crust': 1056, 'let': 1057, 'moist': 1058, 'shipment': 1059, 'alright': 1060, 'easier': 1061, 'german': 1062, 'months': 1063, 'adults': 1064, 'northern': 1065, 'probably': 1066, 'ketchup': 1067, 'list': 1068, 'brewers': 1069, 'went': 1070, 'each': 1071, 'missing': 1072, 'period': 1073, 'latte': 1074, 'soooo': 1075, 'none': 1076, 'exceptional': 1077, 'chipotle': 1078, 'yay': 1079, 'broth': 1080, 'jug': 1081, 'lasting': 1082, 'past': 1083, 'pantry': 1084, 'dish': 1085, 'anymore': 1086, 'truffles': 1087, 'safe': 1088, 'pg': 1089, 'umm': 1090, 'trail': 1091, 'chaser': 1092, 'least': 1093, 'especially': 1094, 'eaten': 1095, 'four': 1096, 'salsa': 1097, 'except': 1098, 'secret': 1099, 'spoiled': 1100, 'subtle': 1101, 'gums': 1102, 'mostly': 1103, 'tell': 1104, 'kiwi': 1105, 'dangerous': 1106, 'jar': 1107, 'doggy': 1108, 'double': 1109, 'indeed': 1110, 'minty': 1111, 'pleasantly': 1112, 'cheddar': 1113, 'skin': 1114, 'fudge': 1115, 'waffles': 1116, 'expectations': 1117, 'overly': 1118, 'beyond': 1119, 'waffle': 1120, 'naturals': 1121, 'soothing': 1122, 'wholesome': 1123, 'heavy': 1124, 'selection': 1125, 'power': 1126, 'label': 1127, 'zuke': 1128, 'prepare': 1129, 'walnuts': 1130, 'spot': 1131, 'delivered': 1132, 'bob': 1133, 'kcup': 1134, 'spiced': 1135, 'canidae': 1136, 'durable': 1137, 'altoids': 1138, 'caution': 1139, 'diabetic': 1140, 'larger': 1141, 'starter': 1142, 'shelf': 1143, 'sorry': 1144, 'hand': 1145, 'vita': 1146, 'rather': 1147, 'deceptive': 1148, 'pleasure': 1149, 'mother': 1150, 'belly': 1151, 'anywhere': 1152, 'kettle': 1153, 'snacking': 1154, 'prices': 1155, 'chemical': 1156, 'uses': 1157, 'combo': 1158, 'yourself': 1159, 'cardboard': 1160, 'tortilla': 1161, 'pups': 1162, 'buddy': 1163, 'marinade': 1164, 'hint': 1165, 'body': 1166, 'see': 1167, 'cashew': 1168, 'grow': 1169, 'hates': 1170, 'recipes': 1171, 'holy': 1172, 'maxwell': 1173, 'sf': 1174, 'apples': 1175, 'bigelow': 1176, 'bell': 1177, 'chia': 1178, 'complete': 1179, 'maker': 1180, 'medicine': 1181, 'tassimo': 1182, 'licious': 1183, 'de': 1184, 'completely': 1185, 'lindt': 1186, 'covered': 1187, 'mrs': 1188, 'peppermint': 1189, 'costco': 1190, 'broke': 1191, 'content': 1192, 'vs': 1193, 'supplement': 1194, 'incredibly': 1195, 'tug': 1196, 'outrageous': 1197, 'cuppa': 1198, 'minutes': 1199, 'puppies': 1200, 'deliciousness': 1201, 'girl': 1202, 'garbage': 1203, 'royal': 1204, 'wake': 1205, 'scent': 1206, 'potatoes': 1207, 'serious': 1208, 'diamond': 1209, 'dieters': 1210, 'fave': 1211, 'nutritional': 1212, 'fit': 1213, 'base': 1214, 're': 1215, 'ship': 1216, 'sweetened': 1217, 'chocolatey': 1218, 'worse': 1219, 'buck': 1220, 'school': 1221, 'mocha': 1222, 'donut': 1223, 'naturally': 1224, 'avoid': 1225, 'bowl': 1226, 'soups': 1227, 'dogswell': 1228, 'valley': 1229, 'sugary': 1230, 'hated': 1231, 'part': 1232, 'yellow': 1233, 'pink': 1234, 'paris': 1235, 'catnip': 1236, 'toddlers': 1237, 'farms': 1238, 'strips': 1239, 'sized': 1240, 'solution': 1241, 'ordering': 1242, 'fancy': 1243, 'ghee': 1244, 'ready': 1245, 'belgian': 1246, 'larabar': 1247, 'olives': 1248, 'bugs': 1249, 'tastey': 1250, 'vet': 1251, 'diabetics': 1252, 'lasts': 1253, 'kraft': 1254, 'egg': 1255, 'sunflower': 1256, 'spearmint': 1257, 'spaghetti': 1258, 'savory': 1259, 'taffy': 1260, 'bigger': 1261, 'pockets': 1262, 'kefir': 1263, 'came': 1264, 'shot': 1265, 'greasy': 1266, 'crumbs': 1267, 'travel': 1268, 'consistency': 1269, 'king': 1270, 'indian': 1271, 'upset': 1272, 'peas': 1273, 'awsome': 1274, 'creme': 1275, 'sooooo': 1276, 'fear': 1277, 'pleaser': 1278, 'oily': 1279, 'meals': 1280, 'pets': 1281, 'comes': 1282, 'restaurant': 1283, 'fragrant': 1284, 'heart': 1285, 'stinky': 1286, 'fav': 1287, 'caviar': 1288, 'nantucket': 1289, 'goat': 1290, 'rating': 1291, 'flowers': 1292, 'twice': 1293, 'die': 1294, 'usual': 1295, 'helped': 1296, 'trying': 1297, 'easily': 1298, 'his': 1299, 'ranch': 1300, 'comfort': 1301, 'allergic': 1302, 'shop': 1303, 'seasonings': 1304, 'concentrate': 1305, 'rose': 1306, 'improved': 1307, 'next': 1308, 'pass': 1309, 'container': 1310, 'times': 1311, 'cut': 1312, 'sweetness': 1313, 'subscribe': 1314, 'typical': 1315, 'pineapple': 1316, 'aid': 1317, 'sparkling': 1318, 'relief': 1319, 'smoked': 1320, 'peppers': 1321, 'oats': 1322, 'seem': 1323, 'aromatic': 1324, 'flat': 1325, 'rest': 1326, 'kcups': 1327, 'nd': 1328, 'buffalo': 1329, 'pod': 1330, 'return': 1331, 'tooth': 1332, 'happened': 1333, 'college': 1334, 'carbs': 1335, 'nearly': 1336, 'clear': 1337, 'addict': 1338, 'organics': 1339, 'slow': 1340, 'disposakups': 1341, 'sweetner': 1342, 'balsamic': 1343, 'elsewhere': 1344, 'gingerbread': 1345, 'ears': 1346, 'hearty': 1347, 'crisps': 1348, 'someone': 1349, 'feast': 1350, 'pricy': 1351, 'ball': 1352, 'brewer': 1353, 'drops': 1354, 'barely': 1355, 'freeze': 1356, 'cappuccino': 1357, 'rope': 1358, 'supposed': 1359, 'forever': 1360, 'vendor': 1361, 'benefits': 1362, 'yucky': 1363, 'winter': 1364, 'fries': 1365, 'ages': 1366, 'choc': 1367, 'la': 1368, 'mayo': 1369, 'bake': 1370, 'creamer': 1371, 'pace': 1372, 'lemonade': 1373, 'jalapeno': 1374, 'folgers': 1375, 'biscuit': 1376, 'crumbly': 1377, 'done': 1378, 'sampler': 1379, 'lucky': 1380, 'sausage': 1381, 'quantity': 1382, 'mixes': 1383, 'contain': 1384, 'vegetable': 1385, 'overpowering': 1386, 'word': 1387, 'concept': 1388, 'dishes': 1389, 'portion': 1390, 'packets': 1391, 'throat': 1392, 'feed': 1393, 'kellogg': 1394, 'unhappy': 1395, 'buds': 1396, 'knew': 1397, 'digestive': 1398, 'damn': 1399, 'traditional': 1400, 'locally': 1401, 'fairly': 1402, 'test': 1403, 'place': 1404, 'xylitol': 1405, 'incorrect': 1406, 'serve': 1407, 'listed': 1408, 'loving': 1409, 'packed': 1410, 'yeah': 1411, 'grits': 1412, 'sandwich': 1413, 'smoothies': 1414, 'fooled': 1415, 'air': 1416, 'rules': 1417, 'relaxing': 1418, 'acquired': 1419, 'filter': 1420, 'supermarket': 1421, 'however': 1422, 'senior': 1423, 'bomb': 1424, 'michael': 1425, 'grilled': 1426, 'working': 1427, 'loss': 1428, 'opinion': 1429, 'saved': 1430, 'curls': 1431, 'onion': 1432, 'drop': 1433, 'chihuahua': 1434, 'expecting': 1435, 'fans': 1436, 'fishy': 1437, 'takes': 1438, 'ms': 1439, 'lean': 1440, 'issimo': 1441, 'sucralose': 1442, 'pot': 1443, 'end': 1444, 'diets': 1445, 'kidding': 1446, 'angel': 1447, 'six': 1448, 'info': 1449, 'smoky': 1450, 'lacks': 1451, 'root': 1452, 'boy': 1453, 'mellow': 1454, 'burnt': 1455, 'bang': 1456, 'hmm': 1457, 'tin': 1458, 'normal': 1459, 'bits': 1460, 'condiment': 1461, 'bitterness': 1462, 'reliable': 1463, 'ruined': 1464, 'options': 1465, 'warm': 1466, 'lavender': 1467, 'movies': 1468, 'lost': 1469, 'animal': 1470, 'alert': 1471, 'meow': 1472, 'deep': 1473, 'stock': 1474, 'doggies': 1475, 'wasabi': 1476, 'giving': 1477, 'sprouts': 1478, 'um': 1479, 'pouch': 1480, 'key': 1481, 'wonder': 1482, 'deliciously': 1483, 'jasmine': 1484, 'compared': 1485, 'bliss': 1486, 'bed': 1487, 'set': 1488, 'bait': 1489, 'tomatoes': 1490, 'friends': 1491, 'crushed': 1492, 'mate': 1493, 'mexican': 1494, 'hours': 1495, 'ugh': 1496, 'spread': 1497, 'powerful': 1498, 'unpleasant': 1499, 'flakes': 1500, 'gnats': 1501, 'mistake': 1502, 'inedible': 1503, 'door': 1504, 'junk': 1505, 'move': 1506, 'conditioner': 1507, 'funny': 1508, 'cough': 1509, 'velveeta': 1510, 'costs': 1511, 'fried': 1512, 'difficult': 1513, 'cow': 1514, 'flavorless': 1515, 'don': 1516, 'basmati': 1517, 'lacking': 1518, 'chewing': 1519, 'questionable': 1520, 'economical': 1521, 'booty': 1522, 'cheerios': 1523, 'lasted': 1524, 'frozen': 1525, 'feeling': 1526, 'citrus': 1527, 'remembered': 1528, 'excelent': 1529, 'lite': 1530, 'barley': 1531, 'chinese': 1532, 'bear': 1533, 'greek': 1534, 'cereals': 1535, 'pretzel': 1536, 'cranberry': 1537, 'walnut': 1538, 'grown': 1539, 'children': 1540, 'threw': 1541, 'fall': 1542, 'amish': 1543, 'early': 1544, 'gods': 1545, 'italy': 1546, 'van': 1547, 'adult': 1548, 'bother': 1549, 'hits': 1550, 'birthday': 1551, 'lady': 1552, 'dents': 1553, 'hawaiian': 1554, 'grove': 1555, 'during': 1556, 'reminds': 1557, 'himalayan': 1558, 'blood': 1559, 'toast': 1560, 'yuban': 1561, 'portable': 1562, 'salted': 1563, 'repeat': 1564, 'mighty': 1565, 'moms': 1566, 'savings': 1567, 'sale': 1568, 'adds': 1569, 'excellant': 1570, 'mine': 1571, 'unbelievably': 1572, 'smokehouse': 1573, 'rolls': 1574, 'send': 1575, 'rubber': 1576, 'tastiest': 1577, 'leave': 1578, 'sharp': 1579, 'guilty': 1580, 'multi': 1581, 'subscription': 1582, 'search': 1583, 'heartburn': 1584, 'mold': 1585, 'booster': 1586, 'macadamia': 1587, 'easiest': 1588, 'tad': 1589, 'lowrey': 1590, 'pooch': 1591, 'which': 1592, 'beats': 1593, 'total': 1594, 'club': 1595, 'breed': 1596, 'watchers': 1597, 'flavour': 1598, 'crowd': 1599, 'jars': 1600, 'season': 1601, 'yummo': 1602, 'complaints': 1603, 'actual': 1604, 'took': 1605, 'aluminum': 1606, 'break': 1607, 'everlasting': 1608, 'freshness': 1609, 'crap': 1610, 'cant': 1611, 'yorkie': 1612, 'skinny': 1613, 'entire': 1614, 'fructose': 1615, 'diarrhea': 1616, 'inconsistent': 1617, 'hubby': 1618, 'dead': 1619, 'unusual': 1620, 'finest': 1621, 'soo': 1622, 'wet': 1623, 'type': 1624, 'items': 1625, 'shortbread': 1626, 'unbelievable': 1627, 'java': 1628, 'slight': 1629, 'im': 1630, 'waiting': 1631, 'ultimate': 1632, 'sprouting': 1633, 'equal': 1634, 'rave': 1635, 'st': 1636, 'macaroni': 1637, 'lavazza': 1638, 'sold': 1639, 'peppercorns': 1640, 'tofu': 1641, 'guess': 1642, 'lightly': 1643, 'kept': 1644, 'photo': 1645, 'support': 1646, 'emeril': 1647, 'kong': 1648, 'seaweed': 1649, 'asian': 1650, 'defective': 1651, 'topping': 1652, 'mr': 1653, 'glazed': 1654, 'preferred': 1655, 'garden': 1656, 'eggs': 1657, 'timothy': 1658, 'yr': 1659, 'him': 1660, 'hope': 1661, 'afternoon': 1662, 'hype': 1663, 'consistently': 1664, 'bergamot': 1665, 'human': 1666, 'bubble': 1667, 'shells': 1668, 'lol': 1669, 'turkish': 1670, 'today': 1671, 'empty': 1672, 'sad': 1673, 'vitamin': 1674, 'melts': 1675, 'inside': 1676, 'matter': 1677, 'delicate': 1678, 'pre': 1679, 'ridiculously': 1680, 'trans': 1681, 'pouches': 1682, 'essential': 1683, 'coming': 1684, 'smokey': 1685, 'either': 1686, 'weruva': 1687, 'inexpensive': 1688, 'steaks': 1689, 'boring': 1690, 'tins': 1691, 'sometimes': 1692, 'peppery': 1693, 'feeding': 1694, 'possibly': 1695, 'mushy': 1696, 'graham': 1697, 'arrival': 1698, 'irish': 1699, 'above': 1700, 'wafers': 1701, 'soooooo': 1702, 'torani': 1703, 'reasonably': 1704, 'issue': 1705, 'blah': 1706, 'mushrooms': 1707, 'sirloin': 1708, 'penny': 1709, 'grandma': 1710, 'reason': 1711, 'ounces': 1712, 'success': 1713, 'houtte': 1714, 'saffron': 1715, 'zukes': 1716, 'fragrance': 1717, 'leaking': 1718, 'square': 1719, 'chi': 1720, 'preserves': 1721, 'guys': 1722, 'promised': 1723, 'vomiting': 1724, 'brings': 1725, 'lid': 1726, 'chestnuts': 1727, 'poison': 1728, 'direct': 1729, 'grew': 1730, 'otherwise': 1731, 'acceptable': 1732, 'space': 1733, 'pump': 1734, 'british': 1735, 'barbecue': 1736, 'chemicals': 1737, 'mary': 1738, 'apricot': 1739, 'answer': 1740, 'lose': 1741, 'usually': 1742, 'sleep': 1743, 'between': 1744, 'lives': 1745, 'myself': 1746, 'gatorade': 1747, 'clock': 1748, 'ghost': 1749, 'closest': 1750, 'oral': 1751, 'child': 1752, 'welcome': 1753, 'clam': 1754, 'chowder': 1755, 'game': 1756, 'hip': 1757, 'stronger': 1758, 'tangerine': 1759, 'finish': 1760, 'decadent': 1761, 'called': 1762, 'lbs': 1763, 'major': 1764, 'pistachio': 1765, 'colors': 1766, 'splenda': 1767, 'aspartame': 1768, 'smoothie': 1769, 'pleasing': 1770, 'syrups': 1771, 'larabars': 1772, 'hextra': 1773, 'malt': 1774, 'sauces': 1775, 'miso': 1776, 'offer': 1777, 'worthy': 1778, 'slices': 1779, 'train': 1780, 'digestion': 1781, 'chunky': 1782, 'having': 1783, 'sinfully': 1784, 'doing': 1785, 'within': 1786, 'healthiest': 1787, 'molasses': 1788, 'soon': 1789, 'soul': 1790, 'sprout': 1791, 'lousy': 1792, 'tarts': 1793, 'eaters': 1794, 'checkups': 1795, 'boys': 1796, 'canine': 1797, 'twist': 1798, 'stand': 1799, 'etc': 1800, 'shih': 1801, 'pounds': 1802, 'paul': 1803, 'snaps': 1804, 'craving': 1805, 'intense': 1806, 'juicy': 1807, 'dipping': 1808, 'snob': 1809, 'shakes': 1810, 'bodied': 1811, 'links': 1812, 'heinz': 1813, 'shape': 1814, 'dip': 1815, 'couple': 1816, 'rooibos': 1817, 'mind': 1818, 'cocktail': 1819, 'favor': 1820, 'expresso': 1821, 'tast': 1822, 'fussy': 1823, 'ahmad': 1824, 'under': 1825, 'england': 1826, 'delivers': 1827, 'jiffy': 1828, 'attention': 1829, 'community': 1830, 'keeping': 1831, 'drawer': 1832, 'preservatives': 1833, 'sons': 1834, 'understand': 1835, 'decaffeinated': 1836, 'limited': 1837, 'buttery': 1838, 'cooks': 1839, 'teenie': 1840, 'trick': 1841, 'mona': 1842, 'lisa': 1843, 'brewed': 1844, 'late': 1845, 'brittle': 1846, 'household': 1847, 'spicey': 1848, 'gifts': 1849, 'information': 1850, 'cravings': 1851, 'tacos': 1852, 'similar': 1853, 'carry': 1854, 'spanish': 1855, 'pearl': 1856, 'gloria': 1857, 'celestial': 1858, 'lucy': 1859, 'unless': 1860, 'shrimp': 1861, 'delectable': 1862, 'certified': 1863, 'hygiene': 1864, 'blueberries': 1865, 'swiss': 1866, 'omaha': 1867, 'forget': 1868, 'temptations': 1869, 'texas': 1870, 'watermelon': 1871, 'nespresso': 1872, 'capsules': 1873, 'points': 1874, 'stix': 1875, 'indoor': 1876, 'cheapest': 1877, 'apparently': 1878, 'india': 1879, 'stopped': 1880, 'environmentally': 1881, 'road': 1882, 'itself': 1883, 'vegans': 1884, 'keebler': 1885, 'class': 1886, 'seal': 1887, 'blech': 1888, 'martini': 1889, 'mallomars': 1890, 'disposable': 1891, 'ask': 1892, 'thrilled': 1893, 'week': 1894, 'stir': 1895, 'kibble': 1896, 'owner': 1897, 'oils': 1898, 'runny': 1899, 'dollar': 1900, 'fry': 1901, 'dad': 1902, 'sweeter': 1903, 'odor': 1904, 'extreme': 1905, 'dates': 1906, 'monster': 1907, 'zesty': 1908, 'fizzy': 1909, 'drinkable': 1910, 'higher': 1911, 'tzu': 1912, 'impossible': 1913, 'sumatra': 1914, 'farm': 1915, 'throw': 1916, 'davidson': 1917, 'mi': 1918, 'delighted': 1919, 'fizz': 1920, 'supply': 1921, 'lentils': 1922, 'pinch': 1923, 'burst': 1924, 'directions': 1925, 'dust': 1926, 'pez': 1927, 'cubes': 1928, 'whoa': 1929, 'delightfully': 1930, 'japanese': 1931, 'potent': 1932, 'auto': 1933, 'grapefruit': 1934, 'hash': 1935, 'jello': 1936, 'sealed': 1937, 'choking': 1938, 'blackberry': 1939, 'bright': 1940, 'holder': 1941, 'pocket': 1942, 'lunches': 1943, 'flower': 1944, 'worthless': 1945, 'disaster': 1946, 'zevia': 1947, 'fatty': 1948, 'munch': 1949, 'coating': 1950, 'cleaner': 1951, 'finishing': 1952, 'somewhere': 1953, 'met': 1954, 'melt': 1955, 'pies': 1956, 'enjoying': 1957, 'present': 1958, 'costly': 1959, 'shame': 1960, 'several': 1961, 'mean': 1962, 'earthy': 1963, 'oat': 1964, 'spectacular': 1965, 'inferior': 1966, 'sliced': 1967, 'gelatin': 1968, 'ham': 1969, 'seconds': 1970, 'worlds': 1971, 'killer': 1972, 'guy': 1973, 'metromint': 1974, 'weather': 1975, 'pear': 1976, 'gag': 1977, 'oregon': 1978, 'izze': 1979, 'lasagna': 1980, 'madhava': 1981, 'plan': 1982, 'portions': 1983, 'lollipops': 1984, 'plants': 1985, 'already': 1986, 'tool': 1987, 'chow': 1988, 'died': 1989, 'stew': 1990, 'cooked': 1991, 'onions': 1992, 'oolong': 1993, 'del': 1994, 'yummiest': 1995, 'tested': 1996, 'chance': 1997, 'paprika': 1998, 'question': 1999, 'kat': 2000, 'yeast': 2001, 'until': 2002, 'rainforest': 2003, 'workout': 2004, 'popping': 2005, 'satisfies': 2006, 'unsalted': 2007, 'smelly': 2008, 'together': 2009, 'traveling': 2010, 'flax': 2011, 'brilliant': 2012, 'hoping': 2013, 'sushi': 2014, 'filled': 2015, 'chewer': 2016, 'dash': 2017, 'harsh': 2018, 'refreshingly': 2019, 'hazard': 2020, 'gevalia': 2021, 'pain': 2022, 'lifesaver': 2023, 'birds': 2024, 'lifesavers': 2025, 'helpful': 2026, 'glass': 2027, 'zoe': 2028, 'pirate': 2029, 'greenie': 2030, 'scalp': 2031, 'kosher': 2032, 'freezer': 2033, 'interested': 2034, 'supreme': 2035, 'certainly': 2036, 'feels': 2037, 'kili': 2038, 'saeco': 2039, 'nana': 2040, 'figs': 2041, 'pickle': 2042, 'anti': 2043, 'bedtime': 2044, 'deserves': 2045, 'prompt': 2046, 'zing': 2047, 'toasted': 2048, 'japan': 2049, 'lack': 2050, 'crystals': 2051, 'sam': 2052, 'jerkey': 2053, 'cranberries': 2054, 'scratch': 2055, 'cheetos': 2056, 'virgin': 2057, 'habanero': 2058, 'mama': 2059, 'glutino': 2060, 'annie': 2061, 'hydration': 2062, 'marzipan': 2063, 'duck': 2064, 'iron': 2065, 'city': 2066, 'select': 2067, 'orzo': 2068, 'joy': 2069, 'sweeteners': 2070, 'spring': 2071, 'ct': 2072, 'knorr': 2073, 'mexico': 2074, 'receive': 2075, 'definately': 2076, 'action': 2077, 'valentine': 2078, 'european': 2079, 'litter': 2080, 'mandarin': 2081, 'toys': 2082, 'grab': 2083, 'stonewall': 2084, 'gmo': 2085, 'divine': 2086, 'tray': 2087, 'marvelous': 2088, 'basically': 2089, 'correct': 2090, 'couscous': 2091, 'pug': 2092, 'ale': 2093, 'recall': 2094, 'rescue': 2095, 'personal': 2096, 'puroast': 2097, 'servings': 2098, 'cones': 2099, 'luv': 2100, 'caffeinated': 2101, 'straight': 2102, 'stomachs': 2103, 'kitten': 2104, 'harney': 2105, 'firm': 2106, 'left': 2107, 'hell': 2108, 'ya': 2109, 'excited': 2110, 'enchilada': 2111, 'link': 2112, 'calming': 2113, 'fashioned': 2114, 'kittens': 2115, 'ripoff': 2116, 'shirataki': 2117, 'sample': 2118, 'ghirardelli': 2119, 'kill': 2120, 'pears': 2121, 'cracked': 2122, 'comment': 2123, 'volume': 2124, 'trip': 2125, 'heck': 2126, 'win': 2127, 'consumer': 2128, 'fly': 2129, 'wonders': 2130, 'eight': 2131, 'bucks': 2132, 'pills': 2133, 'silky': 2134, 'thinking': 2135, 'potassium': 2136, 'caused': 2137, 'trust': 2138, 'comparison': 2139, 'choco': 2140, 'camping': 2141, 'constipation': 2142, 'biscotti': 2143, 'dough': 2144, 'favourite': 2145, 'highest': 2146, 'doctor': 2147, 'improvement': 2148, 'thins': 2149, 'happybellies': 2150, 'tulsi': 2151, 'goodies': 2152, 'loaded': 2153, 'hydrogenated': 2154, 'additive': 2155, 'colman': 2156, 'indulgence': 2157, 'southern': 2158, 'nutella': 2159, 'disapointed': 2160, 'blues': 2161, 'fortune': 2162, 'burn': 2163, 'plate': 2164, 'weeks': 2165, 'accurate': 2166, 'th': 2167, 'saves': 2168, 'honest': 2169, 'marshmallows': 2170, 'dirty': 2171, 'discs': 2172, 'news': 2173, 'adding': 2174, 'iffy': 2175, 'slim': 2176, 'terrier': 2177, 'relatively': 2178, 'assorted': 2179, 'evoo': 2180, 'ick': 2181, 'dingo': 2182, 'girls': 2183, 'satisfaction': 2184, 'emerald': 2185, 'dolce': 2186, 'caps': 2187, 'cakes': 2188, 'able': 2189, 'packet': 2190, 'point': 2191, 'maruchan': 2192, 'aware': 2193, 'discovery': 2194, 'poo': 2195, 'hidden': 2196, 'woof': 2197, 'bagged': 2198, 'liquor': 2199, 'reduced': 2200, 'causes': 2201, 'chocolaty': 2202, 'basil': 2203, 'coca': 2204, 'balls': 2205, 'costa': 2206, 'paw': 2207, 'poorly': 2208, 'hormel': 2209, 'recovery': 2210, 'tradition': 2211, 'jump': 2212, 'goji': 2213, 'switched': 2214, 'slice': 2215, 'cause': 2216, 'barry': 2217, 'ehh': 2218, 'om': 2219, 'rare': 2220, 'memory': 2221, 'write': 2222, 'turn': 2223, 'sore': 2224, 'coombs': 2225, 'mommy': 2226, 'hey': 2227, 'hungry': 2228, 'soap': 2229, 'dandruff': 2230, 'table': 2231, 'celiac': 2232, 'palm': 2233, 'horrid': 2234, 'uh': 2235, 'obsessed': 2236, 'island': 2237, 'nescafe': 2238, 'transaction': 2239, 'strawberries': 2240, 'hold': 2241, 'palate': 2242, 'essence': 2243, 'entertaining': 2244, 'medicinal': 2245, 'student': 2246, 'revolution': 2247, 'customers': 2248, 'mangosteen': 2249, 'grainy': 2250, 'head': 2251, 'baker': 2252, 'mangoes': 2253, 'users': 2254, 'primal': 2255, 'snow': 2256, 'pea': 2257, 'lish': 2258, 'horse': 2259, 'california': 2260, 'jean': 2261, 'hooray': 2262, 'cupcakes': 2263, 'candied': 2264, 'sports': 2265, 'pro': 2266, 'poppy': 2267, 'sensation': 2268, 'relax': 2269, 'tropical': 2270, 'trips': 2271, 'useful': 2272, 'ups': 2273, 'tullys': 2274, 'jumbo': 2275, 'rated': 2276, 'ride': 2277, 'aweful': 2278, 'meaty': 2279, 'roses': 2280, 'crema': 2281, 'refined': 2282, 'terribly': 2283, 'teriyaki': 2284, 'halloween': 2285, 'un': 2286, 'da': 2287, 'room': 2288, 'drinkers': 2289, 'effects': 2290, 'purple': 2291, 'machines': 2292, 'breathe': 2293, 'notch': 2294, 'jittery': 2295, 'celsius': 2296, 'fuel': 2297, 'nylabone': 2298, 'toxic': 2299, 'ways': 2300, 'fruits': 2301, 'scout': 2302, 'piece': 2303, 'opened': 2304, 'goods': 2305, 'quinoa': 2306, 'containers': 2307, 'waxy': 2308, 'filler': 2309, 'running': 2310, 'crab': 2311, 'popular': 2312, 'bottled': 2313, 'holistic': 2314, 'pepperoni': 2315, 'carrying': 2316, 'shots': 2317, 'filters': 2318, 'rush': 2319, 'strength': 2320, 'adore': 2321, 'solo': 2322, 'paper': 2323, 'based': 2324, 'gerber': 2325, 'cure': 2326, 'vomit': 2327, 'oreo': 2328, 'bottom': 2329, 'cleaning': 2330, 'kups': 2331, 'deceiving': 2332, 'entree': 2333, 'overload': 2334, 'processed': 2335, 'swedish': 2336, 'discontinued': 2337, 'dill': 2338, 'nope': 2339, 'learn': 2340, 'ew': 2341, 'applesauce': 2342, 'coloring': 2343, 'ordinary': 2344, 'melitta': 2345, 'stuck': 2346, 'unsweetened': 2347, 'river': 2348, 'rotten': 2349, 'supplier': 2350, 'ass': 2351, 'effect': 2352, 'planters': 2353, 'tummies': 2354, 'millet': 2355, 'trader': 2356, 'evo': 2357, 'bowls': 2358, 'pecans': 2359, 'washed': 2360, 'buster': 2361, 'gorgeous': 2362, 'healthful': 2363, 'beverages': 2364, 'rule': 2365, 'carrot': 2366, 'unhealthy': 2367, 'gritty': 2368, 'zip': 2369, 'hardly': 2370, 'confused': 2371, 'evening': 2372, 'cha': 2373, 'ole': 2374, 'lighter': 2375, 'replace': 2376, 'gingery': 2377, 'despite': 2378, 'failed': 2379, 'loyal': 2380, 'walmart': 2381, 'shower': 2382, 'mills': 2383, 'tartar': 2384, 'cents': 2385, 'useless': 2386, 'fab': 2387, 'funbites': 2388, 'sort': 2389, 'ships': 2390, 'leather': 2391, 'manhattan': 2392, 'chest': 2393, 'west': 2394, 'mood': 2395, 'chocolately': 2396, 'cone': 2397, 'chutney': 2398, 'tinkyada': 2399, 'superfood': 2400, 'everywhere': 2401, 'horribly': 2402, 'numi': 2403, 'adorable': 2404, 'bloody': 2405, 'dent': 2406, 'destroyed': 2407, 'grams': 2408, 'mug': 2409, 'barbeque': 2410, 'mixer': 2411, 'wintergreen': 2412, 'stated': 2413, 'rubbery': 2414, 'ring': 2415, 'crappy': 2416, 'face': 2417, 'mocafe': 2418, 'bunch': 2419, 'words': 2420, 'sun': 2421, 'impressive': 2422, 'missed': 2423, 'charges': 2424, 'breeds': 2425, 'excessive': 2426, 'panda': 2427, 'definite': 2428, 'selling': 2429, 'exquisite': 2430, 'jolt': 2431, 'iams': 2432, 'outside': 2433, 'overall': 2434, 'entirely': 2435, 'sitting': 2436, 'dreadful': 2437, 'twin': 2438, 'sweets': 2439, 'note': 2440, 'bubbly': 2441, 'poop': 2442, 'riceselect': 2443, 'law': 2444, 'mayonnaise': 2445, 'fondant': 2446, 'peggy': 2447, 'carefully': 2448, 'brewing': 2449, 'beagle': 2450, 'metallic': 2451, 'crave': 2452, 'wants': 2453, 'enhancer': 2454, 'individual': 2455, 'chile': 2456, 'pad': 2457, 'ultra': 2458, 'whatever': 2459, 'trap': 2460, 'hunger': 2461, 'silk': 2462, 'pocky': 2463, 'trade': 2464, 'approve': 2465, 'newmans': 2466, 'often': 2467, 'jell': 2468, 'pom': 2469, 'wise': 2470, 'badly': 2471, 'bubbles': 2472, 'finger': 2473, 'friskies': 2474, 'middle': 2475, 'kirkland': 2476, 'salts': 2477, 'apart': 2478, 'triple': 2479, 'lickety': 2480, 'nicely': 2481, 'important': 2482, 'meets': 2483, 'anchovies': 2484, 'neither': 2485, 'sencha': 2486, 'dijon': 2487, 'lift': 2488, 'warned': 2489, 'funky': 2490, 'marshmallow': 2491, 'herb': 2492, 'maltese': 2493, 'cane': 2494, 'fewer': 2495, 'sizes': 2496, 'en': 2497, 'grows': 2498, 'chopped': 2499, 'sinus': 2500, 'rejoice': 2501, 'stuffed': 2502, 'lil': 2503, 'ten': 2504, 'ii': 2505, 'extraordinary': 2506, 'ah': 2507, 'breaks': 2508, 'lard': 2509, 'moisturizer': 2510, 'wont': 2511, 'plenty': 2512, 'looked': 2513, 'resist': 2514, 'elegant': 2515, 'caffe': 2516, 'fenugreek': 2517, 'ear': 2518, 'proof': 2519, 'sugars': 2520, 'scam': 2521, 'wrapped': 2522, 'compare': 2523, 'among': 2524, 'vermont': 2525, 'luvs': 2526, 'jolly': 2527, 'pumkin': 2528, 'omega': 2529, 'tube': 2530, 'compares': 2531, 'popped': 2532, 'detox': 2533, 'master': 2534, 'eatin': 2535, 'rosemary': 2536, 'grind': 2537, 'attractive': 2538, 'number': 2539, 'smashed': 2540, 'everybody': 2541, 'lids': 2542, 'twins': 2543, 'consistent': 2544, 'dispenser': 2545, 'sugarless': 2546, 'sodas': 2547, 'navitas': 2548, 'fluffy': 2549, 'ella': 2550, 'site': 2551, 'plump': 2552, 'citric': 2553, 'ideal': 2554, 'wings': 2555, 'insane': 2556, 'turns': 2557, 'neat': 2558, 'shabby': 2559, 'dated': 2560, 'mush': 2561, 'parties': 2562, 'match': 2563, 'mochas': 2564, 'mccormick': 2565, 'decadence': 2566, 'silver': 2567, 'desert': 2568, 'presentation': 2569, 'hoo': 2570, 'facts': 2571, 'kernels': 2572, 'pedigree': 2573, 'surprising': 2574, 'garbanzo': 2575, 'chocoholic': 2576, 'production': 2577, 'post': 2578, 'produce': 2579, 'international': 2580, 'danger': 2581, 'insanely': 2582, 'reaction': 2583, 'cocaine': 2584, 'petite': 2585, 'cuisine': 2586, 'ambrosia': 2587, 'opening': 2588, 'paleo': 2589, 'expires': 2590, 'sadly': 2591, 'pig': 2592, 'vienna': 2593, 'thailand': 2594, 'user': 2595, 'carbonation': 2596, 'loa': 2597, 'caff': 2598, 'rishi': 2599, 'fig': 2600, 'blends': 2601, 'lobster': 2602, 'general': 2603, 'hairball': 2604, 'harvest': 2605, 'gfcf': 2606, 'sunbutter': 2607, 'listing': 2608, 'foul': 2609, 'blast': 2610, 'smelled': 2611, 'whiskas': 2612, 'lived': 2613, 'unexpected': 2614, 'bye': 2615, 'included': 2616, 'fixed': 2617, 'individually': 2618, 'wedding': 2619, 'cap': 2620, 'num': 2621, 'campbell': 2622, 'frosting': 2623, 'buzz': 2624, 'plum': 2625, 'fool': 2626, 'bare': 2627, 'topper': 2628, 'parts': 2629, 'cola': 2630, 'lactose': 2631, 'gooood': 2632, 'gustaf': 2633, 'caramels': 2634, 'healty': 2635, 'lickin': 2636, 'considering': 2637, 'brought': 2638, 'albacore': 2639, 'pickled': 2640, 'starts': 2641, 'exotic': 2642, 'coast': 2643, 'alone': 2644, 'business': 2645, 'pour': 2646, 'lo': 2647, 'yorkshire': 2648, 'states': 2649, 'wierd': 2650, 'necessary': 2651, 'competition': 2652, 'muffin': 2653, 'collection': 2654, 'sip': 2655, 'reward': 2656, 'mid': 2657, 'range': 2658, 'frogs': 2659, 'nose': 2660, 'lie': 2661, 'jamaica': 2662, 'twix': 2663, 'luxury': 2664, 'whatsoever': 2665, 'rings': 2666, 'assam': 2667, 'tons': 2668, 'hummus': 2669, 'batman': 2670, 'describe': 2671, 'pens': 2672, 'parents': 2673, 'dehydrated': 2674, 'culinary': 2675, 'glycemic': 2676, 'escapes': 2677, 'boot': 2678, 'killed': 2679, 'sell': 2680, 'stains': 2681, 'penne': 2682, 'kudos': 2683, 'suprisingly': 2684, 'sickness': 2685, 'gi': 2686, 'corned': 2687, 'peel': 2688, 'labeling': 2689, 'halva': 2690, 'leak': 2691, 'web': 2692, 'doh': 2693, 'orleans': 2694, 'pepsi': 2695, 'emergency': 2696, 'error': 2697, 'gouging': 2698, 'snickers': 2699, 'perhaps': 2700, 'coke': 2701, 'town': 2702, 'udon': 2703, 'form': 2704, 'along': 2705, 'hemp': 2706, 'yumminess': 2707, 'imho': 2708, 'spam': 2709, 'gym': 2710, 'mass': 2711, 'arrowhead': 2712, 'mg': 2713, 'tastic': 2714, 'sounds': 2715, 'flaxseed': 2716, 'didnt': 2717, 'protien': 2718, 'cesar': 2719, 'wafer': 2720, 'bet': 2721, 'plocky': 2722, 'minute': 2723, 'burgers': 2724, 'prep': 2725, 'lindor': 2726, 'ibd': 2727, 'ibs': 2728, 'yummie': 2729, 'turned': 2730, 'utterly': 2731, 'purchases': 2732, 'acai': 2733, 'fell': 2734, 'peaches': 2735, 'splash': 2736, 'nori': 2737, 'lemons': 2738, 'dieting': 2739, 'given': 2740, 'chewed': 2741, 'bagels': 2742, 'risk': 2743, 'seasons': 2744, 'brothers': 2745, 'below': 2746, 'meds': 2747, 'main': 2748, 'clams': 2749, 'nor': 2750, 'alternate': 2751, 'sprinkles': 2752, 'ahoy': 2753, 'puzzle': 2754, 'lip': 2755, 'giant': 2756, 'appealing': 2757, 'doubled': 2758, 'rican': 2759, 'shiny': 2760, 'calcium': 2761, 'thirst': 2762, 'peppered': 2763, 'bleh': 2764, 'sage': 2765, 'wood': 2766, 'near': 2767, 'bakery': 2768, 'bellies': 2769, 'drive': 2770, 'vegetables': 2771, 'act': 2772, 'timely': 2773, 'competitive': 2774, 'oak': 2775, 'level': 2776, 'prune': 2777, 'carrots': 2778, 'amazed': 2779, 'zipfizz': 2780, 'petrodex': 2781, 'carob': 2782, 'bow': 2783, 'round': 2784, 'refreshment': 2785, 'bill': 2786, 'prepared': 2787, 'term': 2788, 'decaffinated': 2789, 'freshest': 2790, 'reviewer': 2791, 'goooood': 2792, 'research': 2793, 'budget': 2794, 'goya': 2795, 'watered': 2796, 'imo': 2797, 'person': 2798, 'crumbles': 2799, 'fragile': 2800, 'boyfriend': 2801, 'paying': 2802, 'dha': 2803, 'puts': 2804, 'seafood': 2805, 'watering': 2806, 'partially': 2807, 'dunkin': 2808, 'donuts': 2809, 'grandkids': 2810, 'chilled': 2811, 'digest': 2812, 'overwhelming': 2813, 'wary': 2814, 'gassy': 2815, 'creamers': 2816, 'rasberry': 2817, 'puffed': 2818, 'nong': 2819, 'shim': 2820, 'particularly': 2821, 'celiacs': 2822, 'cardamom': 2823, 'erythritol': 2824, 'shedding': 2825, 'pitcher': 2826, 'properly': 2827, 'refused': 2828, 'pho': 2829, 'au': 2830, 'seen': 2831, 'tazo': 2832, 'normally': 2833, 'system': 2834, 'gotten': 2835, 'kombucha': 2836, 'chick': 2837, 'pistachios': 2838, 'execution': 2839, 'goo': 2840, 'canin': 2841, 'caveat': 2842, 'handle': 2843, 'crash': 2844, 'sells': 2845, 'bariani': 2846, 'grill': 2847, 'meats': 2848, 'bummer': 2849, 'lemony': 2850, 'delcious': 2851, 'claims': 2852, 'chebe': 2853, 'coat': 2854, 'hcg': 2855, 'bowser': 2856, 'enjoys': 2857, 'bouillon': 2858, 'namaste': 2859, 'juniper': 2860, 'oberto': 2861, 'everytime': 2862, 'rain': 2863, 'ease': 2864, 'jims': 2865, 'hull': 2866, 'brother': 2867, 'age': 2868, 'additives': 2869, 'recieved': 2870, 'salads': 2871, 'previous': 2872, 'grandpa': 2873, 'po': 2874, 'favors': 2875, 'dogfood': 2876, 'show': 2877, 'cancer': 2878, 'contents': 2879, 'kicking': 2880, 'shortage': 2881, 'entertainment': 2882, 'complain': 2883, 'thinkthin': 2884, 'walden': 2885, 'saturated': 2886, 'boxed': 2887, 'dachshund': 2888, 'dirt': 2889, 'sturdy': 2890, 'varieties': 2891, 'ravioli': 2892, 'jacks': 2893, 'handling': 2894, 'skip': 2895, 'rum': 2896, 'slimy': 2897, 'mauna': 2898, 'powdery': 2899, 'shown': 2900, 'smelling': 2901, 'hfcs': 2902, 'ww': 2903, 'skyline': 2904, 'discount': 2905, 'seemed': 2906, 'chamomile': 2907, 'hairballs': 2908, 'coarse': 2909, 'poodle': 2910, 'ceylon': 2911, 'tablets': 2912, 'heartland': 2913, 'joint': 2914, 'par': 2915, 'multigrain': 2916, 'possible': 2917, 'happier': 2918, 'bird': 2919, 'skeptical': 2920, 'kisses': 2921, 'gusto': 2922, 'bees': 2923, 'nummy': 2924, 'tic': 2925, 'choices': 2926, 'fusilli': 2927, 'tops': 2928, 'elderly': 2929, 'carmel': 2930, 'split': 2931, 'lentil': 2932, 'shepherd': 2933, 'beach': 2934, 'shocked': 2935, 'confusing': 2936, 'daughters': 2937, 'instructions': 2938, 'update': 2939, 'con': 2940, 'served': 2941, 'rinse': 2942, 'london': 2943, 'kenya': 2944, 'dutch': 2945, 'spray': 2946, 'beauty': 2947, 'minicongo': 2948, 'eden': 2949, 'kernals': 2950, 'starbuck': 2951, 'antioxidants': 2952, 'tang': 2953, 'flies': 2954, 'glee': 2955, 'matters': 2956, 'scented': 2957, 'imported': 2958, 'catfood': 2959, 'spit': 2960, 'sweeten': 2961, 'princess': 2962, 'meant': 2963, 'habit': 2964, 'woman': 2965, 'smoker': 2966, 'minimal': 2967, 'oriental': 2968, 'huckleberry': 2969, 'relaxation': 2970, 'soggy': 2971, 'yorkies': 2972, 'skittles': 2973, 'husks': 2974, 'dissappointed': 2975, 'disappointingly': 2976, 'tots': 2977, 'shaved': 2978, 'women': 2979, 'project': 2980, 'delights': 2981, 'chops': 2982, 'writer': 2983, 'yerba': 2984, 'mueslix': 2985, 'exciting': 2986, 'deliver': 2987, 'entertained': 2988, 'brookside': 2989, 'bull': 2990, 'doubt': 2991, 'consumption': 2992, 'pectin': 2993, 'shopping': 2994, 'hawaii': 2995, 'bills': 2996, 'batter': 2997, 'montreal': 2998, 'thanksgiving': 2999, 'kidney': 3000, 'pu': 3001, 'erh': 3002, 'perfume': 3003, 'mo': 3004, 'crispbread': 3005, 'comparable': 3006, 'genuine': 3007, 'unimpressed': 3008, 'pumps': 3009, 'paid': 3010, 'freakin': 3011, 'concerns': 3012, 'recommends': 3013, 'bisque': 3014, 'sufferers': 3015, 'skins': 3016, 'canadian': 3017, 'african': 3018, 'warming': 3019, 'acidity': 3020, 'cheeseburger': 3021, 'tootsie': 3022, 'multiple': 3023, 'headache': 3024, 'closer': 3025, 'rocky': 3026, 'yup': 3027, 'libby': 3028, 'halves': 3029, 'decafe': 3030, 'fresher': 3031, 'mic': 3032, 'continue': 3033, 'bamboo': 3034, 'greens': 3035, 'means': 3036, 'droste': 3037, 'wins': 3038, 'mothers': 3039, 'amy': 3040, 'purina': 3041, 'ol': 3042, 'virginia': 3043, 'sweetleaf': 3044, 'chewies': 3045, 'stroganoff': 3046, 'final': 3047, 'hi': 3048, 'expire': 3049, 'folger': 3050, 'tip': 3051, 'east': 3052, 'enzymatic': 3053, 'licking': 3054, 'offered': 3055, 'horrific': 3056, 'bee': 3057, 'hide': 3058, 'chilli': 3059, 'brulee': 3060, 'vegetarians': 3061, 'sense': 3062, 'spinach': 3063, 'allergen': 3064, 'skillets': 3065, 'markers': 3066, 'marley': 3067, 'speed': 3068, 'aunt': 3069, 'increasing': 3070, 'negative': 3071, 'columbian': 3072, 'avocado': 3073, 'que': 3074, 'hike': 3075, 'vitamins': 3076, 'teabag': 3077, 'ouch': 3078, 'knows': 3079, 'watching': 3080, 'literally': 3081, 'asked': 3082, 'dang': 3083, 'sucks': 3084, 'devour': 3085, 'turmeric': 3086, 'pregnant': 3087, 'sesmark': 3088, 'uk': 3089, 'types': 3090, 'alternatives': 3091, 'darned': 3092, 'worms': 3093, 'shipper': 3094, 'emerils': 3095, 'mask': 3096, 'feline': 3097, 'farmer': 3098, 'lovin': 3099, 'fully': 3100, 'oreos': 3101, 'spoonful': 3102, 'tahini': 3103, 'varies': 3104, 'fire': 3105, 'share': 3106, 'hurry': 3107, 'forward': 3108, 'ehhh': 3109, 'growth': 3110, 'unfortunately': 3111, 'counter': 3112, 'vinaigrette': 3113, 'gummis': 3114, 'pesto': 3115, 'course': 3116, 'wisconsin': 3117, 'oven': 3118, 'ripped': 3119, 'modified': 3120, 'starch': 3121, 'worried': 3122, 'chunk': 3123, 'nutmeg': 3124, 'provided': 3125, 'treasure': 3126, 'preserve': 3127, 'lame': 3128, 'sensible': 3129, 'magical': 3130, 'leading': 3131, 'interest': 3132, 'addicts': 3133, 'zest': 3134, 'leaked': 3135, 'cheesecake': 3136, 'probiotics': 3137, 'instinct': 3138, 'tastier': 3139, 'creek': 3140, 'pacific': 3141, 'cleansing': 3142, 'trash': 3143, 'sound': 3144, 'america': 3145, 'bully': 3146, 'scary': 3147, 'frontier': 3148, 'herbs': 3149, 'fail': 3150, 'chunks': 3151, 'introduction': 3152, 'cincinnati': 3153, 'cheeze': 3154, 'although': 3155, 'custard': 3156, 'pilaf': 3157, 'fingers': 3158, 'active': 3159, 'ovaltine': 3160, 'automatic': 3161, 'gobbled': 3162, 'dulce': 3163, 'leche': 3164, 'palatable': 3165, 'soba': 3166, 'bug': 3167, 'catch': 3168, 'sardine': 3169, 'anna': 3170, 'correctly': 3171, 'kitchens': 3172, 'hello': 3173, 'orbit': 3174, 'folks': 3175, 'solved': 3176, 'whip': 3177, 'charge': 3178, 'distraction': 3179, 'runs': 3180, 'earths': 3181, 'vodka': 3182, 'happen': 3183, 'flamingo': 3184, 'fountain': 3185, 'grassy': 3186, 'subtly': 3187, 'creates': 3188, 'mega': 3189, 'grahams': 3190, 'safety': 3191, 'play': 3192, 'loses': 3193, 'nibs': 3194, 'wheatgrass': 3195, 'scooby': 3196, 'ewwww': 3197, 'tot': 3198, 'cleans': 3199, 'satisfy': 3200, 'corgi': 3201, 'mcvities': 3202, 'll': 3203, 'mashed': 3204, 'modification': 3205, 'ill': 3206, 'unit': 3207, 'roland': 3208, 'boston': 3209, 'sub': 3210, 'later': 3211, 'charm': 3212, 'cupcake': 3213, 'krusteaz': 3214, 'callard': 3215, 'won': 3216, 'burned': 3217, 'sprinkle': 3218, 'sorta': 3219, 'kracker': 3220, 'availability': 3221, 'cheated': 3222, 'due': 3223, 'yummers': 3224, 'pressure': 3225, 'bueno': 3226, 'stays': 3227, 'originals': 3228, 'thunder': 3229, 'underwhelmed': 3230, 'chun': 3231, 'afford': 3232, 'teavana': 3233, 'pepperidge': 3234, 'prevent': 3235, 'fda': 3236, 'runner': 3237, 'website': 3238, 'slurp': 3239, 'cancelled': 3240, 'hopes': 3241, 'sprouted': 3242, 'clearly': 3243, 'shea': 3244, 'purse': 3245, 'growing': 3246, 'awesomely': 3247, 'standards': 3248, 'flawed': 3249, 'velvet': 3250, 'reflux': 3251, 'thinks': 3252, 'popchip': 3253, 'reading': 3254, 'aa': 3255, 'rocket': 3256, 'phenomenal': 3257, 'halo': 3258, 'apricots': 3259, 'minus': 3260, 'liking': 3261, 'recent': 3262, 'bounty': 3263, 'kool': 3264, 'produced': 3265, 'wanna': 3266, 'branston': 3267, 'mail': 3268, 'concentrated': 3269, 'positive': 3270, 'herring': 3271, 'dissapointing': 3272, 'macadamias': 3273, 'smarties': 3274, 'via': 3275, 'sending': 3276, 'bahlsen': 3277, 'vile': 3278, 'beast': 3279, 'mahogany': 3280, 'pickles': 3281, 'repellant': 3282, 'olds': 3283, 'figure': 3284, 'cross': 3285, 'chiclets': 3286, 'cured': 3287, 'veg': 3288, 'porridge': 3289, 'yam': 3290, 'distinctive': 3291, 'known': 3292, 'twizzlers': 3293, 'mildly': 3294, 'confessions': 3295, 'highland': 3296, 'munchies': 3297, 'nuggets': 3298, 'prime': 3299, 'returns': 3300, 'theatre': 3301, 'supper': 3302, 'view': 3303, 'revolting': 3304, 'alive': 3305, 'pugs': 3306, 'zippy': 3307, 'hound': 3308, 'premier': 3309, 'changing': 3310, 'canada': 3311, 'dissatisfied': 3312, 'taking': 3313, 'excellence': 3314, 'hanover': 3315, 'cider': 3316, 'holds': 3317, 'splendid': 3318, 'falls': 3319, 'effort': 3320, 'bitters': 3321, 'torrone': 3322, 'spend': 3323, 'venison': 3324, 'gout': 3325, 'allows': 3326, 'oranges': 3327, 'state': 3328, 'thats': 3329, 'ive': 3330, 'felines': 3331, 'oatcakes': 3332, 'meet': 3333, 'pine': 3334, 'nutiva': 3335, 'freaking': 3336, 'death': 3337, 'yo': 3338, 'forgot': 3339, 'gyro': 3340, 'canola': 3341, 'fusion': 3342, 'pernigotti': 3343, 'carries': 3344, 'snickerdoodle': 3345, 'pits': 3346, 'decaff': 3347, 'gunpowder': 3348, 'deeeelicious': 3349, 'workouts': 3350, 'young': 3351, 'beneficial': 3352, 'brews': 3353, 'appeal': 3354, 'thyme': 3355, 'lifestyle': 3356, 'yep': 3357, 'golf': 3358, 'pitted': 3359, 'ditto': 3360, 'details': 3361, 'net': 3362, 'depends': 3363, 'krispy': 3364, 'kenyan': 3365, 'oro': 3366, 'champions': 3367, 'happybaby': 3368, 'ahhhh': 3369, 'texmati': 3370, 'sleepy': 3371, 'cheezies': 3372, 'breads': 3373, 'vitality': 3374, 'pit': 3375, 'masala': 3376, 'suckers': 3377, 'fur': 3378, 'invented': 3379, 'outdated': 3380, 'dreams': 3381, 'parmesan': 3382, 'gras': 3383, 'subsitute': 3384, 'lammy': 3385, 'tooo': 3386, 'alcohol': 3387, 'furniture': 3388, 'relish': 3389, 'believer': 3390, 'transit': 3391, 'spots': 3392, 'unbeatable': 3393, 'rye': 3394, 'flor': 3395, 'chalky': 3396, 'unable': 3397, 'additions': 3398, 'breastfeeding': 3399, 'retail': 3400, 'belgium': 3401, 'misrepresentation': 3402, 'starting': 3403, 'bulgur': 3404, 'arizona': 3405, 'starving': 3406, 'ziwi': 3407, 'arthritis': 3408, 'intake': 3409, 'edge': 3410, 'vote': 3411, 'center': 3412, 'carbquik': 3413, 'tapioca': 3414, 'doggone': 3415, 'ancho': 3416, 'electrolytes': 3417, 'caffiene': 3418, 'disappoint': 3419, 'bisquits': 3420, 'code': 3421, 'wasa': 3422, 'dee': 3423, 'jamaican': 3424, 'dietary': 3425, 'hodgson': 3426, 'chestnut': 3427, 'shell': 3428, 'doesnt': 3429, 'affect': 3430, 'safer': 3431, 'dig': 3432, 'dissolve': 3433, 'speaking': 3434, 'spritzer': 3435, 'sams': 3436, 'anyway': 3437, 'yogourmet': 3438, 'betty': 3439, 'talking': 3440, 'muy': 3441, 'buena': 3442, 'whats': 3443, 'fuss': 3444, 'co': 3445, 'reduction': 3446, 'hypoallergenic': 3447, 'counts': 3448, 'enjoyment': 3449, 'linda': 3450, 'seasoned': 3451, 'esp': 3452, 'math': 3453, 'decorating': 3454, 'alcoholic': 3455, 'popper': 3456, 'dare': 3457, 'pudge': 3458, 'facial': 3459, 'rates': 3460, 'bulldog': 3461, 'squirrels': 3462, 'mixture': 3463, 'shredded': 3464, 'sneak': 3465, 'sandwiches': 3466, 'immediately': 3467, 'sylvia': 3468, 'calling': 3469, 'epic': 3470, 'setting': 3471, 'cofee': 3472, 'increased': 3473, 'crumby': 3474, 'orchid': 3475, 'standby': 3476, 'wheel': 3477, 'writing': 3478, 'burning': 3479, 'snyder': 3480, 'britain': 3481, 'sinful': 3482, 'puree': 3483, 'caf': 3484, 'skinner': 3485, 'salami': 3486, 'microwavable': 3487, 'motion': 3488, 'fattening': 3489, 'ish': 3490, 'quencher': 3491, 'bentley': 3492, 'turtles': 3493, 'cloves': 3494, 'healing': 3495, 'dishwasher': 3496, 'walkers': 3497, 'puke': 3498, 'advertisement': 3499, 'savers': 3500, 'pressed': 3501, 'jimmies': 3502, 'useable': 3503, 'john': 3504, 'rodeo': 3505, 'merchant': 3506, 'music': 3507, 'papaya': 3508, 'ugly': 3509, 'wide': 3510, 'triplets': 3511, 'reviewers': 3512, 'energetic': 3513, 'rabbit': 3514, 'schnauzer': 3515, 'snap': 3516, 'booda': 3517, 'eye': 3518, 'greater': 3519, 'hartz': 3520, 'stephen': 3521, 'concerned': 3522, 'smoothest': 3523, 'lactation': 3524, 'cartons': 3525, 'policy': 3526, 'occasional': 3527, 'risotto': 3528, 'tortillas': 3529, 'wash': 3530, 'retriever': 3531, 'cooler': 3532, 'yahoo': 3533, 'boo': 3534, 'straw': 3535, 'maid': 3536, 'glucosamine': 3537, 'al': 3538, 'juices': 3539, 'straws': 3540, 'sooooooo': 3541, 'steal': 3542, 'cultures': 3543, 'sobe': 3544, 'eb': 3545, 'france': 3546, 'disappoints': 3547, 'substantial': 3548, 'likely': 3549, 'mounds': 3550, 'challenge': 3551, 'blonde': 3552, 'york': 3553, 'kuerig': 3554, 'changes': 3555, 'purchasing': 3556, 'alfalfa': 3557, 'occupied': 3558, 'approval': 3559, 'south': 3560, 'delicioso': 3561, 'girlfriend': 3562, 'ins': 3563, 'kernel': 3564, 'nutri': 3565, 'overrated': 3566, 'merrick': 3567, 'aggressive': 3568, 'meyenberg': 3569, 'follow': 3570, 'hersheys': 3571, 'cameron': 3572, 'shaped': 3573, 'strongly': 3574, 'columbia': 3575, 'marmalade': 3576, 'jaw': 3577, 'searching': 3578, 'discovered': 3579, 'charms': 3580, 'creative': 3581, 'tails': 3582, 'turtle': 3583, 'nirvana': 3584, 'undrinkable': 3585, 'method': 3586, 'florida': 3587, 'disappear': 3588, 'doxie': 3589, 'hulless': 3590, 'dislike': 3591, 'reorder': 3592, 'dilmah': 3593, 'backup': 3594, 'stuffing': 3595, 'survival': 3596, 'ho': 3597, 'hum': 3598, 'smoother': 3599, 've': 3600, 'squeeze': 3601, 'petco': 3602, 'softer': 3603, 'ago': 3604, 'laxative': 3605, 'genius': 3606, 'twang': 3607, 'godsend': 3608, 'themselves': 3609, 'cody': 3610, 'gooey': 3611, 'alot': 3612, 'misrepresented': 3613, 'westie': 3614, 'lowery': 3615, 'residue': 3616, 'semi': 3617, 'stinks': 3618, 'washington': 3619, 'def': 3620, 'pamelas': 3621, 'bouquet': 3622, 'avoderm': 3623, 'promise': 3624, 'zen': 3625, 'felt': 3626, 'environment': 3627, 'yoo': 3628, 'uncle': 3629, 'ray': 3630, 'spoil': 3631, 'rind': 3632, 'jim': 3633, 'snapper': 3634, 'monin': 3635, 'levels': 3636, 'feelings': 3637, 'lazy': 3638, 'navy': 3639, 'bananas': 3640, 'nausea': 3641, 'petal': 3642, 'harbor': 3643, 'buen': 3644, 'purist': 3645, 'styrofoam': 3646, 'immune': 3647, 'ants': 3648, 'pleases': 3649, 'deadly': 3650, 'peppercorn': 3651, 'adores': 3652, 'potatos': 3653, 'joke': 3654, 'father': 3655, 'aloe': 3656, 'mornings': 3657, 'goood': 3658, 'hounds': 3659, 'munching': 3660, 'stable': 3661, 'wrap': 3662, 'wabash': 3663, 'dye': 3664, 'fettuccine': 3665, 'taylor': 3666, 'tonic': 3667, 'kongs': 3668, 'mineral': 3669, 'necta': 3670, 'jablum': 3671, 'choclate': 3672, 'moderately': 3673, 'knock': 3674, 'sucker': 3675, 'cholesterol': 3676, 'winning': 3677, 'stink': 3678, 'fl': 3679, 'pleasures': 3680, 'lowest': 3681, 'passable': 3682, 'famous': 3683, 'sawdust': 3684, 'madras': 3685, 'scottish': 3686, 'fritos': 3687, 'pucker': 3688, 'title': 3689, 'upon': 3690, 'tierra': 3691, 'land': 3692, 'spike': 3693, 'nabisco': 3694, 'cajun': 3695, 'complex': 3696, 'variation': 3697, 'golean': 3698, 'bichon': 3699, 'mamma': 3700, 'supermarkets': 3701, 'flaw': 3702, 'dense': 3703, 'disapointing': 3704, 'book': 3705, 'awhile': 3706, 'clever': 3707, 'exact': 3708, 'choose': 3709, 'remedy': 3710, 'colored': 3711, 'exellent': 3712, 'stik': 3713, 'usda': 3714, 'samoa': 3715, 'glorified': 3716, 'fond': 3717, 'maldon': 3718, 'mile': 3719, 'bath': 3720, 'nursing': 3721, 'hassle': 3722, 'micro': 3723, 'process': 3724, 'galore': 3725, 'granulated': 3726, 'rockin': 3727, 'helping': 3728, 'aloha': 3729, 'clicker': 3730, 'practical': 3731, 'causing': 3732, 'icky': 3733, 'certain': 3734, 'sensitivity': 3735, 'dollars': 3736, 'dentist': 3737, 'million': 3738, 'erin': 3739, 'suitable': 3740, 'rubs': 3741, 'accident': 3742, 'grit': 3743, 'alba': 3744, 'theory': 3745, 'husky': 3746, 'lowfat': 3747, 'probe': 3748, 'sunshine': 3749, 'talk': 3750, 'disc': 3751, 'buns': 3752, 'pioneer': 3753, 'farts': 3754, 'dreamfields': 3755, 'sublime': 3756, 'gentle': 3757, 'jus': 3758, 'recipients': 3759, 'angry': 3760, 'labs': 3761, 'advised': 3762, 'breast': 3763, 'specialty': 3764, 'represented': 3765, 'dependable': 3766, 'russell': 3767, 'besides': 3768, 'squares': 3769, 'mushroom': 3770, 'gun': 3771, 'inaccurate': 3772, 'homestyle': 3773, 'nutritionally': 3774, 'nervous': 3775, 'dude': 3776, 'whipped': 3777, 'lips': 3778, 'stocking': 3779, 'freshly': 3780, 'path': 3781, 'unsure': 3782, 'fermented': 3783, 'unreliable': 3784, 'colombian': 3785, 'gems': 3786, 'melissa': 3787, 'progresso': 3788, 'musty': 3789, 'stool': 3790, 'weaker': 3791, 'yams': 3792, 'marinara': 3793, 'humans': 3794, 'chop': 3795, 'mangos': 3796, 'baronet': 3797, 'harmony': 3798, 'genetically': 3799, 'heads': 3800, 'saltines': 3801, 'concern': 3802, 'pete': 3803, 'praise': 3804, 'preference': 3805, 'drank': 3806, 'twists': 3807, 'puff': 3808, 'dot': 3809, 'smalls': 3810, 'tiger': 3811, 'slimey': 3812, 'maui': 3813, 'dandy': 3814, 'accept': 3815, 'sassy': 3816, 'udi': 3817, 'poppers': 3818, 'moving': 3819, 'altoid': 3820, 'shows': 3821, 'trouble': 3822, 'socks': 3823, 'target': 3824, 'bringing': 3825, 'current': 3826, 'substitue': 3827, 'car': 3828, 'marketing': 3829, 'unsatisfied': 3830, 'grounds': 3831, 'shockingly': 3832, 'germany': 3833, 'rhubarb': 3834, 'temperature': 3835, 'margarita': 3836, 'nerds': 3837, 'passion': 3838, 'painful': 3839, 'sooner': 3840, 'adequate': 3841, 'moxie': 3842, 'foam': 3843, 'sweat': 3844, 'peace': 3845, 'florentine': 3846, 'toss': 3847, 'logic': 3848, 'granny': 3849, 'sister': 3850, 'syrupy': 3851, 'xtra': 3852, 'stong': 3853, 'sum': 3854, 'ewwwww': 3855, 'er': 3856, 'biggest': 3857, 'dublin': 3858, 'leaky': 3859, 'marathon': 3860, 'hotter': 3861, 'refried': 3862, 'gumbo': 3863, 'wished': 3864, 'deboles': 3865, 'gm': 3866, 'gallon': 3867, 'consume': 3868, 'universal': 3869, 'marie': 3870, 'deli': 3871, 'lunchboxes': 3872, 'speak': 3873, 'frosted': 3874, 'future': 3875, 'organizer': 3876, 'needing': 3877, 'comforting': 3878, 'blooming': 3879, 'stands': 3880, 'gain': 3881, 'board': 3882, 'necessity': 3883, 'engaging': 3884, 'personally': 3885, 'stride': 3886, 'modern': 3887, 'widely': 3888, 'torn': 3889, 'intended': 3890, 'flu': 3891, 'sneaky': 3892, 'potentially': 3893, 'updated': 3894, 'stylish': 3895, 'ignored': 3896, 'ooooh': 3897, 'mat': 3898, 'forming': 3899, 'owned': 3900, 'gamble': 3901, 'thrives': 3902, 'chihuahuas': 3903, 'richer': 3904, 'teething': 3905, 'med': 3906, 'cutter': 3907, 'advanced': 3908, 'ff': 3909, 'unsafe': 3910, 'fact': 3911, 'dangerously': 3912, 'coats': 3913, 'easter': 3914, 'seven': 3915, 'hills': 3916, 'devoured': 3917, 'goats': 3918, 'burns': 3919, 'deeelicious': 3920, 'beginner': 3921, 'omgoodness': 3922, 'sunday': 3923, 'faulty': 3924, 'sufferer': 3925, 'oddly': 3926, 'tired': 3927, 'sugared': 3928, 'yoohoo': 3929, 'dynamite': 3930, 'holidays': 3931, 'changer': 3932, 'outdoors': 3933, 'minced': 3934, 'riesling': 3935, 'yikes': 3936, 'daddy': 3937, 'appetizer': 3938, 'cayenne': 3939, 'refund': 3940, 'rawhides': 3941, 'increases': 3942, 'sampling': 3943, 'pina': 3944, 'colada': 3945, 'decorations': 3946, 'soooooooo': 3947, 'toasty': 3948, 'carpet': 3949, 'di': 3950, 'desk': 3951, 'ryvita': 3952, 'emergen': 3953, 'kellog': 3954, 'frantoia': 3955, 'print': 3956, 'furikake': 3957, 'considered': 3958, 'trial': 3959, 'stone': 3960, 'sweeeeet': 3961, 'cento': 3962, 'overweight': 3963, 'seals': 3964, 'latest': 3965, 'sockeye': 3966, 'soldier': 3967, 'windows': 3968, 'hydrate': 3969, 'nights': 3970, 'pull': 3971, 'pyramid': 3972, 'pan': 3973, 'fats': 3974, 'israel': 3975, 'bummed': 3976, 'syndrome': 3977, 'cod': 3978, 'demand': 3979, 'spain': 3980, 'tricky': 3981, 'depending': 3982, 'cent': 3983, 'spirit': 3984, 'blind': 3985, 'ezekiel': 3986, 'muesli': 3987, 'probiotic': 3988, 'richard': 3989, 'directly': 3990, 'bonus': 3991, 'ohhh': 3992, 'kinds': 3993, 'taiwan': 3994, 'peachy': 3995, 'satisified': 3996, 'pate': 3997, 'experienced': 3998, 'gringo': 3999, 'beets': 4000, 'ghiradelli': 4001, 'kikkoman': 4002, 'nc': 4003, 'cavender': 4004, 'calls': 4005, 'sloppy': 4006, 'polish': 4007, 'potion': 4008, 'generally': 4009, 'eggnog': 4010, 'ackee': 4011, 'bumble': 4012, 'raised': 4013, 'eco': 4014, 'breading': 4015, 'blessed': 4016, 'fart': 4017, 'vege': 4018, 'papillon': 4019, 'breaking': 4020, 'signature': 4021, 'rolled': 4022, 'fits': 4023, 'squash': 4024, 'veranda': 4025, 'pringles': 4026, 'harissa': 4027, 'honeycomb': 4028, 'wrappers': 4029, 'deserve': 4030, 'decision': 4031, 'modifications': 4032, 'bucket': 4033, 'pr': 4034, 'comparing': 4035, 'goldfish': 4036, 'amounts': 4037, 'neighbor': 4038, 'happily': 4039, 'snake': 4040, 'ohhhhh': 4041, 'momma': 4042, 'appearance': 4043, 'arrangement': 4044, 'whenever': 4045, 'makers': 4046, 'gimmick': 4047, 'heard': 4048, 'scoop': 4049, 'caesar': 4050, 'gonna': 4051, 'guests': 4052, 'fails': 4053, 'mania': 4054, 'students': 4055, 'became': 4056, 'developed': 4057, 'diaper': 4058, 'tastiness': 4059, 'hurts': 4060, 'floral': 4061, 'zinger': 4062, 'intact': 4063, 'apply': 4064, 'bogus': 4065, 'cofffee': 4066, 'rd': 4067, 'el': 4068, 'varied': 4069, 'purchaser': 4070, 'stiff': 4071, 'mead': 4072, 'warehouse': 4073, 'wasteful': 4074, 'allergens': 4075, 'cosmic': 4076, 'caught': 4077, 'gal': 4078, 'sees': 4079, 'campbells': 4080, 'sparingly': 4081, 'singles': 4082, 'aspen': 4083, 'inconsistant': 4084, 'utter': 4085, 'dumb': 4086, 'tastless': 4087, 'wired': 4088, 'bistro': 4089, 'occasion': 4090, 'crf': 4091, 'building': 4092, 'tamarind': 4093, 'travels': 4094, 'duncan': 4095, 'ignore': 4096, 'stuffer': 4097, 'shed': 4098, 'trees': 4099, 'yi': 4100, 'disliked': 4101, 'vitakraft': 4102, 'faint': 4103, 'shipments': 4104, 'exercise': 4105, 'lumpy': 4106, 'fussie': 4107, 'shampoos': 4108, 'taster': 4109, 'infections': 4110, 'bullet': 4111, 'created': 4112, 'currants': 4113, 'chicago': 4114, 'practically': 4115, 'digesting': 4116, 'skippy': 4117, 'explodes': 4118, 'suppose': 4119, 'condensed': 4120, 'poppin': 4121, 'patty': 4122, 'sooooooooooo': 4123, 'breaker': 4124, 'paradise': 4125, 'pathetic': 4126, 'artifical': 4127, 'owners': 4128, 'ez': 4129, 'sweetz': 4130, 'shelter': 4131, 'official': 4132, 'inch': 4133, 'kookaburra': 4134, 'australian': 4135, 'leonidas': 4136, 'picante': 4137, 'ribbon': 4138, 'stella': 4139, 'brazil': 4140, 'foil': 4141, 'carne': 4142, 'asada': 4143, 'milder': 4144, 'favorably': 4145, 'conscience': 4146, 'deee': 4147, 'cleanse': 4148, 'diappointed': 4149, 'camp': 4150, 'gano': 4151, 'fondarific': 4152, 'autumn': 4153, 'isnt': 4154, 'generous': 4155, 'ton': 4156, 'saw': 4157, 'dick': 4158, 'animals': 4159, 'cotton': 4160, 'delicacy': 4161, 'overcooked': 4162, 'frog': 4163, 'response': 4164, 'arrives': 4165, 'material': 4166, 'waggin': 4167, 'newbie': 4168, 'hear': 4169, 'quali': 4170, 'functional': 4171, 'frank': 4172, 'moon': 4173, 'marketed': 4174, 'ingrediants': 4175, 'guaranteed': 4176, 'senna': 4177, 'pros': 4178, 'snacker': 4179, 'darker': 4180, 'ener': 4181, 'raving': 4182, 'cuban': 4183, 'pregnancy': 4184, 'rosso': 4185, 'warmth': 4186, 'innovative': 4187, 'efficient': 4188, 'spiciest': 4189, 'max': 4190, 'generic': 4191, 'lemongrass': 4192, 'mystery': 4193, 'banged': 4194, 'sit': 4195, 'suprised': 4196, 'failure': 4197, 'mentos': 4198, 'muddy': 4199, 'porkrinds': 4200, 'fromm': 4201, 'tastebuds': 4202, 'yea': 4203, 'saltine': 4204, 'sunkist': 4205, 'spelt': 4206, 'enriched': 4207, 'david': 4208, 'venus': 4209, 'wondering': 4210, 'doritos': 4211, 'vibrant': 4212, 'holes': 4213, 'favs': 4214, 'minimum': 4215, 'dew': 4216, 'hazelnuts': 4217, 'understatement': 4218, 'clover': 4219, 'crown': 4220, 'recalled': 4221, 'molly': 4222, 'expiry': 4223, 'lattes': 4224, 'grandmother': 4225, 'emptor': 4226, 'teen': 4227, 'sangria': 4228, 'import': 4229, 'doo': 4230, 'impress': 4231, 'accent': 4232, 'sigh': 4233, 'suggestion': 4234, 'born': 4235, 'couldnt': 4236, 'oyster': 4237, 'panettone': 4238, 'card': 4239, 'bisto': 4240, 'challenging': 4241, 'granddaughter': 4242, 'ex': 4243, 'att': 4244, 'manager': 4245, 'taters': 4246, 'bakers': 4247, 'truvia': 4248, 'welch': 4249, 'nido': 4250, 'noticed': 4251, 'differ': 4252, 'thus': 4253, 'dominant': 4254, 'brain': 4255, 'minis': 4256, 'mcdougall': 4257, 'stops': 4258, 'switching': 4259, 'substance': 4260, 'border': 4261, 'collie': 4262, 'bam': 4263, 'convert': 4264, 'boxer': 4265, 'fran': 4266, 'greener': 4267, 'wayyy': 4268, 'wakes': 4269, 'whiskey': 4270, 'reactions': 4271, 'brava': 4272, 'nutro': 4273, 'street': 4274, 'distinct': 4275, 'cleanser': 4276, 'eyes': 4277, 'picked': 4278, 'restaurants': 4279, 'families': 4280, 'expectation': 4281, 'village': 4282, 'cucumber': 4283, 'science': 4284, 'kiss': 4285, 'fo': 4286, 'mainstream': 4287, 'smoking': 4288, 'appropriate': 4289, 'refrigerate': 4290, 'lefse': 4291, 'pastries': 4292, 'bundle': 4293, 'waaaay': 4294, 'steep': 4295, 'bored': 4296, 'pastas': 4297, 'dk': 4298, 'mutt': 4299, 'crisco': 4300, 'truely': 4301, 'ad': 4302, 'dissapointment': 4303, 'woeber': 4304, 'pal': 4305, 'commercial': 4306, 'toothpicks': 4307, 'cinn': 4308, 'hopefully': 4309, 'sausages': 4310, 'maggie': 4311, 'former': 4312, 'skimpy': 4313, 'skewers': 4314, 'converted': 4315, 'sprouter': 4316, 'chik': 4317, 'chicory': 4318, 'cabinet': 4319, 'heavily': 4320, 'worthwhile': 4321, 'chex': 4322, 'chilis': 4323, 'surprises': 4324, 'speedy': 4325, 'fluid': 4326, 'pastry': 4327, 'ran': 4328, 'fulfilling': 4329, 'dilute': 4330, 'learning': 4331, 'nephew': 4332, 'polar': 4333, 'galil': 4334, 'innova': 4335, 'lara': 4336, 'infant': 4337, 'gogo': 4338, 'jarred': 4339, 'bud': 4340, 'nacho': 4341, 'brainer': 4342, 'min': 4343, 'hugely': 4344, 'dips': 4345, 'goodbye': 4346, 'ehhhh': 4347, 'phenominal': 4348, 'pkg': 4349, 'magnifico': 4350, 'worries': 4351, 'starburst': 4352, 'bandito': 4353, 'cascadian': 4354, 'digestives': 4355, 'ky': 4356, 'indigestion': 4357, 'noisy': 4358, 'violet': 4359, 'celery': 4360, 'prone': 4361, 'sipping': 4362, 'americolor': 4363, 'unnatural': 4364, 'bank': 4365, 'canines': 4366, 'press': 4367, 'ginseng': 4368, 'thoroughly': 4369, 'twelve': 4370, 'gobble': 4371, 'screw': 4372, 'glory': 4373, 'mon': 4374, 'tight': 4375, 'ended': 4376, 'corner': 4377, 'opposed': 4378, 'germination': 4379, 'mystic': 4380, 'smokies': 4381, 'dissolves': 4382, 'moroccan': 4383, 'ye': 4384, 'cigar': 4385, 'payday': 4386, 'bella': 4387, 'prescription': 4388, 'north': 4389, 'sensitivities': 4390, 'yummies': 4391, 'precious': 4392, 'desserts': 4393, 'flashes': 4394, 'pillsbury': 4395, 'seattle': 4396, 'told': 4397, 'tub': 4398, 'cappucino': 4399, 'pungent': 4400, 'lapsang': 4401, 'souchong': 4402, 'olivella': 4403, 'zhena': 4404, 'dragon': 4405, 'names': 4406, 'doubleshot': 4407, 'enzyme': 4408, 'bilberry': 4409, 'rtd': 4410, 'yumyum': 4411, 'curbs': 4412, 'miserable': 4413, 'exceeded': 4414, 'pasty': 4415, 'mcp': 4416, 'virbac': 4417, 'yakisoba': 4418, 'refrigerator': 4419, 'sri': 4420, 'lanka': 4421, 'xmas': 4422, 'skillet': 4423, 'random': 4424, 'maine': 4425, 'granules': 4426, 'exploding': 4427, 'icing': 4428, 'scientific': 4429, 'mozzarella': 4430, 'versions': 4431, 'reported': 4432, 'substitution': 4433, 'mesquite': 4434, 'flavours': 4435, 'ancient': 4436, 'men': 4437, 'core': 4438, 'awfully': 4439, 'supposedly': 4440, 'nastiest': 4441, 'walk': 4442, 'santa': 4443, 'tire': 4444, 'tis': 4445, 'restricted': 4446, 'smooooth': 4447, 'nourishing': 4448, 'pat': 4449, 'flight': 4450, 'vacation': 4451, 'russian': 4452, 'weekend': 4453, 'fajita': 4454, 'oi': 4455, 'wilton': 4456, 'ewwwwww': 4457, 'imitation': 4458, 'loads': 4459, 'sal': 4460, 'breakage': 4461, 'bowel': 4462, 'watcher': 4463, 'tourangelle': 4464, 'sugarfree': 4465, 'madhouse': 4466, 'fennel': 4467, 'invention': 4468, 'smiles': 4469, 'particular': 4470, 'canning': 4471, 'eww': 4472, 'confirmed': 4473, 'kup': 4474, 'manufacturer': 4475, 'thru': 4476, 'liars': 4477, 'luck': 4478, 'mole': 4479, 'remarkable': 4480, 'crocker': 4481, 'reds': 4482, 'cornbread': 4483, 'chiles': 4484, 'wax': 4485, 'dud': 4486, 'bittersweet': 4487, 'shiba': 4488, 'elusive': 4489, 'underwhelming': 4490, 'gummie': 4491, 'tac': 4492, 'murray': 4493, 'manna': 4494, 'baba': 4495, 'samples': 4496, 'tiki': 4497, 'peak': 4498, 'facility': 4499, 'vending': 4500, 'masterpiece': 4501, 'harder': 4502, 'horseradish': 4503, 'irresistible': 4504, 'fills': 4505, 'lakewood': 4506, 'frenzy': 4507, 'record': 4508, 'blackstrap': 4509, 'ewww': 4510, 'africa': 4511, 'labrada': 4512, 'mission': 4513, 'contaminated': 4514, 'conscious': 4515, 'wheats': 4516, 'awake': 4517, 'benefit': 4518, 'cigars': 4519, 'dieter': 4520, 'frothy': 4521, 'tacs': 4522, 'tubs': 4523, 'cramps': 4524, 'dinosaur': 4525, 'grandson': 4526, 'jitters': 4527, 'overwhelms': 4528, 'frito': 4529, 'peanutty': 4530, 'colorado': 4531, 'recomended': 4532, 'pike': 4533, 'unlike': 4534, 'suited': 4535, 'greyhounds': 4536, 'stools': 4537, 'tears': 4538, 'ache': 4539, 'compatible': 4540, 'salon': 4541, 'jeremiah': 4542, 'blame': 4543, 'afraid': 4544, 'situation': 4545, 'dishonest': 4546, 'prudhomme': 4547, 'melon': 4548, 'colas': 4549, 'eukanuba': 4550, 'stain': 4551, 'baklava': 4552, 'alfredo': 4553, 'anise': 4554, 'sanity': 4555, 'revv': 4556, 'electric': 4557, 'blowing': 4558, 'responsible': 4559, 'rid': 4560, 'wtf': 4561, 'mkt': 4562, 'veri': 4563, 'inn': 4564, 'shortening': 4565, 'waited': 4566, 'annoying': 4567, 'yummi': 4568, 'fruitcake': 4569, 'fuji': 4570, 'disgustingly': 4571, 'warmed': 4572, 'altura': 4573, 'picking': 4574, 'sophie': 4575, 'nifty': 4576, 'mouthwatering': 4577, 'waist': 4578, 'menu': 4579, 'factory': 4580, 'morocco': 4581, 'hugger': 4582, 'convient': 4583, 'weed': 4584, 'noticeable': 4585, 'oysters': 4586, 'across': 4587, 'soupy': 4588, 'bless': 4589, 'mixing': 4590, 'butt': 4591, 'story': 4592, 'unappealing': 4593, 'snobs': 4594, 'peruvian': 4595, 'monkey': 4596, 'mae': 4597, 'ploy': 4598, 'arsenic': 4599, 'program': 4600, 'rotation': 4601, 'atkins': 4602, 'orders': 4603, 'influenster': 4604, 'buckwheat': 4605, 'ch': 4606, 'smoke': 4607, 'thrown': 4608, 'soymilk': 4609, 'icicle': 4610, 'taylors': 4611, 'kopi': 4612, 'buyers': 4613, 'colorful': 4614, 'finely': 4615, 'grilling': 4616, 'unremarkable': 4617, 'expense': 4618, 'limes': 4619, 'hs': 4620, 'pak': 4621, 'smile': 4622, 'coated': 4623, 'luzianne': 4624, 'glug': 4625, 'indulge': 4626, 'headaches': 4627, 'attack': 4628, 'graet': 4629, 'sachets': 4630, 'raise': 4631, 'chocalate': 4632, 'natures': 4633, 'slick': 4634, 'relieved': 4635, 'symptoms': 4636, 'trident': 4637, 'queso': 4638, 'cures': 4639, 'refresher': 4640, 'cartilage': 4641, 'neck': 4642, 'marble': 4643, 'lock': 4644, 'intolerance': 4645, 'ziplock': 4646, 'larry': 4647, 'rica': 4648, 'carnation': 4649, 'charging': 4650, 'wars': 4651, 'lately': 4652, 'szechuan': 4653, 'breeder': 4654, 'rough': 4655, 'jr': 4656, 'superman': 4657, 'sharing': 4658, 'starkist': 4659, 'lox': 4660, 'hannah': 4661, 'drawbacks': 4662, 'amber': 4663, 'ratings': 4664, 'sweetest': 4665, 'liquorice': 4666, 'grrrrrreat': 4667, 'depression': 4668, 'consider': 4669, 'biscuts': 4670, 'indulgent': 4671, 'mist': 4672, 'revelation': 4673, 'yippy': 4674, 'redwood': 4675, 'step': 4676, 'tetra': 4677, 'migraines': 4678, 'suggested': 4679, 'dolmas': 4680, 'egyptian': 4681, 'cluster': 4682, 'remind': 4683, 'israeli': 4684, 'falafel': 4685, 'garibaldi': 4686, 'aptly': 4687, 'named': 4688, 'fettucini': 4689, 'dole': 4690, 'proactive': 4691, 'brie': 4692, 'bisquik': 4693, 'sparkles': 4694, 'energizer': 4695, 'tripping': 4696, 'alpen': 4697, 'runts': 4698, 'tetley': 4699, 'steam': 4700, 'disks': 4701, 'lucini': 4702, 'tatses': 4703, 'garret': 4704, 'refuses': 4705, 'regularly': 4706, 'licorette': 4707, 'nutrasweet': 4708, 'silly': 4709, 'reordered': 4710, 'losing': 4711, 'powering': 4712, 'vera': 4713, 'dalmatian': 4714, 'convienent': 4715, 'azteca': 4716, 'frying': 4717, 'suck': 4718, 'horchata': 4719, 'bulky': 4720, 'manischewitz': 4721, 'stinger': 4722, 'canister': 4723, 'blown': 4724, 'toilet': 4725, 'overpowers': 4726, 'shaken': 4727, 'stirred': 4728, 'butts': 4729, 'hamster': 4730, 'disguise': 4731, 'loud': 4732, 'breadsticks': 4733, 'smokes': 4734, 'escape': 4735, 'garam': 4736, 'score': 4737, 'southwest': 4738, 'fibergourmet': 4739, 'common': 4740, 'model': 4741, 'dusty': 4742, 'dubble': 4743, 'gluey': 4744, 'favortie': 4745, 'purists': 4746, 'foie': 4747, 'hmn': 4748, 'tandoori': 4749, 'accepted': 4750, 'wonka': 4751, 'sourness': 4752, 'motivated': 4753, 'invisible': 4754, 'chico': 4755, 'dinners': 4756, 'gravel': 4757, 'gr': 4758, 'everybodys': 4759, 'freezing': 4760, 'highway': 4761, 'indescribably': 4762, 'barks': 4763, 'doughnut': 4764, 'healthfood': 4765, 'sophisticated': 4766, 'nutrigrain': 4767, 'hydrates': 4768, 'memorable': 4769, 'atomic': 4770, 'wicked': 4771, 'whether': 4772, 'renamed': 4773, 'countries': 4774, 'browns': 4775, 'hocks': 4776, 'honestly': 4777, 'saving': 4778, 'soothes': 4779, 'hayfever': 4780, 'sir': 4781, 'jacklinks': 4782, 'storing': 4783, 'bands': 4784, 'limit': 4785, 'trusted': 4786, 'applied': 4787, 'patches': 4788, 'hellmann': 4789, 'genuinely': 4790, 'australia': 4791, 'cutting': 4792, 'wholesale': 4793, 'mislead': 4794, 'castor': 4795, 'obsession': 4796, 'karen': 4797, 'mj': 4798, 'grand': 4799, 'fortified': 4800, 'bust': 4801, 'hides': 4802, 'lake': 4803, 'lodge': 4804, 'masquerading': 4805, 'decreases': 4806, 'merguez': 4807, 'lights': 4808, 'grower': 4809, 'aside': 4810, 'iowa': 4811, 'huh': 4812, 'virtually': 4813, 'indestructible': 4814, 'delicously': 4815, 'goof': 4816, 'grocer': 4817, 'competing': 4818, 'casein': 4819, 'vegitarian': 4820, 'cholocate': 4821, 'quackers': 4822, 'algae': 4823, 'ferret': 4824, 'dolcetto': 4825, 'calm': 4826, 'teabags': 4827, 'fussiest': 4828, 'carr': 4829, 'floors': 4830, 'merchandise': 4831, 'lapped': 4832, 'gut': 4833, 'bark': 4834, 'sniff': 4835, 'spotted': 4836, 'jazz': 4837, 'europe': 4838, 'diner': 4839, 'cripsy': 4840, 'yowza': 4841, 'baskets': 4842, 'sherman': 4843, 'county': 4844, 'crow': 4845, 'andes': 4846, 'language': 4847, 'ireland': 4848, 'detail': 4849, 'thoughts': 4850, 'minor': 4851, 'cheezit': 4852, 'reeks': 4853, 'adventures': 4854, 'bolder': 4855, 'kibbles': 4856, 'overtones': 4857, 'shoppe': 4858, 'vey': 4859, 'cadbury': 4860, 'willing': 4861, 'uneven': 4862, 'deter': 4863, 'nylon': 4864, 'stout': 4865, 'vice': 4866, 'brush': 4867, 'cordials': 4868, 'further': 4869, 'le': 4870, 'shoe': 4871, 'gumball': 4872, 'refill': 4873, 'tobacco': 4874, 'yuppy': 4875, 'ends': 4876, 'protection': 4877, 'paint': 4878, 'thicker': 4879, 'moment': 4880, 'aussie': 4881, 'rific': 4882, 'halvah': 4883, 'revised': 4884, 'weigh': 4885, 'wallet': 4886, 'es': 4887, 'stunning': 4888, 'kobe': 4889, 'kmr': 4890, 'lundberg': 4891, 'seltzer': 4892, 'derived': 4893, 'steeping': 4894, 'munchkin': 4895, 'coooool': 4896, 'fence': 4897, 'cloud': 4898, 'pulp': 4899, 'passed': 4900, 'spectrum': 4901, 'reducing': 4902, 'ingred': 4903, 'horsetail': 4904, 'nutrients': 4905, 'pixy': 4906, 'coach': 4907, 'unsatisfying': 4908, 'blessing': 4909, 'twinnings': 4910, 'bunny': 4911, 'bargin': 4912, 'debris': 4913, 'distant': 4914, 'mack': 4915, 'devine': 4916, 'bouncy': 4917, 'employees': 4918, 'otc': 4919, 'ballerina': 4920, 'wonderfull': 4921, 'rainbow': 4922, 'disco': 4923, 'designed': 4924, 'overnight': 4925, 'gel': 4926, 'evenly': 4927, 'awefull': 4928, 'farmers': 4929, 'deer': 4930, 'vinci': 4931, 'remover': 4932, 'dance': 4933, 'limits': 4934, 'casual': 4935, 'bs': 4936, 'study': 4937, 'dissolving': 4938, 'smokin': 4939, 'envelopes': 4940, 'explosion': 4941, 'bunches': 4942, 'deluxe': 4943, 'enthusiastically': 4944, 'wolfgand': 4945, 'compost': 4946, 'tamales': 4947, 'proportions': 4948, 'perspective': 4949, 'scare': 4950, 'unparalleled': 4951, 'jet': 4952, 'alphabet': 4953, 'id': 4954, 'rudy': 4955, 'lowreys': 4956, 'mulling': 4957, 'distress': 4958, 'regards': 4959, 'kellogs': 4960, 'backpacking': 4961, 'producers': 4962, 'seniors': 4963, 'est': 4964, 'exceptionally': 4965, 'dioxide': 4966, 'stage': 4967, 'largest': 4968, 'capsule': 4969, 'ist': 4970, 'desires': 4971, 'tasy': 4972, 'longtime': 4973, 'receipt': 4974, 'sticking': 4975, 'ka': 4976, 'chocula': 4977, 'magically': 4978, 'hines': 4979, 'mainly': 4980, 'hexane': 4981, 'nutter': 4982, 'stored': 4983, 'mouthful': 4984, 'resealable': 4985, 'problematic': 4986, 'od': 4987, 'vials': 4988, 'jacobs': 4989, 'kronung': 4990, 'writers': 4991, 'summertime': 4992, 'awesom': 4993, 'defies': 4994, 'ethical': 4995, 'horizon': 4996, 'claeys': 4997, 'looseleaf': 4998, 'quit': 4999, 'leader': 5000, 'lollipop': 5001, 'reflex': 5002, 'clumpy': 5003, 'marks': 5004, 'measurements': 5005, 'toothbrush': 5006, 'carte': 5007, 'noire': 5008, 'squid': 5009, 'lifetime': 5010, 'hotdog': 5011, 'lowers': 5012, 'knees': 5013, 'dente': 5014, 'warms': 5015, 'asparagus': 5016, 'weapon': 5017, 'include': 5018, 'ritual': 5019, 'suggest': 5020, 'nu': 5021, 'geat': 5022, 'alittle': 5023, 'thumb': 5024, 'pigs': 5025, 'haven': 5026, 'fresca': 5027, 'keeper': 5028, 'massive': 5029, 'kyjen': 5030, 'infusion': 5031, 'hing': 5032, 'gratification': 5033, 'device': 5034, 'hazardous': 5035, 'conventional': 5036, 'greeen': 5037, 'jura': 5038, 'capresso': 5039, 'masters': 5040, 'smothered': 5041, 'org': 5042, 'jake': 5043, 'yolk': 5044, 'formulation': 5045, 'pappy': 5046, 'abused': 5047, 'geriatric': 5048, 'jordan': 5049, 'setup': 5050, 'envy': 5051, 'hardy': 5052, 'nongshim': 5053, 'mars': 5054, 'rootbeer': 5055, 'teapot': 5056, 'tries': 5057, 'chipped': 5058, 'cooker': 5059, 'fare': 5060, 'iranian': 5061, 'lily': 5062, 'aw': 5063, 'foot': 5064, 'fern': 5065, 'crunchies': 5066, 'marjoram': 5067, 'oregano': 5068, 'gummys': 5069, 'lakes': 5070, 'aching': 5071, 'ostrich': 5072, 'flakey': 5073, 'bribe': 5074, 'rices': 5075, 'reformulated': 5076, 'laden': 5077, 'modulated': 5078, 'pool': 5079, 'sause': 5080, 'approves': 5081, 'glaze': 5082, 'roy': 5083, 'stems': 5084, 'fanatic': 5085, 'jolokia': 5086, 'educational': 5087, 'cousin': 5088, 'tests': 5089, 'grammy': 5090, 'breakers': 5091, 'buffet': 5092, 'muslin': 5093, 'wolf': 5094, 'seeking': 5095, 'jimmy': 5096, 'preparing': 5097, 'mochi': 5098, 'spry': 5099, 'loooove': 5100, 'postage': 5101, 'laser': 5102, 'lackluster': 5103, 'dachshunds': 5104, 'granuals': 5105, 'disolve': 5106, 'propylene': 5107, 'glycol': 5108, 'outrageously': 5109, 'speaks': 5110, 'rancher': 5111, 'batches': 5112, 'crush': 5113, 'medal': 5114, 'vine': 5115, 'limey': 5116, 'reese': 5117, 'muscle': 5118, 'confection': 5119, 'sustainable': 5120, 'pavilion': 5121, 'flow': 5122, 'soldiers': 5123, 'guinea': 5124, 'rover': 5125, 'wimpy': 5126, 'cooper': 5127, 'july': 5128, 'block': 5129, 'cons': 5130, 'qa': 5131, 'incomplete': 5132, 'foulest': 5133, 'gorilla': 5134, 'pretz': 5135, 'ivory': 5136, 'floss': 5137, 'creativity': 5138, 'alergies': 5139, 'theres': 5140, 'fogchaser': 5141, 'disappearing': 5142, 'scared': 5143, 'engineering': 5144, 'piana': 5145, 'teenager': 5146, 'hollandaise': 5147, 'smoothe': 5148, 'zoom': 5149, 'boscoli': 5150, 'rats': 5151, 'folk': 5152, 'fru': 5153, 'bustelo': 5154, 'team': 5155, 'outweigh': 5156, 'overpowered': 5157, 'thickener': 5158, 'wisecrackers': 5159, 'gardenia': 5160, 'patience': 5161, 'outcome': 5162, 'cran': 5163, 'ocean': 5164, 'fever': 5165, 'fazer': 5166, 'reception': 5167, 'smokers': 5168, 'lies': 5169, 'pomegranite': 5170, 'senses': 5171, 'packagining': 5172, 'wal': 5173, 'mart': 5174, 'retro': 5175, 'por': 5176, 'kwan': 5177, 'truson': 5178, 'nonetheless': 5179, 'freshner': 5180, 'upper': 5181, 'camper': 5182, 'panko': 5183, 'sizing': 5184, 'required': 5185, 'permanent': 5186, 'rio': 5187, 'expiring': 5188, 'flytrap': 5189, 'salada': 5190, 'uum': 5191, 'bergin': 5192, 'convent': 5193, 'classy': 5194, 'recepie': 5195, 'wasted': 5196, 'insult': 5197, 'unreasonably': 5198, 'airy': 5199, 'station': 5200, 'snowball': 5201, 'maintenance': 5202, 'promotes': 5203, 'wasting': 5204, 'detectable': 5205, 'savor': 5206, 'stimulant': 5207, 'imagined': 5208, 'reordering': 5209, 'beet': 5210, 'stroopwafels': 5211, 'landjaeger': 5212, 'enviroment': 5213, 'greenbox': 5214, 'anybody': 5215, 'showed': 5216, 'teacup': 5217, 'patch': 5218, 'garnish': 5219, 'shelves': 5220, 'lively': 5221, 'sweeeeeet': 5222, 'talkingrain': 5223, 'choked': 5224, 'spirited': 5225, 'harvey': 5226, 'pow': 5227, 'unpredictable': 5228, 'gooooood': 5229, 'sport': 5230, 'nutricity': 5231, 'cheezy': 5232, 'fantabulous': 5233, 'sunny': 5234, 'newtons': 5235, 'chocolove': 5236, 'disposakup': 5237, 'beaver': 5238, 'medication': 5239, 'burma': 5240, 'mtn': 5241, 'twisted': 5242, 'medjool': 5243, 'counting': 5244, 'judge': 5245, 'sums': 5246, 'producer': 5247, 'cares': 5248, 'dane': 5249, 'file': 5250, 'started': 5251, 'borden': 5252, 'mincemeat': 5253, 'heeler': 5254, 'shockers': 5255, 'living': 5256, 'fizziness': 5257, 'dallas': 5258, 'koi': 5259, 'producto': 5260, 'demerara': 5261, 'mailing': 5262, 'flapper': 5263, 'ruff': 5264, 'includes': 5265, 'fluctuations': 5266, 'cowboy': 5267, 'buttermilk': 5268, 'guava': 5269, 'zzzzzzzzz': 5270, 'serendipity': 5271, 'pair': 5272, 'grate': 5273, 'phase': 5274, 'maki': 5275, 'arare': 5276, 'proper': 5277, 'riffic': 5278, 'rewards': 5279, 'beefeaters': 5280, 'eatable': 5281, 'belief': 5282, 'against': 5283, 'nuff': 5284, 'enery': 5285, 'bricks': 5286, 'edited': 5287, 'dentastix': 5288, 'maynard': 5289, 'sources': 5290, 'goop': 5291, 'goooooood': 5292, 'festive': 5293, 'moderation': 5294, 'lakerol': 5295, 'lord': 5296, 'flood': 5297, 'dogslove': 5298, 'obviously': 5299, 'pumping': 5300, 'chives': 5301, 'dino': 5302, 'sticker': 5303, 'lick': 5304, 'woth': 5305, 'unreal': 5306, 'poptart': 5307, 'dipped': 5308, 'ashtray': 5309, 'harrogate': 5310, 'bellini': 5311, 'herr': 5312, 'bleu': 5313, 'fillings': 5314, 'deeelish': 5315, 'rejuvenating': 5316, 'freak': 5317, 'isn': 5318, 'oskri': 5319, 'sand': 5320, 'og': 5321, 'removed': 5322, 'grassfed': 5323, 'vimto': 5324, 'pearls': 5325, 'replaced': 5326, 'suprise': 5327, 'chewiness': 5328, 'jewel': 5329, 'midday': 5330, 'simplicity': 5331, 'popeye': 5332, 'mongolian': 5333, 'shortcake': 5334, 'reccomended': 5335, 'weighing': 5336, 'complaint': 5337, 'liter': 5338, 'ayurvedic': 5339, 'sherry': 5340, 'dissappointment': 5341, 'wallop': 5342, 'charity': 5343, 'donna': 5344, 'atlantic': 5345, 'victorian': 5346, 'aids': 5347, 'mis': 5348, 'coupon': 5349, 'platinum': 5350, 'tongue': 5351, 'layer': 5352, 'flint': 5353, 'pinhead': 5354, 'unrefined': 5355, 'peony': 5356, 'chuck': 5357, 'hellman': 5358, 'tim': 5359, 'essentially': 5360, 'swallowing': 5361, 'optimal': 5362, 'buffy': 5363, 'wholly': 5364, 'smiley': 5365, 'sweetners': 5366, 'beaba': 5367, 'canceling': 5368, 'nourish': 5369, 'ot': 5370, 'cr': 5371, 'lush': 5372, 'mistro': 5373, 'area': 5374, 'filets': 5375, 'deet': 5376, 'greyhound': 5377, 'mislabeled': 5378, 'clamato': 5379, 'strictly': 5380, 'totw': 5381, 'oodles': 5382, 'ann': 5383, 'bike': 5384, 'milano': 5385, 'miniature': 5386, 'mollie': 5387, 'rides': 5388, 'licks': 5389, 'yoghurt': 5390, 'nougat': 5391, 'trolli': 5392, 'renewing': 5393, 'aging': 5394, 'nite': 5395, 'miniatures': 5396, 'informative': 5397, 'tinned': 5398, 'tenders': 5399, 'caffine': 5400, 'pkgs': 5401, 'encountered': 5402, 'fage': 5403, 'skinners': 5404, 'tuscany': 5405, 'ink': 5406, 'separated': 5407, 'variable': 5408, 'amaranth': 5409, 'gumballs': 5410, 'initially': 5411, 'nutrient': 5412, 'cleared': 5413, 'pommie': 5414, 'capt': 5415, 'scores': 5416, 'flavourful': 5417, 'driver': 5418, 'somebody': 5419, 'lucys': 5420, 'sanding': 5421, 'toppings': 5422, 'sky': 5423, 'caliente': 5424, 'tasts': 5425, 'anniversary': 5426, 'descripton': 5427, 'bumps': 5428, 'harry': 5429, 'potter': 5430, 'clumps': 5431, 'mackerel': 5432, 'wheaten': 5433, 'noh': 5434, 'exp': 5435, 'satay': 5436, 'charles': 5437, 'complement': 5438, 'disposa': 5439, 'logs': 5440, 'gracie': 5441, 'proven': 5442, 'gimborn': 5443, 'drip': 5444, 'unbeleivable': 5445, 'shimmer': 5446, 'liquids': 5447, 'grrrrrrreat': 5448, 'happiness': 5449, 'rabitos': 5450, 'persian': 5451, 'alaskan': 5452, 'baconnaise': 5453, 'hp': 5454, 'waters': 5455, 'ja': 5456, 'sunmaid': 5457, 'gin': 5458, 'greys': 5459, 'piquant': 5460, 'bellys': 5461, 'horses': 5462, 'fraction': 5463, 'mickey': 5464, 'lawry': 5465, 'pantene': 5466, 'arent': 5467, 'muss': 5468, 'oloves': 5469, 'gels': 5470, 'ratio': 5471, 'laces': 5472, 'purposes': 5473, 'stole': 5474, 'grinder': 5475, 'struck': 5476, 'bobs': 5477, 'additional': 5478, 'load': 5479, 'raises': 5480, 'ceral': 5481, 'existent': 5482, 'heath': 5483, 'cube': 5484, 'lea': 5485, 'elderberry': 5486, 'croissants': 5487, 'amla': 5488, 'zealand': 5489, 'undecided': 5490, 'unfiltered': 5491, 'sicilian': 5492, 'cancel': 5493, 'learned': 5494, 'crunchiness': 5495, 'occasions': 5496, 'mad': 5497, 'refills': 5498, 'chuckles': 5499, 'starve': 5500, 'molded': 5501, 'overhyped': 5502, 'figured': 5503, 'critters': 5504, 'feelin': 5505, 'greeenies': 5506, 'crumble': 5507, 'sauerkraut': 5508, 'toddy': 5509, 'satisfactory': 5510, 'mee': 5511, 'whee': 5512, 'stadium': 5513, 'kippered': 5514, 'burger': 5515, 'intensely': 5516, 'ranchero': 5517, 'constipating': 5518, 'sorbet': 5519, 'fulfillment': 5520, 'robert': 5521, 'cj': 5522, 'april': 5523, 'chewys': 5524, 'milka': 5525, 'joes': 5526, 'crepes': 5527, 'anticipated': 5528, 'currant': 5529, 'understated': 5530, 'nog': 5531, 'police': 5532, 'coffeee': 5533, 'praline': 5534, 'infants': 5535, 'subjective': 5536, 'noms': 5537, 'airtight': 5538, 'agressive': 5539, 'mash': 5540, 'plantation': 5541, 'orgran': 5542, 'crystallized': 5543, 'hail': 5544, 'krispies': 5545, 'spout': 5546, 'appears': 5547, 'redskin': 5548, 'quaility': 5549, 'metal': 5550, 'pond': 5551, 'kelp': 5552, 'chille': 5553, 'bubblegum': 5554, 'meringue': 5555, 'awe': 5556, 'wonton': 5557, 'crop': 5558, 'explode': 5559, 'kc': 5560, 'excellently': 5561, 'repulsive': 5562, 'tempting': 5563, 'kal': 5564, 'bi': 5565, 'lawn': 5566, 'textured': 5567, 'multifaceted': 5568, 'provide': 5569, 'energizing': 5570, 'windsor': 5571, 'mcdonalds': 5572, 'applications': 5573, 'hybrid': 5574, 'supervised': 5575, 'creations': 5576, 'neo': 5577, 'orangy': 5578, 'conflicted': 5579, 'constipated': 5580, 'therapy': 5581, 'pipes': 5582, 'apo': 5583, 'utz': 5584, 'worldwide': 5585, 'gracious': 5586, 'grrrr': 5587, 'worn': 5588, 'warn': 5589, 'sellers': 5590, 'fantastico': 5591, 'belts': 5592, 'foodshouldtastegood': 5593, 'front': 5594, 'returned': 5595, 'hickory': 5596, 'multipurpose': 5597, 'ma': 5598, 'zang': 5599, 'treads': 5600, 'bailey': 5601, 'nobody': 5602, 'crispness': 5603, 'xanthan': 5604, 'returning': 5605, 'sugarworks': 5606, 'snappy': 5607, 'image': 5608, 'reeses': 5609, 'cabbage': 5610, 'vit': 5611, 'xtreme': 5612, 'butterscotch': 5613, 'jury': 5614, 'prefers': 5615, 'pomegranates': 5616, 'snacky': 5617, 'spicing': 5618, 'corny': 5619, 'tilda': 5620, 'inadequate': 5621, 'amzaon': 5622, 'maeda': 5623, 'horrendous': 5624, 'strip': 5625, 'nancy': 5626, 'surpassed': 5627, 'parma': 5628, 'brag': 5629, 'caravan': 5630, 'promises': 5631, 'hansen': 5632, 'breakfasts': 5633, 'caring': 5634, 'vino': 5635, 'italiano': 5636, 'dalfour': 5637, 'doctoring': 5638, 'stocked': 5639, 'sucked': 5640, 'snapple': 5641, 'rumford': 5642, 'sandy': 5643, 'string': 5644, 'figaro': 5645, 'fabulosa': 5646, 'ruby': 5647, 'ocha': 5648, 'queen': 5649, 'kalua': 5650, 'indispensible': 5651, 'tillamook': 5652, 'creation': 5653, 'tahitian': 5654, 'origin': 5655, 'giggle': 5656, 'nitrites': 5657, 'disease': 5658, 'morsels': 5659, 'vidalia': 5660, 'margaret': 5661, 'unbearably': 5662, 'acrid': 5663, 'mulberry': 5664, 'koma': 5665, 'troubles': 5666, 'knife': 5667, 'ramune': 5668, 'uti': 5669, 'quanity': 5670, 'sammy': 5671, 'fluorescent': 5672, 'greece': 5673, 'hardest': 5674, 'chocolat': 5675, 'sno': 5676, 'pussy': 5677, 'become': 5678, 'thistle': 5679, 'disclaimer': 5680, 'cocker': 5681, 'flake': 5682, 'rhinds': 5683, 'thankful': 5684, 'versitile': 5685, 'eastman': 5686, 'linguine': 5687, 'craft': 5688, 'otis': 5689, 'shilajit': 5690, 'tubes': 5691, 'unbiased': 5692, 'puffcorn': 5693, 'artificially': 5694, 'dakine': 5695, 'ml': 5696, 'appreciate': 5697, 'worry': 5698, 'naan': 5699, 'putrid': 5700, 'halal': 5701, 'beginning': 5702, 'bulbs': 5703, 'butterfinger': 5704, 'shavings': 5705, 'meyer': 5706, 'dea': 5707, 'appetite': 5708, 'brandi': 5709, 'greenyoung': 5710, 'timothys': 5711, 'chalk': 5712, 'steel': 5713, 'baseball': 5714, 'turning': 5715, 'wakeup': 5716, 'conveniently': 5717, 'balm': 5718, 'ganocafe': 5719, 'falsely': 5720, 'illegal': 5721, 'mouse': 5722, 'glorious': 5723, 'kiddos': 5724, 'recommendation': 5725, 'workers': 5726, 'fantastically': 5727, 'vegg': 5728, 'gerd': 5729, 'inu': 5730, 'crystalized': 5731, 'asks': 5732, 'custom': 5733, 'reusable': 5734, 'soyrizo': 5735, 'differently': 5736, 'hiding': 5737, 'duty': 5738, 'grreat': 5739, 'flavorings': 5740, 'kale': 5741, 'foundation': 5742, 'belong': 5743, 'experiencing': 5744, 'journey': 5745, 'brazilian': 5746, 'fours': 5747, 'quest': 5748, 'lowered': 5749, 'korean': 5750, 'bulgogi': 5751, 'goodlife': 5752, 'feminine': 5753, 'volumizing': 5754, 'forest': 5755, 'hostess': 5756, 'sonny': 5757, 'whoo': 5758, 'uber': 5759, 'mung': 5760, 'kipling': 5761, 'resort': 5762, 'similac': 5763, 'genmai': 5764, 'intolerant': 5765, 'inches': 5766, 'improve': 5767, 'silken': 5768, 'fyi': 5769, 'teens': 5770, 'airline': 5771, 'supervise': 5772, 'flashback': 5773, 'cakesters': 5774, 'fudgy': 5775, 'digging': 5776, 'champ': 5777, 'dave': 5778, 'melange': 5779, 'misunderstood': 5780, 'yumo': 5781, 'energize': 5782, 'barf': 5783, 'baconaise': 5784, 'adventurous': 5785, 'enviro': 5786, 'cinnabon': 5787, 'menthol': 5788, 'bellagio': 5789, 'ribs': 5790, 'outs': 5791, 'glucose': 5792, 'values': 5793, 'clusters': 5794, 'kadoya': 5795, 'furkids': 5796, 'eagle': 5797, 'ymmv': 5798, 'boylan': 5799, 'parsley': 5800, 'gnawhide': 5801, 'blended': 5802, 'bc': 5803, 'duped': 5804, 'munchy': 5805, 'spendy': 5806, 'ferns': 5807, 'rottweiler': 5808, 'bloating': 5809, 'dose': 5810, 'bugles': 5811, 'newton': 5812, 'tainted': 5813, 'dinosaurs': 5814, 'cocolate': 5815, 'peanutbutter': 5816, 'ojai': 5817, 'lemonaise': 5818, 'listen': 5819, 'frappuccino': 5820, 'effervescent': 5821, 'drain': 5822, 'sarracenia': 5823, 'leucophylla': 5824, 'measure': 5825, 'skeptic': 5826, 'jones': 5827, 'afterwards': 5828, 'rounded': 5829, 'berg': 5830, 'grrrreat': 5831, 'killing': 5832, 'knox': 5833, 'flavia': 5834, 'nutrisystem': 5835, 'dove': 5836, 'unacceptable': 5837, 'cage': 5838, 'orgasmic': 5839, 'pico': 5840, 'irresistable': 5841, 'mcvitie': 5842, 'lindy': 5843, 'woofed': 5844, 'spare': 5845, 'bionature': 5846, 'bun': 5847, 'resolved': 5848, 'tarrazu': 5849, 'barilla': 5850, 'creamier': 5851, 'airborne': 5852, 'manuka': 5853, 'woo': 5854, 'conditioning': 5855, 'cumin': 5856, 'controlled': 5857, 'soybean': 5858, 'itching': 5859, 'tangles': 5860, 'munchie': 5861, 'equals': 5862, 'beanboozled': 5863, 'iodine': 5864, 'weeds': 5865, 'autistic': 5866, 'giorgio': 5867, 'congou': 5868, 'pdq': 5869, 'lay': 5870, 'gastrointestinal': 5871, 'billion': 5872, 'wrapper': 5873, 'gained': 5874, 'quart': 5875, 'strangely': 5876, 'clove': 5877, 'ese': 5878, 'shin': 5879, 'doubtful': 5880, 'bel': 5881, 'medallions': 5882, 'midnight': 5883, 'sustainably': 5884, 'robbery': 5885, 'bursting': 5886, 'pf': 5887, 'changs': 5888, 'cry': 5889, 'luvers': 5890, 'terry': 5891, 'macchiatos': 5892, 'department': 5893, 'gosh': 5894, 'itch': 5895, 'finds': 5896, 'fluoride': 5897, 'domino': 5898, 'remebered': 5899, 'appear': 5900, 'envirokidz': 5901, 'hots': 5902, 'sodastream': 5903, 'shines': 5904, 'evidence': 5905, 'securely': 5906, 'eggplant': 5907, 'dunking': 5908, 'aka': 5909, 'wayy': 5910, 'gagged': 5911, 'martinis': 5912, 'nutrititious': 5913, 'delicioius': 5914, 'slowly': 5915, 'biting': 5916, 'backyard': 5917, 'pristine': 5918, 'pacifier': 5919, 'reall': 5920, 'shopper': 5921, 'spoon': 5922, 'stellar': 5923, 'gagging': 5924, 'dean': 5925, 'blackened': 5926, 'unusable': 5927, 'blossom': 5928, 'clark': 5929, 'standing': 5930, 'mastiff': 5931, 'professional': 5932, 'monsters': 5933, 'treacle': 5934, 'pen': 5935, 'frenchy': 5936, 'disapointment': 5937, 'boba': 5938, 'poodles': 5939, 'mono': 5940, 'essenza': 5941, 'extras': 5942, 'escargot': 5943, 'kiddo': 5944, 'yamamotoyama': 5945, 'frequently': 5946, 'flatbread': 5947, 'catmilk': 5948, 'naturel': 5949, 'earn': 5950, 'shelled': 5951, 'fro': 5952, 'bottoms': 5953, 'uninspiring': 5954, 'soulistic': 5955, 'snyders': 5956, 'grossly': 5957, 'mouthwash': 5958, 'deelish': 5959, 'void': 5960, 'mays': 5961, 'trays': 5962, 'suprises': 5963, 'salsas': 5964, 'groceries': 5965, 'vary': 5966, 'disappeared': 5967, 'rosey': 5968, 'cretors': 5969, 'global': 5970, 'krinkle': 5971, 'mafia': 5972, 'lotions': 5973, 'morton': 5974, 'claimed': 5975, 'finding': 5976, 'sours': 5977, 'emergencies': 5978, 'jo': 5979, 'refrigeration': 5980, 'dyeing': 5981, 'hearburn': 5982, 'parrot': 5983, 'pulse': 5984, 'lotion': 5985, 'requires': 5986, 'peri': 5987, 'loacker': 5988, 'quadratini': 5989, 'dat': 5990, 'tear': 5991, 'fiesta': 5992, 'appetizers': 5993, 'doodles': 5994, 'wildberry': 5995, 'agar': 5996, 'vomits': 5997, 'canisters': 5998, 'basics': 5999, 'jerk': 6000, 'polenta': 6001, 'settings': 6002, 'jax': 6003, 'wt': 6004, 'jif': 6005, 'foster': 6006, 'insect': 6007, 'throwback': 6008, 'severe': 6009, 'nostalgic': 6010, 'cuts': 6011, 'carmels': 6012, 'improves': 6013, 'tabouli': 6014, 'masses': 6015, 'rosehip': 6016, 'monthly': 6017, 'wally': 6018, 'officially': 6019, 'gfi': 6020, 'agrees': 6021, 'novice': 6022, 'kelloggs': 6023, 'republic': 6024, 'hay': 6025, 'roasters': 6026, 'pekingese': 6027, 'occassion': 6028, 'ju': 6029, 'flaky': 6030, 'placebo': 6031, 'guiltless': 6032, 'reality': 6033, 'ours': 6034, 'alike': 6035, 'lane': 6036, 'field': 6037, 'kills': 6038, 'whoopie': 6039, 'jambalaya': 6040, 'anyday': 6041, 'teddy': 6042, 'reservations': 6043, 'os': 6044, 'tartlets': 6045, 'birch': 6046, 'nip': 6047, 'messes': 6048, 'brushing': 6049, 'flavorfull': 6050, 'phillipine': 6051, 'pellets': 6052, 'internet': 6053, 'claim': 6054, 'ben': 6055, 'beg': 6056, 'jersey': 6057, 'weber': 6058, 'yummier': 6059, 'appreciated': 6060, 'zebra': 6061, 'celebration': 6062, 'aji': 6063, 'scones': 6064, 'ne': 6065, 'notice': 6066, 'successful': 6067, 'appreciation': 6068, 'pomeranian': 6069, 'hulls': 6070, 'exclusively': 6071, 'hops': 6072, 'reminiscent': 6073, 'refuse': 6074, 'puffins': 6075, 'degrees': 6076, 'apriva': 6077, 'dressings': 6078, 'potatoe': 6079, 'beetle': 6080, 'robinson': 6081, 'wouldnt': 6082, 'quicker': 6083, 'alter': 6084, 'fight': 6085, 'consistenly': 6086, 'insomnia': 6087, 'thomas': 6088, 'till': 6089, 'rounds': 6090, 'peet': 6091, 'butler': 6092, 'favour': 6093, 'smoooooth': 6094, 'sheltie': 6095, 'pk': 6096, 'advertized': 6097, 'trailmix': 6098, 'vendors': 6099, 'coleslaw': 6100, 'deceptively': 6101, 'spits': 6102, 'reasons': 6103, 'rubbish': 6104, 'recipient': 6105, 'fettucine': 6106, 'paella': 6107, 'blondies': 6108, 'thee': 6109, 'orangina': 6110, 'report': 6111, 'picaridin': 6112, 'clif': 6113, 'chupa': 6114, 'chups': 6115, 'art': 6116, 'cee': 6117, 'ga': 6118, 'liner': 6119, 'doberman': 6120, 'video': 6121, 'sounded': 6122, 'hubs': 6123, 'downfall': 6124, 'homerun': 6125, 'faux': 6126, 'luxardo': 6127, 'rippin': 6128, 'tinged': 6129, 'integrity': 6130, 'replaces': 6131, 'unpopular': 6132, 'offers': 6133, 'yummilicious': 6134, 'nowadays': 6135, 'getcha': 6136, 'designer': 6137, 'focus': 6138, 'baxter': 6139, 'pumpkins': 6140, 'drowsiness': 6141, 'third': 6142, 'evangers': 6143, 'cheaply': 6144, 'directed': 6145, 'fanatics': 6146, 'identical': 6147, 'luscious': 6148, 'depth': 6149, 'mar': 6150, 'kimchi': 6151, 'frappes': 6152, 'crayons': 6153, 'narnia': 6154, 'voxbox': 6155, 'humble': 6156, 'leaks': 6157, 'ny': 6158, 'cloying': 6159, 'ambers': 6160, 'gray': 6161, 'typo': 6162, 'athletes': 6163, 'alvita': 6164, 'cape': 6165, 'sickening': 6166, 'handful': 6167, 'bagel': 6168, 'writes': 6169, 'lengths': 6170, 'lightweight': 6171, 'evar': 6172, 'tremendous': 6173, 'pampered': 6174, 'clients': 6175, 'softens': 6176, 'lumps': 6177, 'presented': 6178, 'spiciness': 6179, 'cover': 6180, 'potty': 6181, 'sweety': 6182, 'arf': 6183, 'ito': 6184, 'tolerable': 6185, 'solids': 6186, 'digests': 6187, 'preparation': 6188, 'artichoke': 6189, 'alaska': 6190, 'glutin': 6191, 'weaver': 6192, 'pekinese': 6193, 'jerquee': 6194, 'provides': 6195, 'cupboard': 6196, 'thickness': 6197, 'bunnies': 6198, 'heathly': 6199, 'declicious': 6200, 'suffers': 6201, 'fantasic': 6202, 'cornmeal': 6203, 'savu': 6204, 'puggle': 6205, 'mmh': 6206, 'according': 6207, 'yummyyyy': 6208, 'ahh': 6209, 'dececco': 6210, 'capellini': 6211, 'safely': 6212, 'brick': 6213, 'tricks': 6214, 'impression': 6215, 'executed': 6216, 'gram': 6217, 'deceitful': 6218, 'tabasco': 6219, 'miraculous': 6220, 'edition': 6221, 'mberry': 6222, 'fill': 6223, 'lotta': 6224, 'priority': 6225, 'central': 6226, 'perfecto': 6227, 'ahhh': 6228, 'doomhammer': 6229, 'bal': 6230, 'pounce': 6231, 'asleep': 6232, 'plane': 6233, 'addictively': 6234, 'conversation': 6235, 'yrs': 6236, 'xylichew': 6237, 'meatloaf': 6238, 'sneaks': 6239, 'allure': 6240, 'scorpion': 6241, 'steaz': 6242, 'ganoderma': 6243, 'labeled': 6244, 'aspertame': 6245, 'harmful': 6246, 'amazons': 6247, 'flimsy': 6248, 'yorkiepoo': 6249, 'soak': 6250, 'monitor': 6251, 'bjs': 6252, 'mice': 6253, 'dop': 6254, 'confuses': 6255, 'hints': 6256, 'fondue': 6257, 'boyardee': 6258, 'stamped': 6259, 'squashed': 6260, 'snackwell': 6261, 'mazing': 6262, 'americano': 6263, 'healthwise': 6264, 'amore': 6265, 'adjustable': 6266, 'homegrown': 6267, 'poke': 6268, 'luwak': 6269, 'medical': 6270, 'spat': 6271, 'nostalgia': 6272, 'rat': 6273, 'throats': 6274, 'kavli': 6275, 'chardonnay': 6276, 'houses': 6277, 'tum': 6278, 'tepid': 6279, 'barn': 6280, 'legal': 6281, 'heathy': 6282, 'glue': 6283, 'groats': 6284, 'promptly': 6285, 'moravian': 6286, 'hang': 6287, 'edensoy': 6288, 'safeway': 6289, 'tv': 6290, 'fa': 6291, 'pemmican': 6292, 'toothpaste': 6293, 'snickerdoodles': 6294, 'thermometer': 6295, 'xoxo': 6296, 'taken': 6297, 'prefect': 6298, 'incorrectly': 6299, 'verona': 6300, 'instand': 6301, 'bridge': 6302, 'stormy': 6303, 'chike': 6304, 'olate': 6305, 'infused': 6306, 'stressful': 6307, 'moments': 6308, 'clinic': 6309, 'grazers': 6310, 'lei': 6311, 'uneatable': 6312, 'mip': 6313, 'smith': 6314, 'reduce': 6315, 'sherbet': 6316, 'cookiing': 6317, 'moscow': 6318, 'mules': 6319, 'lesley': 6320, 'elizabeth': 6321, 'carousel': 6322, 'codd': 6323, 'coffer': 6324, 'bleeds': 6325, 'duffy': 6326, 'crumpets': 6327, 'teenage': 6328, 'kolaches': 6329, 'checking': 6330, 'sleeping': 6331, 'occupies': 6332, 'nicotine': 6333, 'tijuana': 6334, 'flats': 6335, 'methol': 6336, 'ey': 6337, 'unsmoked': 6338, 'giggity': 6339, 'shepard': 6340, 'supported': 6341, 'uggh': 6342, 'candyyyyy': 6343, 'microwaved': 6344, 'herbalist': 6345, 'duper': 6346, 'grav': 6347, 'compleats': 6348, 'forests': 6349, 'tbut': 6350, 'centerpiece': 6351, 'theday': 6352, 'shares': 6353, 'logo': 6354, 'conflakes': 6355, 'primarily': 6356, 'gerat': 6357, 'hungering': 6358, 'smelliest': 6359, 'stinkiest': 6360, 'function': 6361, 'nettle': 6362, 'lifting': 6363, 'bile': 6364, 'lathered': 6365, 'dum': 6366, 'dums': 6367, 'closed': 6368, 'eclipses': 6369, 'lucas': 6370, 'jerkies': 6371, 'slap': 6372, 'cholesteroal': 6373, 'exceeds': 6374, 'kindling': 6375, 'slime': 6376, 'alergic': 6377, 'biodegradable': 6378, 'suuuper': 6379, 'faygo': 6380, 'werther': 6381, 'febuary': 6382, 'trix': 6383, 'delishious': 6384, 'kawaii': 6385, 'impressively': 6386, 'followed': 6387, 'nutshells': 6388, 'sundae': 6389, 'hong': 6390, 'zuma': 6391, 'cheeeeeeesssseeeesssstttttt': 6392, 'crawford': 6393, 'pomegranted': 6394, 'intenso': 6395, 'outta': 6396, 'dodnt': 6397, 'calebaut': 6398, 'callets': 6399, 'knott': 6400, 'boysenberry': 6401, 'aaa': 6402, 'declining': 6403, 'simultaneously': 6404, 'yucchhhh': 6405, 'fussiness': 6406, 'horibbly': 6407, 'tatste': 6408, 'cherished': 6409, 'blotto': 6410, 'cries': 6411, 'colic': 6412, 'unobjectionable': 6413, 'diabeti': 6414, 'guatemalan': 6415, 'liters': 6416, 'murphy': 6417, 'gret': 6418, 'hoppy': 6419, 'ripes': 6420, 'ahhhhhhhhhhhhhh': 6421, 'flours': 6422, 'selections': 6423, 'conditions': 6424, 'barbi': 6425, 'freaks': 6426, 'exelent': 6427, 'vallue': 6428, 'prestigious': 6429, 'suzhou': 6430, 'stupendous': 6431, 'proctor': 6432, 'alacore': 6433, 'tennessee': 6434, 'flovored': 6435, 'measures': 6436, 'accurately': 6437, 'tenderlicious': 6438, 'vanished': 6439, 'suspicious': 6440, 'aaah': 6441, 'sk': 6442, 'thatsa': 6443, 'spiceea': 6444, 'posthumous': 6445, 'oscar': 6446, 'processing': 6447, 'sz': 6448, 'gastric': 6449, 'pts': 6450, 'lolipops': 6451, 'trading': 6452, 'deeeeeeee': 6453, 'gusting': 6454, 'airplane': 6455, 'inconvenient': 6456, 'grandfather': 6457, 'decadently': 6458, 'marrons': 6459, 'glaces': 6460, 'verrryyyy': 6461, 'instruction': 6462, 'translation': 6463, 'solvers': 6464, 'lined': 6465, 'una': 6466, 'bonta': 6467, 'marv': 6468, 'absooooooo': 6469, 'lutely': 6470, 'constipates': 6471, 'expedited': 6472, 'diagnosed': 6473, 'criminally': 6474, 'subscribed': 6475, 'diabeetus': 6476, 'yummylicious': 6477, 'willibee': 6478, 'supplies': 6479, 'matzo': 6480, 'farfel': 6481, 'yohay': 6482, 'schlurp': 6483, 'tch': 6484, 'decidedly': 6485, 'grapes': 6486, 'tastily': 6487, 'stretches': 6488, 'tiniest': 6489, 'tao': 6490, 'tannic': 6491, 'mfr': 6492, 'skimpin': 6493, 'wham': 6494, 'yeh': 6495, 'drastic': 6496, 'gumman': 6497, 'vigor': 6498, 'sacrifices': 6499, 'madam': 6500, 'hokey': 6501, 'deeply': 6502, 'dominican': 6503, 'nv': 6504, 'pomganites': 6505, 'private': 6506, 'overprices': 6507, 'advertiesed': 6508, 'decribed': 6509, 'manages': 6510, 'cd': 6511, 'gelato': 6512, 'subways': 6513, 'passs': 6514, 'engine': 6515, 'indoors': 6516, 'malta': 6517, 'baffling': 6518, 'beargasm': 6519, 'maca': 6520, 'eventually': 6521, 'marachino': 6522, 'recommeded': 6523, 'meyling': 6524, 'culture': 6525, 'tapenade': 6526, 'terriffic': 6527, 'lucid': 6528, 'theee': 6529, 'atamazon': 6530, 'lilly': 6531, 'tuber': 6532, 'indicum': 6533, 'melanosporum': 6534, 'jacklink': 6535, 'br': 6536, 'create': 6537, 'evan': 6538, 'brisket': 6539, 'connoisseur': 6540, 'payton': 6541, 'allspice': 6542, 'ruin': 6543, 'mountin': 6544, 'hyper': 6545, 'festival': 6546, 'kumut': 6547, 'weary': 6548, 'beefaroni': 6549, 'astro': 6550, 'myrtle': 6551, 'ecolologicl': 6552, 'provider': 6553, 'azur': 6554, 'til': 6555, 'juicer': 6556, 'atrocious': 6557, 'robery': 6558, 'sugartwin': 6559, 'sorrento': 6560, 'soothingly': 6561, 'scwt': 6562, 'shrooms': 6563, 'loubia': 6564, 'polo': 6565, 'conniebella': 6566, 'berrymint': 6567, 'teatulie': 6568, 'neem': 6569, 'unsaturated': 6570, 'fireball': 6571, 'flatulent': 6572, 'nailed': 6573, 'beneful': 6574, 'sweden': 6575, 'daviola': 6576, 'blaming': 6577, 'plantabulous': 6578, 'capacity': 6579, 'reservation': 6580, 'kaese': 6581, 'stubbs': 6582, 'edema': 6583, 'swollen': 6584, 'ankles': 6585, 'cavemen': 6586, 'wealthy': 6587, 'screaming': 6588, 'basketwas': 6589, 'allays': 6590, 'contract': 6591, 'cookin': 6592, 'seesaw': 6593, 'carba': 6594, 'nada': 6595, 'yeahrightsure': 6596, 'metrx': 6597, 'experimental': 6598, 'squirrel': 6599, 'repeller': 6600, 'tarragon': 6601, 'grooming': 6602, 'responsibility': 6603, 'towards': 6604, 'granolas': 6605, 'ceaser': 6606, 'diplomate': 6607, 'raspbery': 6608, 'lucidity': 6609, 'vividness': 6610, 'bors': 6611, 'ic': 6612, 'allegic': 6613, 'fruitchia': 6614, 'sorely': 6615, 'busting': 6616, 'inc': 6617, 'pollux': 6618, 'darkchocolate': 6619, 'muir': 6620, 'glen': 6621, 'cimmion': 6622, 'sheen': 6623, 'airbrush': 6624, 'mimiccreme': 6625, 'menards': 6626, 'elastijoint': 6627, 'shepherds': 6628, 'eatten': 6629, 'sevice': 6630, 'skallops': 6631, 'crasher': 6632, 'fido': 6633, 'luxurious': 6634, 'amazzzzzz': 6635, 'ing': 6636, 'appproved': 6637, 'tings': 6638, 'eez': 6639, 'bitch': 6640, 'babyfood': 6641, 'godly': 6642, 'amended': 6643, 'drugstore': 6644, 'nonthing': 6645, 'deadheads': 6646, 'pulling': 6647, 'peppy': 6648, 'argo': 6649, 'anythign': 6650, 'amanda': 6651, 'fritzi': 6652, 'decaffienated': 6653, 'aprocot': 6654, 'webs': 6655, 'jah': 6656, 'oxymoronic': 6657, 'exceptable': 6658, 'midel': 6659, 'brittish': 6660, 'piss': 6661, 'tullt': 6662, 'cottie': 6663, 'conumdrum': 6664, 'approachable': 6665, 'accessorize': 6666, 'leash': 6667, 'orance': 6668, 'floor': 6669, 'beacon': 6670, 'adaptor': 6671, 'computer': 6672, 'munchos': 6673, 'choke': 6674, 'deviled': 6675, 'reverted': 6676, 'bullmastiff': 6677, 'unjustified': 6678, 'branstolicious': 6679, 'brandy': 6680, 'swim': 6681, 'metaphorically': 6682, 'moss': 6683, 'cornsilk': 6684, 'including': 6685, 'float': 6686, 'boat': 6687, 'hardwood': 6688, 'dizzy': 6689, 'sehr': 6690, 'blank': 6691, 'canvas': 6692, 'darjeeling': 6693, 'modify': 6694, 'holdover': 6695, 'simmering': 6696, 'cardamon': 6697, 'liscious': 6698, 'maggots': 6699, 'cheezier': 6700, 'hook': 6701, 'cholate': 6702, 'omgz': 6703, 'familia': 6704, 'slacking': 6705, 'vacuum': 6706, 'tortill': 6707, 'myyy': 6708, 'pero': 6709, 'quintessence': 6710, 'carnivore': 6711, 'esque': 6712, 'smallest': 6713, 'vaccummed': 6714, 'chemically': 6715, 'naked': 6716, 'azmira': 6717, 'suace': 6718, 'marked': 6719, 'infuse': 6720, 'ala': 6721, 'frightening': 6722, 'stewpendous': 6723, 'ox': 6724, 'centennial': 6725, 'albertsons': 6726, 'sssooo': 6727, 'friendship': 6728, 'execellent': 6729, 'industrial': 6730, 'wave': 6731, 'aftermarket': 6732, 'wilkes': 6733, 'unevenly': 6734, 'drug': 6735, 'obscure': 6736, 'winegums': 6737, 'simplifying': 6738, 'dissolved': 6739, 'hippie': 6740, 'tires': 6741, 'speciality': 6742, 'drawback': 6743, 'reisiling': 6744, 'scrub': 6745, 'undisclosed': 6746, 'mein': 6747, 'poland': 6748, 'distributor': 6749, 'uuhh': 6750, 'pity': 6751, 'deserts': 6752, 'syrupn': 6753, 'grd': 6754, 'grounded': 6755, 'woke': 6756, 'roxie': 6757, 'monopoly': 6758, 'rzip': 6759, 'mcclures': 6760, 'ket': 6761, 'oy': 6762, 'bombs': 6763, 'bladder': 6764, 'joffrey': 6765, 'bernaise': 6766, 'colossal': 6767, 'racoons': 6768, 'popsicles': 6769, 'tunitime': 6770, 'ss': 6771, 'yurgh': 6772, 'meateater': 6773, 'motto': 6774, 'stashi': 6775, 'insects': 6776, 'scouts': 6777, 'lemonylicious': 6778, 'aussies': 6779, 'pastariso': 6780, 'oragnic': 6781, 'cabanon': 6782, 'majic': 6783, 'terrabone': 6784, 'domestic': 6785, 'ecomonical': 6786, 'infected': 6787, 'monte': 6788, 'danimals': 6789, 'aplenty': 6790, 'rosita': 6791, 'skull': 6792, 'altered': 6793, 'velvetta': 6794, 'passionfruit': 6795, 'twigs': 6796, 'hotdogs': 6797, 'chochlate': 6798, 'machin': 6799, 'splinters': 6800, 'villain': 6801, 'sweedish': 6802, 'secretly': 6803, 'familliar': 6804, 'require': 6805, 'racer': 6806, 'chicaronnes': 6807, 'ruth': 6808, 'raccons': 6809, 'beignet': 6810, 'weeellll': 6811, 'streit': 6812, 'retutned': 6813, 'colouring': 6814, 'soooooooooo': 6815, 'duo': 6816, 'sign': 6817, 'didn': 6818, 'tidbits': 6819, 'comprehension': 6820, 'tee': 6821, 'tingling': 6822, 'natura': 6823, 'flip': 6824, 'roasting': 6825, 'para': 6826, 'bebes': 6827, 'problemas': 6828, 'alergias': 6829, 'alimenticias': 6830, 'written': 6831, 'arab': 6832, 'scalpers': 6833, 'szeged': 6834, 'pappi': 6835, 'petag': 6836, 'royce': 6837, 'beefy': 6838, 'vitahound': 6839, 'oaracgyte': 6840, 'apollo': 6841, 'generations': 6842, 'chases': 6843, 'partner': 6844, 'proflowers': 6845, 'bobbys': 6846, 'antioxidant': 6847, 'whatta': 6848, 'guts': 6849, 'coccee': 6850, 'dalia': 6851, 'reed': 6852, 'webb': 6853, 'probs': 6854, 'muchas': 6855, 'gracias': 6856, 'visinada': 6857, 'remaindered': 6858, 'larrys': 6859, 'dest': 6860, 'wildside': 6861, 'wellnes': 6862, 'congeneal': 6863, 'cheesymac': 6864, 'rama': 6865, 'gophers': 6866, 'yard': 6867, 'shortcut': 6868, 'ltd': 6869, 'ba': 6870, 'experi': 6871, 'terror': 6872, 'daniels': 6873, 'addictions': 6874, 'frst': 6875, 'pronounce': 6876, 'ellie': 6877, 'eczema': 6878, 'wielded': 6879, 'stixs': 6880, 'lookin': 6881, 'ciao': 6882, 'encouragement': 6883, 'crabcakes': 6884, 'curse': 6885, 'overeat': 6886, 'kansas': 6887, 'yah': 6888, 'page': 6889, 'pickiest': 6890, 'unwrapping': 6891, 'tedious': 6892, 'haiga': 6893, 'ofcourse': 6894, 'motivation': 6895, 'prize': 6896, 'rash': 6897, 'cacoa': 6898, 'lieberman': 6899, 'sleepytime': 6900, 'laxatives': 6901, 'cuppers': 6902, 'tadka': 6903, 'daal': 6904, 'prepackaged': 6905, 'cannisters': 6906, 'sides': 6907, 'presence': 6908, 'bridget': 6909, 'processors': 6910, 'verrry': 6911, 'nighty': 6912, 'fois': 6913, 'rightly': 6914, 'heights': 6915, 'aficionado': 6916, 'discover': 6917, 'hardness': 6918, 'prawn': 6919, 'oldie': 6920, 'snowpeas': 6921, 'easiyo': 6922, 'angelina': 6923, 'realize': 6924, 'oliver': 6925, 'hygene': 6926, 'fireballs': 6927, 'artist': 6928, 'originally': 6929, 'combined': 6930, 'pavo': 6931, 'se': 6932, 'comieron': 6933, 'navidad': 6934, 'attempt': 6935, 'doggys': 6936, 'porportions': 6937, 'diamnond': 6938, 'sweetening': 6939, 'relieve': 6940, 'chalet': 6941, 'traps': 6942, 'shiro': 6943, 'nanna': 6944, 'puffet': 6945, 'havanese': 6946, 'pourable': 6947, 'gourmantra': 6948, 'elkhound': 6949, 'puddingy': 6950, 'cholesteral': 6951, 'marvel': 6952, 'gopher': 6953, 'frother': 6954, 'cheep': 6955, 'freedom': 6956, 'gsd': 6957, 'winners': 6958, 'fasioned': 6959, 'cconut': 6960, 'testers': 6961, 'healthyfood': 6962, 'sucrets': 6963, 'preserver': 6964, 'chocolote': 6965, 'teenagers': 6966, 'aluminating': 6967, 'extraneous': 6968, 'concidering': 6969, 'appreciates': 6970, 'history': 6971, 'splinter': 6972, 'smarter': 6973, 'sophya': 6974, 'siamese': 6975, 'challenges': 6976, 'heathers': 6977, 'healh': 6978, 'kindergartners': 6979, 'funnel': 6980, 'flights': 6981, 'canes': 6982, 'reeds': 6983, 'relieves': 6984, 'havarti': 6985, 'bon': 6986, 'dumplings': 6987, 'buonissimo': 6988, 'row': 6989, 'differetn': 6990, 'introductory': 6991, 'mydog': 6992, 'orion': 6993, 'gormet': 6994, 'celiacpro': 6995, 'sulphur': 6996, 'whonu': 6997, 'gigantic': 6998, 'nuss': 6999, 'los': 7000, 'lows': 7001, 'sattisfies': 7002, 'napoletana': 7003, 'mangia': 7004, 'pancreatitis': 7005, 'groumet': 7006, 'completly': 7007, 'management': 7008, 'fing': 7009, 'becomes': 7010, 'retailer': 7011, 'tolerated': 7012, 'reivew': 7013, 'fi': 7014, 'shock': 7015, 'companions': 7016, 'shiratake': 7017, 'mariani': 7018, 'plums': 7019, 'threads': 7020, 'irritated': 7021, 'slept': 7022, 'sheet': 7023, 'dimensions': 7024, 'tamicon': 7025, 'khazana': 7026, 'finer': 7027, 'kaffir': 7028, 'welchs': 7029, 'admit': 7030, 'abolt': 7031, 'ramyun': 7032, 'sacrifice': 7033, 'qulaity': 7034, 'ay': 7035, 'yiiii': 7036, 'lodi': 7037, 'gayle': 7038, 'topaz': 7039, 'begs': 7040, 'aaaccchhh': 7041, 'maynards': 7042, 'jullienne': 7043, 'earthborn': 7044, 'sweetheart': 7045, 'achva': 7046, 'coofee': 7047, 'droewors': 7048, 'remy': 7049, 'martin': 7050, 'aspetic': 7051, 'stem': 7052, 'essiac': 7053, 'candys': 7054, 'zone': 7055, 'ingenious': 7056, 'smooooooth': 7057, 'repackaged': 7058, 'powerberries': 7059, 'caveats': 7060, 'gacky': 7061, 'sidedish': 7062, 'marathons': 7063, 'warehoused': 7064, 'unwind': 7065, 'president': 7066, 'anyhoe': 7067, 'gyros': 7068, 'prop': 7069, 'costume': 7070, 'seloler': 7071, 'redleaftea': 7072, 'pmegranates': 7073, 'grrrrr': 7074, 'subway': 7075, 'smartwater': 7076, 'unuseable': 7077, 'silicon': 7078, 'iphone': 7079, 'stirring': 7080, 'charged': 7081, 'diffrent': 7082, 'getter': 7083, 'valencia': 7084, 'portfolio': 7085, 'complicated': 7086, 'ave': 7087, 'desi': 7088, 'security': 7089, 'calamari': 7090, 'bases': 7091, 'pomagranate': 7092, 'mollasses': 7093, 'dope': 7094, 'output': 7095, 'croix': 7096, 'suites': 7097, 'srirachi': 7098, 'labradingo': 7099, 'stuffis': 7100, 'frenchie': 7101, 'thinest': 7102, 'cantuski': 7103, 'latin': 7104, 'pumpkinhead': 7105, 'mandrian': 7106, 'istevia': 7107, 'kitkat': 7108, 'chikcen': 7109, 'rusted': 7110, 'astringent': 7111, 'rodents': 7112, 'wasnt': 7113, 'wowed': 7114, 'hurt': 7115, 'porcinis': 7116, 'basque': 7117, 'region': 7118, 'huckelberry': 7119, 'basamic': 7120, 'mjc': 7121, 'buried': 7122, 'disguising': 7123, 'explosive': 7124, 'organice': 7125, 'abbott': 7126, 'verge': 7127, 'accompaniment': 7128, 'agin': 7129, 'recommand': 7130, 'travelling': 7131, 'desired': 7132, 'ume': 7133, 'games': 7134, 'drool': 7135, 'commonest': 7136, 'engineered': 7137, 'deelicious': 7138, 'lifesaverspepomint': 7139, 'easyand': 7140, 'foamy': 7141, 'perplexed': 7142, 'tonytada': 7143, 'displayed': 7144, 'outrageious': 7145, 'envirokids': 7146, 'livesaver': 7147, 'notifying': 7148, 'overtone': 7149, 'stirs': 7150, 'orfactory': 7151, 'numb': 7152, 'approx': 7153, 'bets': 7154, 'soaked': 7155, 'labelling': 7156, 'crusts': 7157, 'heady': 7158, 'charlie': 7159, 'msjbird': 7160, 'foood': 7161, 'tasing': 7162, 'chincoteague': 7163, 'superfoods': 7164, 'sorbate': 7165, 'bonz': 7166, 'familiar': 7167, 'jusst': 7168, 'artisan': 7169, 'decaaff': 7170, 'ovine': 7171, 'folly': 7172, 'borderline': 7173, 'kiesha': 7174, 'vinegary': 7175, 'coffeelover': 7176, 'sou': 7177, 'groundhogs': 7178, 'cella': 7179, 'shorter': 7180, 'sabor': 7181, 'rescused': 7182, 'humas': 7183, 'fillets': 7184, 'teste': 7185, 'zingy': 7186, 'neighbors': 7187, 'western': 7188, 'skinless': 7189, 'hooooootttt': 7190, 'vermicelli': 7191, 'tighly': 7192, 'bonies': 7193, 'intuitive': 7194, 'heartwarming': 7195, 'mike': 7196, 'molding': 7197, 'dod': 7198, 'cushings': 7199, 'competitors': 7200, 'lolas': 7201, 'viability': 7202, 'encore': 7203, 'breezy': 7204, 'riot': 7205, 'quaint': 7206, 'blelnd': 7207, 'grover': 7208, 'provence': 7209, 'strwberries': 7210, 'mainline': 7211, 'westerners': 7212, 'yow': 7213, 'scoops': 7214, 'joints': 7215, 'wolfgan': 7216, 'searched': 7217, 'lumpfish': 7218, 'jordon': 7219, 'jacked': 7220, 'rapid': 7221, 'blew': 7222, 'dainty': 7223, 'fortunes': 7224, 'comestible': 7225, 'airport': 7226, 'gnat': 7227, 'amazinggggg': 7228, 'sizzling': 7229, 'quantitiy': 7230, 'pans': 7231, 'astronaut': 7232, 'delizioso': 7233, 'boner': 7234, 'lego': 7235, 'deeeeeliiiiiicous': 7236, 'grandaughters': 7237, 'swimming': 7238, 'imaginable': 7239, 'kinle': 7240, 'books': 7241, 'sleeps': 7242, 'obedience': 7243, 'popcorns': 7244, 'gobbles': 7245, 'intoxicating': 7246, 'existing': 7247, 'wolgang': 7248, 'crescent': 7249, 'passover': 7250, 'discounted': 7251, 'okey': 7252, 'kee': 7253, 'tack': 7254, 'twiggy': 7255, 'grazing': 7256, 'antimo': 7257, 'capputo': 7258, 'looses': 7259, 'bhut': 7260, 'pulao': 7261, 'pedialite': 7262, 'flash': 7263, 'goober': 7264, 'bernard': 7265, 'antlers': 7266, 'custumer': 7267, 'faerie': 7268, 'consuming': 7269, 'artic': 7270, 'drawstring': 7271, 'ta': 7272, 'unsulphered': 7273, 'contradicting': 7274, 'yogurettes': 7275, 'lychee': 7276, 'deans': 7277, 'zots': 7278, 'freight': 7279, 'whitening': 7280, 'pseudo': 7281, 'flavourless': 7282, 'slimmer': 7283, 'margie': 7284, 'nairns': 7285, 'traditionally': 7286, 'fitness': 7287, 'liption': 7288, 'workable': 7289, 'various': 7290, 'starer': 7291, 'jaffa': 7292, 'hotsauces': 7293, 'recomend': 7294, 'suplment': 7295, 'fights': 7296, 'boredom': 7297, 'tightly': 7298, 'dries': 7299, 'justin': 7300, 'voice': 7301, 'verse': 7302, 'sheer': 7303, 'collectables': 7304, 'marriage': 7305, 'soreness': 7306, 'moutarde': 7307, 'wooah': 7308, 'listened': 7309, 'pole': 7310, 'lior': 7311, 'andrew': 7312, 'weil': 7313, 'stimulate': 7314, 'moos': 7315, 'papua': 7316, 'cottonmouth': 7317, 'legged': 7318, 'simplistic': 7319, 'eliminate': 7320, 'trailer': 7321, 'stuffs': 7322, 'fisher': 7323, 'cactus': 7324, 'promising': 7325, 'stickyness': 7326, 'qc': 7327, 'goody': 7328, 'luke': 7329, 'profitable': 7330, 'closet': 7331, 'confections': 7332, 'maney': 7333, 'mgo': 7334, 'rosted': 7335, 'vegables': 7336, 'coachman': 7337, 'salba': 7338, 'ebony': 7339, 'chianti': 7340, 'deliceous': 7341, 'bichons': 7342, 'niche': 7343, 'waygu': 7344, 'yukk': 7345, 'secure': 7346, 'ortho': 7347, 'gon': 7348, 'clears': 7349, 'hospital': 7350, 'sophia': 7351, 'diarhea': 7352, 'satisifed': 7353, 'williams': 7354, 'tightening': 7355, 'tarallini': 7356, 'tempted': 7357, 'powders': 7358, 'chart': 7359, 'wonferful': 7360, 'faster': 7361, 'gaain': 7362, 'twenty': 7363, 'drat': 7364, 'disgusted': 7365, 'spaghettini': 7366, 'chocococo': 7367, 'grossest': 7368, 'glop': 7369, 'countryside': 7370, 'pruchased': 7371, 'judgment': 7372, 'pupperoni': 7373, 'tho': 7374, 'delisious': 7375, 'lifelike': 7376, 'gummibear': 7377, 'advitising': 7378, 'sucrolose': 7379, 'tillman': 7380, 'awesomest': 7381, 'koops': 7382, 'dusseldorf': 7383, 'ethnic': 7384, 'heather': 7385, 'spinner': 7386, 'janes': 7387, 'vinagrette': 7388, 'bugsy': 7389, 'panera': 7390, 'november': 7391, 'digestable': 7392, 'slo': 7393, 'pokes': 7394, 'cinammon': 7395, 'shakers': 7396, 'wu': 7397, 'freshener': 7398, 'fraps': 7399, 'deeeeelish': 7400, 'internal': 7401, 'astordrive': 7402, 'ewwwwwwwwww': 7403, 'gs': 7404, 'aquired': 7405, 'develop': 7406, 'berritious': 7407, 'nookie': 7408, 'recaffienation': 7409, 'candycane': 7410, 'gratin': 7411, 'sat': 7412, 'slower': 7413, 'perfomance': 7414, 'tropic': 7415, 'boletus': 7416, 'edulis': 7417, 'gra': 7418, 'sportea': 7419, 'yesss': 7420, 'soso': 7421, 'lowerys': 7422, 'puzzles': 7423, 'wire': 7424, 'readercook': 7425, 'stuffin': 7426, 'ought': 7427, 'ashamed': 7428, 'sesameflavor': 7429, 'junket': 7430, 'bras': 7431, 'perker': 7432, 'mmfor': 7433, 'horray': 7434, 'squeaky': 7435, 'restful': 7436, 'ken': 7437, 'amond': 7438, 'gadget': 7439, 'impulse': 7440, 'bitterly': 7441, 'cocktails': 7442, 'wooohooooo': 7443, 'heap': 7444, 'dining': 7445, 'sr': 7446, 'usable': 7447, 'disney': 7448, 'activity': 7449, 'blechhk': 7450, 'cholula': 7451, 'bronchipret': 7452, 'polisher': 7453, 'feeder': 7454, 'salame': 7455, 'vac': 7456, 'annies': 7457, 'wulong': 7458, 'jakey': 7459, 'chocolast': 7460, 'overdo': 7461, 'prepacked': 7462, 'treets': 7463, 'callaloo': 7464, 'shaving': 7465, 'shaves': 7466, 'sentry': 7467, 'mite': 7468, 'chester': 7469, 'keepem': 7470, 'comin': 7471, 'lighted': 7472, 'loumidis': 7473, 'papagalos': 7474, 'pinto': 7475, 'massel': 7476, 'ultracubes': 7477, 'enrrgy': 7478, 'volvic': 7479, 'refrito': 7480, 'dawgs': 7481, 'university': 7482, 'krurig': 7483, 'chefrand': 7484, 'walgreens': 7485, 'hop': 7486, 'weenie': 7487, 'bangin': 7488, 'mre': 7489, 'perchased': 7490, 'feb': 7491, 'unattractive': 7492, 'atypical': 7493, 'mmgood': 7494, 'whipping': 7495, 'cock': 7496, 'cets': 7497, 'xlr': 7498, 'usb': 7499, 'interfaces': 7500, 'peppa': 7501, 'superstar': 7502, 'cappaccino': 7503, 'containing': 7504, 'acesulfame': 7505, 'sweetenet': 7506, 'luuuv': 7507, 'filberts': 7508, 'personality': 7509, 'improper': 7510, 'botulism': 7511, 'deficient': 7512, 'doll': 7513, 'curd': 7514, 'shaking': 7515, 'solutions': 7516, 'dimension': 7517, 'chivey': 7518, 'jewels': 7519, 'pickey': 7520, 'simpliest': 7521, 'mcbutter': 7522, 'swears': 7523, 'juince': 7524, 'wafels': 7525, 'convienet': 7526, 'styles': 7527, 'rotties': 7528, 'glood': 7529, 'gifted': 7530, 'cocoawhen': 7531, 'shattered': 7532, 'occur': 7533, 'seasong': 7534, 'naaaaaaaaaaaaasty': 7535, 'adjustments': 7536, 'itty': 7537, 'bitty': 7538, 'receipts': 7539, 'hilda': 7540, 'favorits': 7541, 'yogurmet': 7542, 'bifidus': 7543, 'textur': 7544, 'dooobie': 7545, 'huy': 7546, 'fong': 7547, 'sriracha': 7548, 'feh': 7549, 'humdrum': 7550, 'malossol': 7551, 'butternut': 7552, 'dawn': 7553, 'verg': 7554, 'equivalent': 7555, 'tobasco': 7556, 'foreign': 7557, 'grrrrreat': 7558, 'conflicting': 7559, 'jonesing': 7560, 'ar': 7561, 'prized': 7562, 'grissle': 7563, 'tenderloin': 7564, 'elixir': 7565, 'teatea': 7566, 'dagoba': 7567, 'stringy': 7568, 'scarce': 7569, 'politicians': 7570, 'coffeemate': 7571, 'hipaction': 7572, 'conscientious': 7573, 'blending': 7574, 'urge': 7575, 'credit': 7576, 'theft': 7577, 'envirokid': 7578, 'eboost': 7579, 'lyle': 7580, 'broadway': 7581, 'basketeers': 7582, 'nutricious': 7583, 'langers': 7584, 'pomegran': 7585, 'nutrion': 7586, 'olewo': 7587, 'degree': 7588, 'improving': 7589, 'deliciusss': 7590, 'symbol': 7591, 'hk': 7592, 'koppers': 7593, 'sassafras': 7594, 'barritts': 7595, 'sp': 7596, 'boil': 7597, 'strain': 7598, 'entice': 7599, 'orac': 7600, 'christine': 7601, 'gresock': 7602, 'aisle': 7603, 'event': 7604, 'boldly': 7605, 'wrapping': 7606, 'tha': 7607, 'measured': 7608, 'deals': 7609, 'bledie': 7610, 'lekker': 7611, 'overstatement': 7612, 'julius': 7613, 'meinl': 7614, 'receiced': 7615, 'direction': 7616, 'disguist': 7617, 'madgave': 7618, 'greate': 7619, 'arrive': 7620, 'saying': 7621, 'genious': 7622, 'islands': 7623, 'leek': 7624, 'rillettes': 7625, 'noticablely': 7626, 'mapley': 7627, 'curries': 7628, 'lollypops': 7629, 'gubmo': 7630, 'realemon': 7631, 'mendous': 7632, 'env': 7633, 'lunchbox': 7634, 'hasnt': 7635, 'goto': 7636, 'cell': 7637, 'wishing': 7638, 'croutons': 7639, 'hondo': 7640, 'lamp': 7641, 'likeable': 7642, 'domatcha': 7643, 'highlander': 7644, 'grogg': 7645, 'zeus': 7646, 'cartridges': 7647, 'recyclable': 7648, 'mishandling': 7649, 'babie': 7650, 'barecontessa': 7651, 'spiritual': 7652, 'sbux': 7653, 'devours': 7654, 'collice': 7655, 'afghanistan': 7656, 'addicitve': 7657, 'wimps': 7658, 'vanila': 7659, 'snackin': 7660, 'dlicious': 7661, 'edward': 7662, 'rank': 7663, 'extermely': 7664, 'flavorice': 7665, 'powerade': 7666, 'repeatedly': 7667, 'frustrates': 7668, 'released': 7669, 'ughhhhhh': 7670, 'pooches': 7671, 'debate': 7672, 'unequal': 7673, 'frrozen': 7674, 'fertilze': 7675, 'preserved': 7676, 'tocopherols': 7677, 'housewarming': 7678, 'tremors': 7679, 'stronganoff': 7680, 'petsmart': 7681, 'gardetto': 7682, 'perfumed': 7683, 'sweetwner': 7684, 'tasteing': 7685, 'unbelieveable': 7686, 'rejoyce': 7687, 'tooooooo': 7688, 'taro': 7689, 'drying': 7690, 'chemo': 7691, 'wbc': 7692, 'schrumshist': 7693, 'coldn': 7694, 'refilling': 7695, 'maximum': 7696, 'deployment': 7697, 'fefined': 7698, 'favored': 7699, 'crammed': 7700, 'crumbily': 7701, 'decently': 7702, 'fuzzy': 7703, 'tuc': 7704, 'scarf': 7705, 'pastchio': 7706, 'pralines': 7707, 'swizzles': 7708, 'tripe': 7709, 'cesaly': 7710, 'etiquette': 7711, 'rooms': 7712, 'advise': 7713, 'krunchy': 7714, 'dulse': 7715, 'hse': 7716, 'habla': 7717, 'espanol': 7718, 'pardner': 7719, 'ineffective': 7720, 'brits': 7721, 'rescued': 7722, 'spurting': 7723, 'misrepresenting': 7724, 'sli': 7725, 'awesine': 7726, 'omgoah': 7727, 'hawthorne': 7728, 'alfie': 7729, 'babka': 7730, 'gust': 7731, 'outlines': 7732, 'bracing': 7733, 'pitt': 7734, 'lemonhead': 7735, 'overprocessed': 7736, 'retrievers': 7737, 'mercy': 7738, 'cinema': 7739, 'godvia': 7740, 'argentina': 7741, 'raisons': 7742, 'mncook': 7743, 'hummingbird': 7744, 'weiss': 7745, 'kluski': 7746, 'dumpling': 7747, 'warheads': 7748, 'chlorhexidine': 7749, 'attach': 7750, 'boozy': 7751, 'twinkies': 7752, 'biscoff': 7753, 'exclusive': 7754, 'okra': 7755, 'spuds': 7756, 'glove': 7757, 'ash': 7758, 'titled': 7759, 'onthis': 7760, 'witout': 7761, 'schezwan': 7762, 'bhel': 7763, 'claxton': 7764, 'eff': 7765, 'compliments': 7766, 'phillips': 7767, 'adulterated': 7768, 'glitch': 7769, 'result': 7770, 'declined': 7771, 'drastically': 7772, 'dec': 7773, 'greathoney': 7774, 'dam': 7775, 'bridal': 7776, 'styrian': 7777, 'cabonated': 7778, 'weezer': 7779, 'suga': 7780, 'disguised': 7781, 'xs': 7782, 'organinc': 7783, 'shoulder': 7784, 'cornflour': 7785, 'buffa': 7786, 'crowns': 7787, 'solves': 7788, 'adverstising': 7789, 'nasssty': 7790, 'inhaled': 7791, 'shapes': 7792, 'hummy': 7793, 'nauture': 7794, 'baldwin': 7795, 'littler': 7796, 'furious': 7797, 'orangemint': 7798, 'mention': 7799, 'somthing': 7800, 'lozenges': 7801, 'timing': 7802, 'kkups': 7803, 'kazoo': 7804, 'doys': 7805, 'maltise': 7806, 'albertengo': 7807, 'hula': 7808, 'hoops': 7809, 'appetizing': 7810, 'chocpoms': 7811, 'rashers': 7812, 'offs': 7813, 'cebt': 7814, 'avoiding': 7815, 'daisy': 7816, 'convinient': 7817, 'playdough': 7818, 'fishing': 7819, 'turani': 7820, 'popsicle': 7821, 'effiecient': 7822, 'catalina': 7823, 'eliminates': 7824, 'stood': 7825, 'acv': 7826, 'grammykelly': 7827, 'adrenalin': 7828, 'arre': 7829, 'steps': 7830, 'smooths': 7831, 'morin': 7832, 'suscribe': 7833, 'greeniesmy': 7834, 'aone': 7835, 'loooooong': 7836, 'kame': 7837, 'thinner': 7838, 'chesapeake': 7839, 'oustanding': 7840, 'jerez': 7841, 'umame': 7842, 'holey': 7843, 'passes': 7844, 'evolution': 7845, 'essentials': 7846, 'pbandj': 7847, 'goldensrule': 7848, 'crumb': 7849, 'exceed': 7850, 'anoher': 7851, 'gfcfsf': 7852, 'unprofitable': 7853, 'topslisa': 7854, 'snackwells': 7855, 'rasin': 7856, 'lace': 7857, 'scnitzel': 7858, 'biggie': 7859, 'tst': 7860, 'biscuiuts': 7861, 'wearing': 7862, 'hades': 7863, 'whew': 7864, 'hardcore': 7865, 'avast': 7866, 'shiver': 7867, 'timbers': 7868, 'splendidly': 7869, 'amora': 7870, 'historical': 7871, 'background': 7872, 'tazoberry': 7873, 'devils': 7874, 'nalewka': 7875, 'babuni': 7876, 'bes': 7877, 'chamomiles': 7878, 'orangey': 7879, 'tangeriney': 7880, 'carber': 7881, 'flavorz': 7882, 'mardi': 7883, 'resolve': 7884, 'unconsumable': 7885, 'braided': 7886, 'marc': 7887, 'dept': 7888, 'kava': 7889, 'hubbard': 7890, 'simmons': 7891, 'sixty': 7892, 'percent': 7893, 'moutain': 7894, 'compromise': 7895, 'swirled': 7896, 'tes': 7897, 'hecho': 7898, 'cielo': 7899, 'everythingrub': 7900, 'soulmate': 7901, 'eleven': 7902, 'dentest': 7903, 'chair': 7904, 'horton': 7905, 'scruptious': 7906, 'terribleness': 7907, 'mspi': 7908, 'correction': 7909, 'fluff': 7910, 'ness': 7911, 'pellet': 7912, 'passe': 7913, 'cinnamints': 7914, 'mommies': 7915, 'tangfastic': 7916, 'careless': 7917, 'lacey': 7918, 'jigsaw': 7919, 'glider': 7920, 'fecal': 7921, 'southerner': 7922, 'overview': 7923, 'recycled': 7924, 'muana': 7925, 'commuter': 7926, 'marmite': 7927, 'squapplesauce': 7928, 'afficionados': 7929, 'hatch': 7930, 'howerver': 7931, 'herbalife': 7932, 'tito': 7933, 'popocorn': 7934, 'spurts': 7935, 'fot': 7936, 'straightforward': 7937, 'twangy': 7938, 'magnefico': 7939, 'arguably': 7940, 'skyflakes': 7941, 'natrual': 7942, 'build': 7943, 'endorsement': 7944, 'englishman': 7945, 'tassos': 7946, 'brushettas': 7947, 'discrete': 7948, 'bht': 7949, 'vegaterian': 7950, 'mens': 7951, 'fold': 7952, 'flintstones': 7953, 'multivitamin': 7954, 'excellnt': 7955, 'lorann': 7956, 'spongetastic': 7957, 'http': 7958, 'www': 7959, 'gp': 7960, 'yygy': 7961, 'ref': 7962, 'cm': 7963, 'rev': 7964, 'prod': 7965, 'dogwells': 7966, 'pearly': 7967, 'heals': 7968, 'aches': 7969, 'ammonium': 7970, 'terrifice': 7971, 'butlers': 7972, 'nutrisentials': 7973, 'dc': 7974, 'metro': 7975, 'avitae': 7976, 'kicks': 7977, 'refreshed': 7978, 'formular': 7979, 'incomparable': 7980, 'trappey': 7981, 'fatigue': 7982, 'sunbuttter': 7983, 'cakey': 7984, 'reconsider': 7985, 'fencing': 7986, 'rx': 7987, 'millstone': 7988, 'fluke': 7989, 'ciocolatta': 7990, 'calda': 7991, 'flop': 7992, 'latice': 7993, 'bev': 7994, 'zqueen': 7995, 'chocolet': 7996, 'houise': 7997, 'leroux': 7998, 'albet': 7999, 'breeze': 8000, 'miles': 8001, 'entomophagy': 8002, 'coughing': 8003, 'coffrr': 8004, 'hottest': 8005, 'lchf': 8006, 'triscuits': 8007, 'vertebrae': 8008, 'bonanza': 8009, 'aioli': 8010, 'pricewe': 8011, 'numbing': 8012, 'pablano': 8013, 'fluctuates': 8014, 'fablous': 8015, 'towel': 8016, 'citizens': 8017, 'accumulate': 8018, 'twizzler': 8019, 'expelling': 8020, 'wind': 8021, 'retailers': 8022, 'undrinkably': 8023, 'serveral': 8024, 'whitefish': 8025, 'carmet': 8026, 'cc': 8027, 'extraordinaire': 8028, 'evco': 8029, 'formulas': 8030, 'toll': 8031, 'keruig': 8032, 'foodie': 8033, 'delightfulness': 8034, 'potatoies': 8035, 'untasty': 8036, 'modest': 8037, 'warns': 8038, 'harm': 8039, 'tween': 8040, 'mh': 8041, 'pleasingly': 8042, 'pin': 8043, 'mudcat': 8044, 'acts': 8045, 'brightest': 8046, 'rtaran': 8047, 'defintely': 8048, 'felidae': 8049, 'ording': 8050, 'tropicana': 8051, 'affectionate': 8052, 'flowery': 8053, 'terms': 8054, 'frys': 8055, 'furry': 8056, 'beasts': 8057, 'vast': 8058, 'limbaugh': 8059, 'revealed': 8060, 'reallllllly': 8061, 'convience': 8062, 'buts': 8063, 'shiloh': 8064, 'spillage': 8065, 'jamma': 8066, 'beefeater': 8067, 'barfing': 8068, 'herbamare': 8069, 'trocomare': 8070, 'hikers': 8071, 'eurocrem': 8072, 'seductively': 8073, 'mastiffs': 8074, 'perform': 8075, 'hal': 8076, 'warp': 8077, 'immunity': 8078, 'ziploc': 8079, 'tommyo': 8080, 'petguard': 8081, 'grander': 8082, 'believing': 8083, 'abbey': 8084, 'anchvies': 8085, 'premade': 8086, 'sapporo': 8087, 'ichiban': 8088, 'cusine': 8089, 'cavit': 8090, 'anchiote': 8091, 'reviewed': 8092, 'doubles': 8093, 'indomie': 8094, 'bbb': 8095, 'wayyyyyyy': 8096, 'hazzard': 8097, 'truflle': 8098, 'equipment': 8099, 'frankenwheat': 8100, 'picard': 8101, 'taki': 8102, 'favered': 8103, 'healthpro': 8104, 'dentalnuggets': 8105, 'kiddies': 8106, 'caliopes': 8107, 'pins': 8108, 'helpers': 8109, 'anonymous': 8110, 'poultry': 8111, 'russel': 8112, 'baught': 8113, 'lavendar': 8114, 'specifications': 8115, 'juiced': 8116, 'cobler': 8117, 'caser': 8118, 'bloom': 8119, 'anaya': 8120, 'grande': 8121, 'tastinf': 8122, 'administering': 8123, 'receiver': 8124, 'omit': 8125, 'iridescent': 8126, 'pixie': 8127, 'totonac': 8128, 'pamala': 8129, 'wannabe': 8130, 'starr': 8131, 'breadpudding': 8132, 'kaan': 8133, 'realy': 8134, 'itchy': 8135, 'idiot': 8136, 'guide': 8137, 'gummybears': 8138, 'extraction': 8139, 'fartiness': 8140, 'unmatched': 8141, 'assistant': 8142, 'tastin': 8143, 'diff': 8144, 'fisheater': 8145, 'disentegrates': 8146, 'misinformation': 8147, 'smurfs': 8148, 'refun': 8149, 'sashie': 8150, 'gnatts': 8151, 'sc': 8152, 'noses': 8153, 'violently': 8154, 'chickweed': 8155, 'clue': 8156, 'va': 8157, 'haupia': 8158, 'mande': 8159, 'connoisseurs': 8160, 'smokiness': 8161, 'dooooo': 8162, 'tamed': 8163, 'aveda': 8164, 'amusing': 8165, 'collectible': 8166, 'cavalier': 8167, 'experimentation': 8168, 'foggy': 8169, 'satiates': 8170, 'strainer': 8171, 'binghamton': 8172, 'omits': 8173, 'hurries': 8174, 'endorse': 8175, 'gfers': 8176, 'jstockton': 8177, 'chocalicious': 8178, 'ban': 8179, 'deoderant': 8180, 'updating': 8181, 'wherehouse': 8182, 'clubs': 8183, 'fruitofthecali': 8184, 'marking': 8185, 'replica': 8186, 'toxin': 8187, 'commodity': 8188, 'hdbiker': 8189, 'iv': 8190, 'lugubrious': 8191, 'juce': 8192, 'blandness': 8193, 'tastee': 8194, 'poured': 8195, 'thickens': 8196, 'removing': 8197, 'rust': 8198, 'froggies': 8199, 'giraffes': 8200, 'tealover': 8201, 'thisrt': 8202, 'plunge': 8203, 'truffless': 8204, 'grimy': 8205, 'figlets': 8206, 'tortuga': 8207, 'rations': 8208, 'reluctant': 8209, 'bearcreek': 8210, 'regret': 8211, 'dycee': 8212, 'woah': 8213, 'margaritas': 8214, 'gnawing': 8215, 'elves': 8216, 'ezine': 8217, 'fluids': 8218, 'cfl': 8219, 'naseau': 8220, 'yuccchhhhh': 8221, 'uninspirational': 8222, 'chic': 8223, 'mikey': 8224, 'tasking': 8225, 'gins': 8226, 'mispelling': 8227, 'randi': 8228, 'inhales': 8229, 'goldilocks': 8230, 'effectiveness': 8231, 'mosquito': 8232, 'repellent': 8233, 'spangler': 8234, 'overcook': 8235, 'sucking': 8236, 'sweetie': 8237, 'franch': 8238, 'sighhhhh': 8239, 'woohoo': 8240, 'tease': 8241, 'everrr': 8242, 'guidance': 8243, 'tri': 8244, 'paks': 8245, 'magnifying': 8246, 'followers': 8247, 'respects': 8248, 'stange': 8249, 'tuscan': 8250, 'respect': 8251, 'refuel': 8252, 'exacty': 8253, 'oooh': 8254, 'shoddy': 8255, 'jamica': 8256, 'makin': 8257, 'flazseed': 8258, 'spark': 8259, 'caloric': 8260, 'nome': 8261, 'desir': 8262, 'homework': 8263, 'kiddy': 8264, 'rk': 8265, 'diced': 8266, 'heatlhy': 8267, 'lovbe': 8268, 'tractor': 8269, 'trailor': 8270, 'vadouvan': 8271, 'grrrreeeatttt': 8272, 'plasmon': 8273, 'truffet': 8274, 'misty': 8275, 'nastyness': 8276, 'styrafoam': 8277, 'crystalline': 8278, 'jungle': 8279, 'mahealani': 8280, 'cocao': 8281, 'darrell': 8282, 'complements': 8283, 'citrusy': 8284, 'scoring': 8285, 'membership': 8286, 'cascabel': 8287, 'exploring': 8288, 'unrealistic': 8289, 'critter': 8290, 'ridder': 8291, 'gaaaawwwwdddd': 8292, 'hardens': 8293, 'goldendoodle': 8294, 'emerls': 8295, 'lesson': 8296, 'tamale': 8297, 'crackerbreads': 8298, 'casing': 8299, 'cop': 8300, 'importing': 8301, 'rinses': 8302, 'toffifay': 8303, 'tellicherry': 8304, 'marzano': 8305, 'amos': 8306, 'simplify': 8307, 'beignets': 8308, 'becareful': 8309, 'typing': 8310, 'necklaces': 8311, 'opposite': 8312, 'neutral': 8313, 'dui': 8314, 'lous': 8315, 'delice': 8316, 'meguez': 8317, 'organiic': 8318, 'familie': 8319, 'pepomint': 8320, 'carnivorous': 8321, 'sips': 8322, 'pep': 8323, 'delecious': 8324, 'chereos': 8325, 'impossibly': 8326, 'splurge': 8327, 'judith': 8328, 'angels': 8329, 'shihpoo': 8330, 'vacationing': 8331, 'zap': 8332, 'arg': 8333, 'uhhhhhh': 8334, 'nasal': 8335, 'irrigatiin': 8336, 'redskins': 8337, 'tommy': 8338, 'practice': 8339, 'toolbox': 8340, 'funfetti': 8341, 'sheets': 8342, 'bulging': 8343, 'intenational': 8344, 'entertain': 8345, 'wilted': 8346, 'chocolage': 8347, 'discontinue': 8348, 'pirates': 8349, 'failing': 8350, 'physical': 8351, 'rah': 8352, 'branded': 8353, 'shops': 8354, 'ooo': 8355, 'uhm': 8356, 'oboy': 8357, 'beads': 8358, 'lingering': 8359, 'excellet': 8360, 'tennesee': 8361, 'royalty': 8362, 'peasants': 8363, 'sass': 8364, 'gt': 8365, 'synergy': 8366, 'flexible': 8367, 'rumsford': 8368, 'soother': 8369, 'treasured': 8370, 'gypsy': 8371, 'hafner': 8372, 'awakening': 8373, 'komodo': 8374, 'hemriods': 8375, 'marilyn': 8376, 'joker': 8377, 'favoriete': 8378, 'terridic': 8379, 'lunchbag': 8380, 'freah': 8381, 'brul': 8382, 'saltier': 8383, 'eaa': 8384, 'tampanade': 8385, 'bouliion': 8386, 'restocked': 8387, 'az': 8388, 'dudes': 8389, 'yeeeee': 8390, 'hawww': 8391, 'spaetzle': 8392, 'throwing': 8393, 'peek': 8394, 'boutique': 8395, 'quench': 8396, 'smom': 8397, 'wast': 8398, 'schoko': 8399, 'marylin': 8400, 'signs': 8401, 'wuyi': 8402, 'flaws': 8403, 'lawrey': 8404, 'otto': 8405, 'manner': 8406, 'menues': 8407, 'ads': 8408, 'yukky': 8409, 'unknowing': 8410, 'address': 8411, 'replaqcement': 8412, 'recycling': 8413, 'medicines': 8414, 'maize': 8415, 'ur': 8416, 'buggy': 8417, 'alaea': 8418, 'pinnacle': 8419, 'trout': 8420, 'chewd': 8421, 'evaporate': 8422, 'nigella': 8423, 'hesitated': 8424, 'expierence': 8425, 'unneeded': 8426, 'opener': 8427, 'darling': 8428, 'sabroso': 8429, 'checkup': 8430, 'purest': 8431, 'coconuts': 8432, 'carbo': 8433, 'lg': 8434, 'robin': 8435, 'hood': 8436, 'mal': 8437, 'mansfieldgrp': 8438, 'iteslf': 8439, 'inhaling': 8440, 'froth': 8441, 'capps': 8442, 'anchovy': 8443, 'spewed': 8444, 'marry': 8445, 'houtee': 8446, 'sparkly': 8447, 'israelis': 8448, 'numminess': 8449, 'concrete': 8450, 'bf': 8451, 'eureka': 8452, 'waffeletten': 8453, 'cleanses': 8454, 'mch': 8455, 'scrubs': 8456, 'suds': 8457, 'caterpillar': 8458, 'loveee': 8459, 'billbery': 8460, 'oggi': 8461, 'copper': 8462, 'schnauzers': 8463, 'smarrtbones': 8464, 'vbutter': 8465, 'tiffany': 8466, 'lampshades': 8467, 'valid': 8468, 'tapoiocca': 8469, 'scaly': 8470, 'lelamb': 8471, 'messed': 8472, 'pub': 8473, 'matador': 8474, 'botanica': 8475, 'teenies': 8476, 'samoas': 8477, 'displeased': 8478, 'pfeffernusse': 8479, 'bodybuilders': 8480, 'spearment': 8481, 'jlhatfield': 8482, 'nutrious': 8483, 'commenting': 8484, 'zeor': 8485, 'smoooooooooooth': 8486, 'stream': 8487, 'offering': 8488, 'shippping': 8489, 'sajia': 8490, 'mastic': 8491, 'greatttttttttttttt': 8492, 'katy': 8493, 'rahide': 8494, 'delishy': 8495, 'quanty': 8496, 'tweeking': 8497, 'robusta': 8498, 'poillux': 8499, 'doomed': 8500, 'exquisitely': 8501, 'clippings': 8502, 'misconception': 8503, 'vegit': 8504, 'overpay': 8505, 'cocowaters': 8506, 'grandmom': 8507, 'homemades': 8508, 'austrailia': 8509, 'wonderfuly': 8510, 'vomitous': 8511, 'weakest': 8512, 'umms': 8513, 'tatsy': 8514, 'fingertips': 8515, 'unleashes': 8516, 'tor': 8517, 'rad': 8518, 'diluted': 8519, 'snails': 8520, 'jivealime': 8521, 'qaulity': 8522, 'ae': 8523, 'comfortably': 8524, 'prima': 8525, 'countertop': 8526, 'lincoln': 8527, 'giblets': 8528, 'ganoclassic': 8529, 'mcnuggets': 8530, 'laughs': 8531, 'jamison': 8532, 'delites': 8533, 'nightmare': 8534, 'psoriasis': 8535, 'occupy': 8536, 'faucet': 8537, 'bleargh': 8538, 'ingedrient': 8539, 'yuuuuuum': 8540, 'hotel': 8541, 'porch': 8542, 'unclear': 8543, 'peter': 8544, 'kickn': 8545, 'entertains': 8546, 'zataraine': 8547, 'compact': 8548, 'hernia': 8549, 'inducing': 8550, 'tester': 8551, 'frikies': 8552, 'messages': 8553, 'orphan': 8554, 'foal': 8555, 'whitley': 8556, 'sucrose': 8557, 'economy': 8558, 'sfbay': 8559, 'decorator': 8560, 'reliever': 8561, 'comparability': 8562, 'bp': 8563, 'produt': 8564, 'restaraunts': 8565, 'yucko': 8566, 'russo': 8567, 'nt': 8568, 'yankee': 8569, 'hotte': 8570, 'lesser': 8571, 'flawlessly': 8572, 'theraflu': 8573, 'waldo': 8574, 'bloddy': 8575, 'vi': 8576, 'deeeeeeeee': 8577, 'xcellent': 8578, 'beige': 8579, 'berres': 8580, 'taramosalata': 8581, 'junkie': 8582, 'ty': 8583, 'ling': 8584, 'naughtiness': 8585, 'aleternative': 8586, 'friggen': 8587, 'jawbreakers': 8588, 'inspiringly': 8589, 'kookoo': 8590, 'pizzas': 8591, 'doting': 8592, 'faves': 8593, 'muchbetter': 8594, 'jz': 8595, 'frappacinos': 8596, 'prebiotics': 8597, 'dukan': 8598, 'maravilloso': 8599, 'volcanic': 8600, 'unbalanced': 8601, 'togar': 8602, 'evil': 8603, 'tiggie': 8604, 'remembering': 8605, 'happytot': 8606, 'juuuuuust': 8607, 'grotesque': 8608, 'bd': 8609, 'sweats': 8610, 'unforgettable': 8611, 'siwiec': 8612, 'spacesaver': 8613, 'nummers': 8614, 'refreshening': 8615, 'cinanmon': 8616, 'cib': 8617, 'reallemon': 8618, 'ily': 8619, 'valentines': 8620, 'zupreem': 8621, 'dentrifice': 8622, 'xlitol': 8623, 'veterinarian': 8624, 'versus': 8625, 'flowering': 8626, 'prok': 8627, 'heavier': 8628, 'queennabidabi': 8629, 'amazom': 8630, 'moode': 8631, 'kelping': 8632, 'thyroid': 8633, 'antiozidant': 8634, 'relaxer': 8635, 'tomatos': 8636, 'bil': 8637, 'jac': 8638, 'pok': 8639, 'perfet': 8640, 'cyclist': 8641, 'odorless': 8642, 'hansens': 8643, 'traverse': 8644, 'breakdown': 8645, 'accuratly': 8646, 'orville': 8647, 'redenbacher': 8648, 'mtb': 8649, 'unlucky': 8650, 'willy': 8651, 'wonkalicious': 8652, 'packates': 8653, 'clumpiness': 8654, 'discovering': 8655, 'popcord': 8656, 'bison': 8657, 'graces': 8658, 'favorie': 8659, 'absolutel': 8660, 'puhleeeeeeeeeeeez': 8661, 'figgie': 8662, 'ti': 8663, 'deltona': 8664, 'specialties': 8665, 'social': 8666, 'beleive': 8667, 'sushilover': 8668, 'flavordoh': 8669, 'fizzlicious': 8670, 'sufficient': 8671, 'rite': 8672, 'indispensable': 8673, 'feathers': 8674, 'baileys': 8675, 'andersons': 8676, 'tel': 8677, 'flatter': 8678, 'classics': 8679, 'relationship': 8680, 'oldfashioned': 8681, 'disturbing': 8682, 'blessings': 8683, 'teaching': 8684, 'conspiracy': 8685, 'gaaak': 8686, 'spleanda': 8687, 'chickne': 8688, 'knockout': 8689, 'standout': 8690, 'wound': 8691, 'yucker': 8692, 'mucker': 8693, 'thunderclusters': 8694, 'ticket': 8695, 'decription': 8696, 'exta': 8697, 'practicing': 8698, 'postum': 8699, 'abd': 8700, 'sin': 8701, 'theresa': 8702, 'irritable': 8703, 'starchy': 8704, 'wellington': 8705, 'purrrrfect': 8706, 'cheery': 8707, 'vinigrette': 8708, 'sant': 8709, 'eustachio': 8710, 'holistix': 8711, 'briefly': 8712, 'grace': 8713, 'cloth': 8714, 'tap': 8715, 'nearby': 8716, 'mehh': 8717, 'togummi': 8718, 'whoopalicious': 8719, 'necap': 8720, 'refillable': 8721, 'workmanship': 8722, 'piggie': 8723, 'vacume': 8724, 'lemoon': 8725, 'meatiest': 8726, 'omnomnomnomnomnom': 8727, 'admirable': 8728, 'babybmom': 8729, 'concur': 8730, 'godo': 8731, 'lomo': 8732, 'iberico': 8733, 'bellota': 8734, 'loin': 8735, 'sleeplessness': 8736, 'tapers': 8737, 'penguin': 8738, 'pooper': 8739, 'descale': 8740, 'tricked': 8741, 'peelu': 8742, 'dilemma': 8743, 'wiskas': 8744, 'bigtaz': 8745, 'netrition': 8746, 'tolerates': 8747, 'gardener': 8748, 'sampo': 8749, 'openning': 8750, 'retired': 8751, 'worthington': 8752, 'lordy': 8753, 'vegies': 8754, 'acknowledged': 8755, 'prodcut': 8756, 'produdt': 8757, 'mystified': 8758, 'keurg': 8759, 'fod': 8760, 'wf': 8761, 'regatta': 8762, 'driven': 8763, 'immediate': 8764, 'cooldown': 8765, 'lighting': 8766, 'rod': 8767, 'ughhh': 8768, 'shepered': 8769, 'montazuma': 8770, 'revenge': 8771, 'zagreb': 8772, 'katz': 8773, 'flocken': 8774, 'teryiaki': 8775, 'hundred': 8776, 'dentless': 8777, 'awsomeness': 8778, 'blair': 8779, 'geber': 8780, 'montmorency': 8781, 'ogbono': 8782, 'allegry': 8783, 'lightening': 8784, 'mechanically': 8785, 'downized': 8786, 'salmonella': 8787, 'copy': 8788, 'cog': 8789, 'mountian': 8790, 'hooh': 8791, 'weee': 8792, 'stover': 8793, 'legends': 8794, 'grenies': 8795, 'cruz': 8796, 'joyva': 8797, 'slushie': 8798, 'diminish': 8799, 'welll': 8800, 'reasonabkle': 8801, 'pepperridge': 8802, 'pepsin': 8803, 'corozonas': 8804, 'preservative': 8805, 'stripes': 8806, 'email': 8807, 'swing': 8808, 'grainfree': 8809, 'pitbull': 8810, 'medora': 8811, 'emmy': 8812, 'spaniel': 8813, 'pupster': 8814, 'detastix': 8815, 'origional': 8816, 'researching': 8817, 'sensations': 8818, 'badda': 8819, 'bing': 8820, 'flicks': 8821, 'rascal': 8822, 'legacy': 8823, 'akita': 8824, 'brien': 8825, 'hurricane': 8826, 'cicco': 8827, 'biold': 8828, 'labradors': 8829, 'bazaar': 8830, 'merits': 8831, 'porous': 8832, 'oranginaish': 8833, 'yougurt': 8834, 'cars': 8835, 'cemt': 8836, 'fugi': 8837, 'olde': 8838, 'thompson': 8839, 'trained': 8840, 'corazonas': 8841, 'forestrx': 8842, 'enerjets': 8843, 'loooooooves': 8844, 'deteriorated': 8845, 'louie': 8846, 'izzes': 8847, 'efforts': 8848, 'jewlly': 8849, 'film': 8850, 'tomalley': 8851, 'continues': 8852, 'bab': 8853, 'mouths': 8854, 'carse': 8855, 'beens': 8856, 'acquire': 8857, 'tide': 8858, 'urges': 8859, 'aficionados': 8860, 'tulley': 8861, 'sap': 8862, 'newfie': 8863, 'contact': 8864, 'diverse': 8865, 'snackanimals': 8866, 'heavens': 8867, 'exir': 8868, 'nonfat': 8869, 'pickling': 8870, 'casserole': 8871, 'tier': 8872, 'tom': 8873, 'schar': 8874, 'francis': 8875, 'mariade': 8876, 'overpackage': 8877, 'orginal': 8878, 'highlights': 8879, 'fad': 8880, 'robbed': 8881, 'ensure': 8882, 'malty': 8883, 'thymes': 8884, 'consisting': 8885, 'billed': 8886, 'beep': 8887, 'candidate': 8888, 'banned': 8889, 'substances': 8890, 'stabilizer': 8891, 'tamer': 8892, 'legendary': 8893, 'bothered': 8894, 'saviour': 8895, 'hotttt': 8896, 'heroin': 8897, 'moe': 8898, 'tooooo': 8899, 'prem': 8900, 'discrepancy': 8901, 'thief': 8902, 'tavah': 8903, 'ammonia': 8904, 'mommyshopper': 8905, 'socially': 8906, 'bathe': 8907, 'roca': 8908, 'suppress': 8909, 'raspebrry': 8910, 'busybone': 8911, 'chewnola': 8912, 'eeewwww': 8913, 'orbits': 8914, 'surprisely': 8915, 'dolmadakia': 8916, 'cruch': 8917, 'fields': 8918, 'eased': 8919, 'transition': 8920, 'doodle': 8921, 'chalkolate': 8922, 'suave': 8923, 'houseplant': 8924, 'veteran': 8925, 'receiving': 8926, 'severely': 8927, 'dropped': 8928, 'menopause': 8929, 'theme': 8930, 'decal': 8931, 'held': 8932, 'bamboos': 8933, 'doses': 8934, 'snax': 8935, 'enrich': 8936, 'army': 8937, 'marketspice': 8938, 'vegitable': 8939, 'pluses': 8940, 'lifesource': 8941, 'pappys': 8942, 'pam': 8943, 'welcomed': 8944, 'ooh': 8945, 'newest': 8946, 'craze': 8947, 'cincy': 8948, 'greendogs': 8949, 'astounding': 8950, 'mayonaise': 8951, 'retained': 8952, 'genuises': 8953, 'lava': 8954, 'breakroom': 8955, 'bfs': 8956, 'necter': 8957, 'decide': 8958, 'goodbar': 8959, 'limitations': 8960, 'soooooooooooo': 8961, 'easrly': 8962, 'yey': 8963, 'letdown': 8964, 'perfected': 8965, 'camelbak': 8966, 'fabulousness': 8967, 'asia': 8968, 'umbria': 8969, 'himalyan': 8970, 'gmc': 8971, 'oxidant': 8972, 'pometta': 8973, 'wylers': 8974, 'fourth': 8975, 'energets': 8976, 'desperation': 8977, 'tonkatsu': 8978, 'chilada': 8979, 'fluoridated': 8980, 'evah': 8981, 'suburb': 8982, 'replaceable': 8983, 'feeds': 8984, 'filing': 8985, 'happpy': 8986, 'senitive': 8987, 'etienne': 8988, 'pas': 8989, 'unsealed': 8990, 'stomch': 8991, 'keys': 8992, 'bicarbonate': 8993, 'wheels': 8994, 'peices': 8995, 'curl': 8996, 'truck': 8997, 'traded': 8998, 'nummyness': 8999, 'viet': 9000, 'nam': 9001, 'freaken': 9002, 'vh': 9003, 'pantheon': 9004, 'hibachi': 9005, 'track': 9006, 'fashoned': 9007, 'ornange': 9008, 'petit': 9009, 'eric': 9010, 'lightning': 9011, 'emphasis': 9012, 'hearts': 9013, 'flypaper': 9014, 'paducah': 9015, 'hcf': 9016, 'batali': 9017, 'thinne': 9018, 'decadant': 9019, 'thrid': 9020, 'channa': 9021, 'merry': 9022, 'disclosure': 9023, 'wyzykoski': 9024, 'greenmountain': 9025, 'joulie': 9026, 'roots': 9027, 'deeeee': 9028, 'claws': 9029, 'orangettes': 9030, 'authenic': 9031, 'camerons': 9032, 'peels': 9033, 'nooodles': 9034, 'hateful': 9035, 'wee': 9036, 'divinity': 9037, 'resturaunt': 9038, 'ganoush': 9039, 'maryann': 9040, 'shiritake': 9041, 'lotts': 9042, 'coffeeone': 9043, 'similiar': 9044, 'perennial': 9045, 'fought': 9046, 'eacn': 9047, 'sanka': 9048, 'oetker': 9049, 'gummylicious': 9050, 'eliminated': 9051, 'lokking': 9052, 'viennese': 9053, 'whirls': 9054, 'nutive': 9055, 'hater': 9056, 'nestle': 9057, 'chock': 9058, 'saveory': 9059, 'scotland': 9060, 'remission': 9061, 'combos': 9062, 'tantalizingly': 9063, 'fox': 9064, 'apartment': 9065, 'dwellers': 9066, 'theirs': 9067, 'disregard': 9068, 'peardrax': 9069, 'mum': 9070, 'doors': 9071, 'jazzies': 9072, 'uni': 9073, 'freezable': 9074, 'sachet': 9075, 'weep': 9076, 'decocainized': 9077, 'fuller': 9078, 'droooling': 9079, 'beefsteak': 9080, 'marukawa': 9081, 'looooonnnnngggg': 9082, 'ssshhhiiipppiiingg': 9083, 'burggirl': 9084, 'certs': 9085, 'pj': 9086, 'pax': 9087, 'romani': 9088, 'aceti': 9089, 'defacto': 9090, 'splits': 9091, 'gheetastic': 9092, 'bicewholesale': 9093, 'dyes': 9094, 'rpoduct': 9095, 'ype': 9096, 'coma': 9097, 'zante': 9098, 'shared': 9099, 'tortillia': 9100, 'recimmend': 9101, 'whitish': 9102, 'investment': 9103, 'anus': 9104, 'mackerels': 9105, 'meeeeeeowwwwwww': 9106, 'fermenting': 9107, 'pail': 9108, 'frenchs': 9109, 'bleddie': 9110, 'vallys': 9111, 'bgs': 9112, 'pricemust': 9113, 'sensitivites': 9114, 'kidz': 9115, 'beekeeper': 9116, 'blent': 9117, 'offline': 9118, 'suits': 9119, 'clowns': 9120, 'despised': 9121, 'barrier': 9122, 'pastilles': 9123, 'pale': 9124, 'bavarian': 9125, 'ranger': 9126, 'cornflakes': 9127, 'te': 9128, 'colcafe': 9129, 'greaatt': 9130, 'tend': 9131, 'granoloa': 9132, 'hamming': 9133, 'nyc': 9134, 'kaffe': 9135, 'grandparents': 9136, 'dreamy': 9137, 'singe': 9138, 'hairs': 9139, 'favorate': 9140, 'breathing': 9141, 'necassary': 9142, 'somethings': 9143, 'illustrated': 9144, 'giner': 9145, 'grapefruity': 9146, 'plz': 9147, 'kiwis': 9148, 'ruffles': 9149, 'ridges': 9150, 'unsuitable': 9151, 'uberyum': 9152, 'haennchen': 9153, 'macros': 9154, 'compounds': 9155, 'kodiak': 9156, 'testimonial': 9157, 'institutional': 9158, 'newf': 9159, 'ziggies': 9160, 'detect': 9161, 'prickly': 9162, 'snobby': 9163, 'decided': 9164, 'subscriptions': 9165, 'wint': 9166, 'settles': 9167, 'favours': 9168, 'consultant': 9169, 'necklace': 9170, 'reccomend': 9171, 'ciacco': 9172, 'wonderfulness': 9173, 'ryevita': 9174, 'pint': 9175, 'husker': 9176, 'cappucinnos': 9177, 'eeehhh': 9178, 'giveaway': 9179, 'saflower': 9180, 'grownup': 9181, 'exudes': 9182, 'caine': 9183, 'hunter': 9184, 'extraxts': 9185, 'valbon': 9186, 'nussini': 9187, 'jumps': 9188, 'sonse': 9189, 'rediculous': 9190, 'lollies': 9191, 'dessicated': 9192, 'municipal': 9193, 'wishes': 9194, 'losses': 9195, 'cows': 9196, 'jesus': 9197, 'molassess': 9198, 'gettin': 9199, 'extinct': 9200, 'crock': 9201, 'forced': 9202, 'yaki': 9203, 'happytots': 9204, 'companion': 9205, 'acrylic': 9206, 'yawn': 9207, 'slipping': 9208, 'granddaughters': 9209, 'informed': 9210, 'indifferent': 9211, 'disgust': 9212, 'drippy': 9213, 'giants': 9214, 'cordial': 9215, 'hunts': 9216, 'gee': 9217, 'cheapness': 9218, 'dozen': 9219, 'reviewing': 9220, 'purrs': 9221, 'unconvincing': 9222, 'htmt': 9223, 'underroasted': 9224, 'sec': 9225, 'pita': 9226, 'handmade': 9227, 'giflt': 9228, 'molassis': 9229, 'managed': 9230, 'destroy': 9231, 'vickie': 9232, 'tension': 9233, 'minimally': 9234, 'demi': 9235, 'tasse': 9236, 'icy': 9237, 'rigatoni': 9238, 'boosting': 9239, 'twizlers': 9240, 'echinacea': 9241, 'pile': 9242, 'jalapenos': 9243, 'improperly': 9244, 'patrick': 9245, 'buttons': 9246, 'fellas': 9247, 'marshmellow': 9248, 'anthon': 9249, 'champagne': 9250, 'devil': 9251, 'plague': 9252, 'honeybees': 9253, 'wholeheartedly': 9254, 'sixlets': 9255, 'funyuns': 9256, 'tiparos': 9257, 'mccanns': 9258, 'wraped': 9259, 'havent': 9260, 'vergnano': 9261, 'staghorn': 9262, 'bubblemint': 9263, 'tones': 9264, 'thme': 9265, 'mandoline': 9266, 'slicer': 9267, 'fanta': 9268, 'passing': 9269, 'blender': 9270, 'restraunt': 9271, 'kh': 9272, 'bunnell': 9273, 'saddened': 9274, 'pica': 9275, 'fruiy': 9276, 'brisk': 9277, 'finland': 9278, 'focused': 9279, 'bodog': 9280, 'turkery': 9281, 'unsweet': 9282, 'crumbled': 9283, 'dbp': 9284, 'googled': 9285, 'arfilicious': 9286, 'gfree': 9287, 'amaaaaaaazing': 9288, 'avacodo': 9289, 'visits': 9290, 'buble': 9291, 'colony': 9292, 'petits': 9293, 'menthe': 9294, 'customized': 9295, 'horn': 9296, 'hardart': 9297, 'distressed': 9298, 'tech': 9299, 'addictiveness': 9300, 'anton': 9301, 'jja': 9302, 'chistmas': 9303, 'ha': 9304, 'npa': 9305, 'ballpark': 9306, 'buttercream': 9307, 'mince': 9308, 'gingersnap': 9309, 'overt': 9310, 'supple': 9311, 'reheated': 9312, 'primary': 9313, 'allday': 9314, 'devotee': 9315, 'ridge': 9316, 'pirated': 9317, 'staff': 9318, 'olvatine': 9319, 'bubbling': 9320, 'ajitsuke': 9321, 'awesomness': 9322, 'salvaged': 9323, 'readible': 9324, 'cucina': 9325, 'antica': 9326, 'fofanalana': 9327, 'yucccky': 9328, 'minimized': 9329, 'watse': 9330, 'astragalus': 9331, 'odense': 9332, 'treaty': 9333, 'picker': 9334, 'nevertheless': 9335, 'patchi': 9336, 'attract': 9337, 'players': 9338, 'stroopwaffles': 9339, 'finiky': 9340, 'kringle': 9341, 'removable': 9342, 'museli': 9343, 'skytime': 9344, 'hotsauce': 9345, 'sight': 9346, 'previously': 9347, 'fathersday': 9348, 'fanfreakintastic': 9349, 'delgiht': 9350, 'indelicate': 9351, 'misunderstanding': 9352, 'construction': 9353, 'scale': 9354, 'lole': 9355, 'pattid': 9356, 'byron': 9357, 'pruddhomme': 9358, 'befor': 9359, 'norway': 9360, 'laundry': 9361, 'linguini': 9362, 'climbing': 9363, 'siberian': 9364, 'teat': 9365, 'looooong': 9366, 'whattachip': 9367, 'woww': 9368, 'pikes': 9369, 'chorizo': 9370, 'leelee': 9371, 'moore': 9372, 'skydive': 9373, 'irregularity': 9374, 'df': 9375, 'contamination': 9376, 'pagogi': 9377, 'lurrie': 9378, 'restaruant': 9379, 'presels': 9380, 'purines': 9381, 'malfunction': 9382, 'sans': 9383, 'muchrooms': 9384, 'springs': 9385, 'woundcare': 9386, 'cheeper': 9387, 'jamba': 9388, 'controversy': 9389, 'roxy': 9390, 'godson': 9391, 'softest': 9392, 'quesadillas': 9393, 'realistic': 9394, 'foaming': 9395, 'sickly': 9396, 'awfull': 9397, 'faced': 9398, 'paragon': 9399, 'motla': 9400, 'pearled': 9401, 'extraordinarily': 9402, 'orgasms': 9403, 'intestinal': 9404, 'steve': 9405, 'jennifer': 9406, 'bizarre': 9407, 'needles': 9408, 'thes': 9409, 'oves': 9410, 'smithinsight': 9411, 'fpod': 9412, 'trainning': 9413, 'constantly': 9414, 'labelled': 9415, 'equalizer': 9416, 'praises': 9417, 'mowcafe': 9418, 'shaker': 9419, 'errors': 9420, 'slowing': 9421, 'ace': 9422, 'digital': 9423, 'patently': 9424, 'frapp': 9425, 'contolled': 9426, 'paese': 9427, 'traaza': 9428, 'tia': 9429, 'survive': 9430, 'leg': 9431, 'untrue': 9432, 'moorish': 9433, 'mouthfuls': 9434, 'peal': 9435, 'jmarshall': 9436, 'wiggly': 9437, 'woderful': 9438, 'undertones': 9439, 'finnish': 9440, 'spelling': 9441, 'hnc': 9442, 'twining': 9443, 'twirly': 9444, 'havahart': 9445, 'rosematic': 9446, 'exposing': 9447, 'eel': 9448, 'teeny': 9449, 'talked': 9450, 'shotty': 9451, 'inhalers': 9452, 'colds': 9453, 'marginally': 9454, 'gouged': 9455, 'brief': 9456, 'witch': 9457, 'moan': 9458, 'albiet': 9459, 'xpensive': 9460, 'idiots': 9461, 'toothsome': 9462, 'cheeseeeee': 9463, 'logan': 9464, 'liquidy': 9465, 'leopard': 9466, 'misslabeled': 9467, 'healthys': 9468, 'smack': 9469, 'chocolae': 9470, 'franken': 9471, 'sama': 9472, 'plusses': 9473, 'theaters': 9474, 'mccoy': 9475, 'zevias': 9476, 'describes': 9477, 'anecdotal': 9478, 'charred': 9479, 'minitreats': 9480, 'dissapointingly': 9481, 'sw': 9482, 'jayjayreviewer': 9483, 'toungues': 9484, 'faces': 9485, 'zappin': 9486, 'sholud': 9487, 'juts': 9488, 'spreadable': 9489, 'sarabeth': 9490, 'suppers': 9491, 'pilchards': 9492, 'veterinary': 9493, 'curative': 9494, 'combinations': 9495, 'fastic': 9496, 'frappe': 9497, 'chapter': 9498, 'safflower': 9499, 'roller': 9500, 'litterally': 9501, 'nutritiously': 9502, 'glutened': 9503, 'beggin': 9504, 'saturday': 9505, 'snouts': 9506, 'gradually': 9507, 'shizzle': 9508, 'frap': 9509, 'uniquely': 9510, 'brighter': 9511, 'mincepie': 9512, 'surgery': 9513, 'staying': 9514, 'coffie': 9515, 'henry': 9516, 'scratching': 9517, 'pamper': 9518, 'cases': 9519, 'tuffy': 9520, 'stupid': 9521, 'window': 9522, 'carolina': 9523, 'dorset': 9524, 'doesn': 9525, 'stealing': 9526, 'celestia': 9527, 'tabatchnick': 9528, 'tomatoe': 9529, 'patties': 9530, 'hankering': 9531, 'fertilizer': 9532, 'reserve': 9533, 'gouda': 9534, 'ruv': 9535, 'honorable': 9536, 'backordered': 9537, 'zany': 9538, 'ounc': 9539, 'gulping': 9540, 'deeeeelicious': 9541, 'consummate': 9542, 'redfish': 9543, 'powerhouse': 9544, 'dispensers': 9545, 'capsuls': 9546, 'buchu': 9547, 'dnb': 9548, 'allens': 9549, 'purevia': 9550, 'cave': 9551, 'lion': 9552, 'dusting': 9553, 'arnold': 9554, 'palmer': 9555, 'vanishes': 9556, 'neophyte': 9557, 'guar': 9558, 'grrrrreeeaaatttt': 9559, 'feedback': 9560, 'barbeques': 9561, 'hardtack': 9562, 'weights': 9563, 'cri': 9564, 'accuracy': 9565, 'lima': 9566, 'shave': 9567, 'sanskriti': 9568, 'mentioned': 9569, 'formidable': 9570, 'lassi': 9571, 'compound': 9572, 'belches': 9573, 'playing': 9574, 'syddrome': 9575, 'ant': 9576, 'attacks': 9577, 'mintastic': 9578, 'tangeine': 9579, 'philippines': 9580, 'february': 9581, 'grrlie': 9582, 'texans': 9583, 'southerners': 9584, 'vintage': 9585, 'trashcan': 9586, 'strudy': 9587, 'recovering': 9588, 'kleri': 9589, 'token': 9590, 'wunderbar': 9591, 'philphan': 9592, 'videos': 9593, 'osteoporosis': 9594, 'unenchanted': 9595, 'khz': 9596, 'dump': 9597, 'orang': 9598, 'prism': 9599, 'tull': 9600, 'mutlivitamin': 9601, 'davidsons': 9602, 'rotted': 9603, 'carton': 9604, 'barswith': 9605, 'buon': 9606, 'tillandsia': 9607, 'ionantha': 9608, 'hornworms': 9609, 'cedrinca': 9610, 'aryuvedic': 9611, 'blaaaah': 9612, 'gene': 9613, 'yumzilla': 9614, 'revolutionized': 9615, 'airpop': 9616, 'unappetizing': 9617, 'rebound': 9618, 'vague': 9619, 'nanny': 9620, 'accidents': 9621, 'saluki': 9622, 'fryer': 9623, 'kkk': 9624, 'nejaime': 9625, 'lavasch': 9626, 'ruins': 9627, 'decilious': 9628, 'gravey': 9629, 'seamore': 9630, 'brimming': 9631, 'misled': 9632, 'sicophants': 9633, 'combine': 9634, 'restorative': 9635, 'provenance': 9636, 'einstein': 9637, 'heed': 9638, 'advice': 9639, 'curbing': 9640, 'representation': 9641, 'alessi': 9642, 'necco': 9643, 'cairn': 9644, 'jawbreaker': 9645, 'whim': 9646, 'shoeleather': 9647, 'thousand': 9648, 'sipped': 9649, 'cast': 9650, 'rao': 9651, 'disposacups': 9652, 'movement': 9653, 'wondrous': 9654, 'counterfeit': 9655, 'poupon': 9656, 'outraged': 9657, 'hmo': 9658, 'pcs': 9659, 'nubby': 9660, 'stevezappa': 9661, 'msn': 9662, 'downright': 9663, 'younger': 9664, 'squeezy': 9665, 'finishes': 9666, 'billing': 9667, 'absurd': 9668, 'centerpieces': 9669, 'roof': 9670, 'tickles': 9671, 'flavacol': 9672, 'pekoe': 9673, 'oder': 9674, 'ewweee': 9675, 'bridgford': 9676, 'sosour': 9677, 'kernelly': 9678, 'doorstep': 9679, 'snacked': 9680, 'nipples': 9681, 'liquibuy': 9682, 'disagreeable': 9683, 'couch': 9684, 'sweeatners': 9685, 'spilt': 9686, 'thera': 9687, 'couples': 9688, 'spin': 9689, 'obscene': 9690, 'heathful': 9691, 'nomnomnom': 9692, 'glute': 9693, 'roadhouse': 9694, 'pallete': 9695, 'tunnel': 9696, 'fransisco': 9697, 'bebea': 9698, 'acne': 9699, 'scarring': 9700, 'engery': 9701, 'yaow': 9702, 'suckin': 9703, 'glutamate': 9704, 'rosebud': 9705, 'zot': 9706, 'dyno': 9707, 'jenny': 9708, 'medi': 9709, 'calmer': 9710, 'noteworthy': 9711, 'overboard': 9712, 'sicily': 9713, 'soggier': 9714, 'humm': 9715, 'calzone': 9716, 'aight': 9717, 'thomy': 9718, 'maniac': 9719, 'foxy': 9720, 'pepto': 9721, 'bismol': 9722, 'delicately': 9723, 'discusting': 9724, 'kittykat': 9725, 'buuut': 9726, 'jules': 9727, 'nightcap': 9728, 'eyed': 9729, 'britt': 9730, 'irritates': 9731, 'poptarts': 9732, 'obliteration': 9733, 'magma': 9734, 'jb': 9735, 'hawkin': 9736, 'cheesies': 9737, 'rooster': 9738, 'bible': 9739, 'hazlenut': 9740, 'hottttt': 9741, 'jamaca': 9742, 'questions': 9743, 'casablanca': 9744, 'overcome': 9745, 'diabedes': 9746, 'flux': 9747, 'zicolicious': 9748, 'towels': 9749, 'safers': 9750, 'verry': 9751, 'flatulence': 9752, 'sergeant': 9753, 'marinades': 9754, 'bb': 9755, 'quappy': 9756, 'oldest': 9757, 'verdergetbetterpackageing': 9758, 'acres': 9759, 'awarded': 9760, 'teriffic': 9761, 'specks': 9762, 'creams': 9763, 'hazards': 9764, 'radar': 9765, 'fishes': 9766, 'gouge': 9767, 'dhall': 9768, 'missie': 9769, 'grownups': 9770, 'desolve': 9771, 'lifes': 9772, 'prpduct': 9773, 'blueberryie': 9774, 'smarty': 9775, 'maribisi': 9776, 'sienna': 9777, 'litttle': 9778, 'chichen': 9779, 'ledhere': 9780, 'pav': 9781, 'bhaji': 9782, 'ghc': 9783, 'hoodia': 9784, 'smacking': 9785, 'blows': 9786, 'valrhona': 9787, 'manjari': 9788, 'kg': 9789, 'areal': 9790, 'whisky': 9791, 'valuable': 9792, 'anergen': 9793, 'oilcancharley': 9794, 'damned': 9795, 'bambinos': 9796, 'worx': 9797, 'demigods': 9798, 'lesliejune': 9799, 'marionberry': 9800, 'related': 9801, 'fibromyalgia': 9802, 'shady': 9803, 'cupajoe': 9804, 'yumalishus': 9805, 'partial': 9806, 'shrunk': 9807, 'kung': 9808, 'pao': 9809, 'wool': 9810, 'mealy': 9811, 'beatiful': 9812, 'tumeric': 9813, 'jackpot': 9814, 'flavorite': 9815, 'sux': 9816, 'drives': 9817, 'gussie': 9818, 'meltaways': 9819, 'sahlen': 9820, 'hollywood': 9821, 'nicole': 9822, 'coffeelicious': 9823, 'magnificent': 9824, 'chocs': 9825, 'separates': 9826, 'gustav': 9827, 'aesthetically': 9828, 'goatmilkdrinker': 9829, 'smoothly': 9830, 'rottie': 9831, 'blacken': 9832, 'lung': 9833, 'martha': 9834, 'caranel': 9835, 'unexpectedly': 9836, 'conagra': 9837, 'qcing': 9838, 'pog': 9839, 'recommendations': 9840, 'unpop': 9841, 'wheaties': 9842, 'absence': 9843, 'alice': 9844, 'descaling': 9845, 'vomited': 9846, 'westies': 9847, 'aholic': 9848, 'enhancing': 9849, 'transportable': 9850, 'sonido': 9851, 'tickle': 9852, 'spouse': 9853, 'saba': 9854, 'figgy': 9855, 'pms': 9856, 'mares': 9857, 'sweetart': 9858, 'breakables': 9859, 'nitrogen': 9860, 'prezel': 9861, 'historic': 9862, 'bleeeeeeeeeeeeeeeeeeeeeeech': 9863, 'stuffers': 9864, 'unexciting': 9865, 'crips': 9866, 'greentea': 9867, 'willinghams': 9868, 'sloooooww': 9869, 'reformed': 9870, 'catsip': 9871, 'praisin': 9872, 'appetit': 9873, 'creat': 9874, 'shopaholic': 9875, 'flyboy': 9876, 'sponge': 9877, 'rehydrated': 9878, 'survivor': 9879, 'buellton': 9880, 'recently': 9881, 'bronze': 9882, 'lustrious': 9883, 'maxwellhouse': 9884, 'chrondrotin': 9885, 'ghanouge': 9886, 'punkin': 9887, 'sonora': 9888, 'lunar': 9889, 'radish': 9890, 'cappucciono': 9891, 'bygeneral': 9892, 'lazzaroni': 9893, 'naturade': 9894, 'chocoholics': 9895, 'war': 9896, 'repertoire': 9897, 'englis': 9898, 'damged': 9899, 'veneer': 9900, 'technically': 9901, 'pur': 9902, 'aria': 9903, 'francais': 9904, 'raspberries': 9905, 'greeatest': 9906, 'undamaged': 9907, 'meowzer': 9908, 'cornlicious': 9909, 'como': 9910, 'hice': 9911, 'abuela': 9912, 'bers': 9913, 'soured': 9914, 'maintains': 9915, 'whamlicious': 9916, 'hiking': 9917, 'sisters': 9918, 'alomonds': 9919, 'asume': 9920, 'jakemans': 9921, 'tx': 9922, 'ahhhhhh': 9923, 'yogart': 9924, 'sheds': 9925, 'happylillady': 9926, 'adoptees': 9927, 'richy': 9928, 'branch': 9929, 'clipper': 9930, 'filippo': 9931, 'berio': 9932, 'shash': 9933, 'plantars': 9934, 'destructible': 9935, 'relative': 9936, 'indomied': 9937, 'kuchenmeister': 9938, 'amaretto': 9939, 'healtful': 9940, 'mellowed': 9941, 'crunchie': 9942, 'forth': 9943, 'households': 9944, 'cakeing': 9945, 'agents': 9946, 'belch': 9947, 'ecopackaging': 9948, 'respond': 9949, 'bennyclams': 9950, 'motts': 9951, 'grammas': 9952, 'customary': 9953, 'unpalatable': 9954, 'invigorating': 9955, 'june': 9956, 'clearing': 9957, 'mannheim': 9958, 'parchment': 9959, 'begging': 9960, 'ideas': 9961, 'uhmm': 9962, 'disposal': 9963, 'outlet': 9964, 'disfigured': 9965, 'trace': 9966, 'grief': 9967, 'savon': 9968, 'et': 9969, 'cie': 9970, 'xclnt': 9971, 'pawfect': 9972, 'consitpation': 9973, 'teh': 9974, 'adulteration': 9975, 'splecccchhhhda': 9976, 'sparkle': 9977, 'gimmicky': 9978, 'mildew': 9979, 'ehkkkkkkkkkkkkkkk': 9980, 'uncut': 9981, 'babaganouge': 9982, 'matched': 9983, 'avoided': 9984, 'lice': 9985, 'crunching': 9986, 'thinly': 9987, 'dn': 9988, 'mik': 9989, 'brody': 9990, 'romono': 9991, 'wrigley': 9992, 'winterfresh': 9993, 'oo': 9994, 'force': 9995, 'agreeable': 9996, 'ddddddddddeeeeelicious': 9997, 'bt': 9998, 'crawfoeds': 9999, 'dealbreaker': 10000, 'gumdrops': 10001, 'bushel': 10002, 'netrush': 10003, 'excelente': 10004, 'celcius': 10005, 'offtaste': 10006, 'underweight': 10007, 'worls': 10008, 'jasmati': 10009, 'compete': 10010, 'haldiram': 10011, 'soan': 10012, 'papdi': 10013, 'tumbs': 10014, 'meowingly': 10015, 'lysander': 10016, 'fiz': 10017, 'ellas': 10018, 'glitterati': 10019, 'junkies': 10020, 'stopper': 10021, 'descent': 10022, 'muselix': 10023, 'wylde': 10024, 'pedialyte': 10025, 'galactogogue': 10026, 'minority': 10027, 'flava': 10028, 'healer': 10029, 'assisted': 10030, 'therpist': 10031, 'looong': 10032, 'equates': 10033, 'bin': 10034, 'aged': 10035, 'bent': 10036, 'google': 10037, 'reports': 10038, 'suspected': 10039, 'poisoning': 10040, 'brm': 10041, 'luci': 10042, 'addins': 10043, 'hasta': 10044, 'ahora': 10045, 'tengo': 10046, 'quejas': 10047, 'needle': 10048, 'mahi': 10049, 'satisfacation': 10050, 'audience': 10051, 'pickup': 10052, 'allegies': 10053, 'muli': 10054, 'ronnie': 10055, 'microwaveable': 10056, 'reprehensible': 10057, 'weightless': 10058, 'snaggle': 10059, 'toothed': 10060, 'fibers': 10061, 'sportmix': 10062, 'squish': 10063, 'partners': 10064, 'kats': 10065, 'amishpopcorn': 10066, 'awesomes': 10067, 'jojo': 10068, 'dayuuuum': 10069, 'glitter': 10070, 'subscriber': 10071, 'weighs': 10072, 'shoulders': 10073, 'danes': 10074, 'excellante': 10075, 'morito': 10076, 'julie': 10077, 'insufficient': 10078, 'dawer': 10079, 'musselmans': 10080, 'whitehouse': 10081, 'connection': 10082, 'kuma': 10083, 'aussi': 10084, 'licorce': 10085, 'kasha': 10086, 'loverssoul': 10087, 'joshua': 10088, 'grahms': 10089, 'cheech': 10090, 'chong': 10091, 'jacob': 10092, 'superlative': 10093, 'butters': 10094, 'asthmatic': 10095, 'schmeck': 10096, 'willalways': 10097, 'afternoons': 10098, 'lager': 10099, 'gnuts': 10100, 'loganberry': 10101, 'accustomed': 10102, 'specs': 10103, 'babel': 10104, 'kashigirl': 10105, 'mgr': 10106, 'choicw': 10107, 'flaxseeds': 10108, 'subjectively': 10109, 'hurrah': 10110, 'comeback': 10111, 'breastfast': 10112, 'pelindaba': 10113, 'sprinkled': 10114, 'enoyable': 10115, 'ofr': 10116, 'sasros': 10117, 'argue': 10118, 'pia': 10119, 'quintessential': 10120, 'himself': 10121, 'kaia': 10122, 'dackels': 10123, 'supporting': 10124, 'separately': 10125, 'excekkent': 10126, 'decor': 10127, 'perugina': 10128, 'serendipi': 10129, 'tortas': 10130, 'exacltly': 10131, 'cs': 10132, 'mover': 10133, 'amout': 10134, 'whiten': 10135, 'residues': 10136, 'rewarding': 10137, 'pastrami': 10138, 'realized': 10139, 'hairy': 10140, 'ekojava': 10141, 'unpleasantly': 10142, 'glutten': 10143, 'branches': 10144, 'char': 10145, 'worcestershire': 10146, 'contribution': 10147, 'civilization': 10148, 'eeeewwww': 10149, 'yummish': 10150, 'chilies': 10151, 'subscrition': 10152, 'schmippered': 10153, 'golly': 10154, 'torilla': 10155, 'delious': 10156, 'hometown': 10157, 'holding': 10158, 'monika': 10159, 'lethargic': 10160, 'altering': 10161, 'suprising': 10162, 'plays': 10163, 'keurigs': 10164, 'lou': 10165, 'section': 10166, 'pigg': 10167, 'indeedy': 10168, 'critical': 10169, 'enthusiasm': 10170, 'innovo': 10171, 'striner': 10172, 'athletic': 10173, 'kroger': 10174, 'uncomplicated': 10175, 'ingedient': 10176, 'skor': 10177, 'bisphenol': 10178, 'tvp': 10179, 'boca': 10180, 'morningstar': 10181, 'mcclain': 10182, 'diggin': 10183, 'kongo': 10184, 'shitzu': 10185, 'chunck': 10186, 'spenda': 10187, 'heated': 10188, 'slide': 10189, 'edamame': 10190, 'titus': 10191, 'reasonabale': 10192, 'eligible': 10193, 'tetrapak': 10194, 'damp': 10195, 'majorly': 10196, 'kicked': 10197, 'unfilled': 10198, 'ghastly': 10199, 'existence': 10200, 'pakcake': 10201, 'lana': 10202, 'wudgy': 10203, 'carnival': 10204, 'digusting': 10205, 'myy': 10206, 'thanking': 10207, 'delighfully': 10208, 'devious': 10209, 'supersaver': 10210, 'rode': 10211, 'mantova': 10212, 'soysauce': 10213, 'dissappointing': 10214, 'krispie': 10215, 'outback': 10216, 'steakhouse': 10217, 'strenght': 10218, 'adagio': 10219, 'inced': 10220, 'tarter': 10221, 'popcorm': 10222, 'sally': 10223, 'decades': 10224, 'angelo': 10225, 'pietro': 10226, 'wipes': 10227, 'baths': 10228, 'husbands': 10229, 'norcal': 10230, 'restuarant': 10231, 'tapioc': 10232, 'entrega': 10233, 'empaque': 10234, 'virital': 10235, 'bewitching': 10236, 'genmaicha': 10237, 'destoy': 10238, 'supremo': 10239, 'hill': 10240, 'regimen': 10241, 'endangered': 10242, 'species': 10243, 'smackin': 10244, 'versatility': 10245, 'varying': 10246, 'badness': 10247, 'fontinella': 10248, 'financing': 10249, 'occupation': 10250, 'penta': 10251, 'clog': 10252, 'swiatek': 10253, 'obvious': 10254, 'tocopherol': 10255, 'terra': 10256, 'kettles': 10257, 'dutchgirl': 10258, 'extravagance': 10259, 'whore': 10260, 'rex': 10261, 'nuke': 10262, 'elbows': 10263, 'grrr': 10264, 'chipolle': 10265, 'regualr': 10266, 'yums': 10267, 'rosamonte': 10268, 'especial': 10269, 'sheep': 10270, 'clothing': 10271, 'grumbling': 10272, 'performance': 10273, 'ouzo': 10274, 'agreed': 10275, 'bravo': 10276, 'chrysanthemum': 10277, 'lov': 10278, 'tahina': 10279, 'drafty': 10280, 'garbanzos': 10281, 'amyjon': 10282, 'supremely': 10283, 'shrinkage': 10284, 'radtechmom': 10285, 'holmes': 10286, 'pitch': 10287, 'league': 10288, 'stovetop': 10289, 'moo': 10290, 'calorific': 10291, 'dryest': 10292, 'oakcakes': 10293, 'cinninot': 10294, 'replacing': 10295, 'cadillac': 10296, 'pupstar': 10297, 'schneck': 10298, 'lecker': 10299, 'stonewalls': 10300, 'stonewalll': 10301, 'souper': 10302, 'mode': 10303, 'seahawks': 10304, 'yuch': 10305, 'timeliness': 10306, 'shippers': 10307, 'glucossamin': 10308, 'chondroitin': 10309, 'anemic': 10310, 'preamp': 10311, 'ewe': 10312, 'allowed': 10313, 'shitake': 10314, 'haiku': 10315, 'sugard': 10316, 'inconsistently': 10317, 'smilies': 10318, 'buttered': 10319, 'scsource': 10320, 'tenderfully': 10321, 'bred': 10322, 'fort': 10323, 'featured': 10324, 'expensiv': 10325, 'dietetic': 10326, 'spill': 10327, 'prodect': 10328, 'frustrated': 10329, 'metabisulfite': 10330, 'stack': 10331, 'banish': 10332, 'titanium': 10333, 'tarty': 10334, 'eathing': 10335, 'mccafe': 10336, 'imperial': 10337, 'riceworks': 10338, 'overfilling': 10339, 'korea': 10340, 'seoul': 10341, 'ragu': 10342, 'digs': 10343, 'arabica': 10344, 'wisconsinmade': 10345, 'hottttttttttt': 10346, 'bleech': 10347, 'skimps': 10348, 'spritzers': 10349, 'biscuitlets': 10350, 'spec': 10351, 'sherri': 10352, 'nan': 10353, 'hunting': 10354, 'creole': 10355, 'potes': 10356, 'curly': 10357, 'dreamwater': 10358, 'neurotically': 10359, 'yuuuuumm': 10360, 'maltedmultigrain': 10361, 'wafflemix': 10362, 'betterr': 10363, 'suppliers': 10364, 'lying': 10365, 'soa': 10366, 'lorenzo': 10367, 'sweaty': 10368, 'werithers': 10369, 'neighborhood': 10370, 'studying': 10371, 'heartier': 10372, 'deceived': 10373, 'clueless': 10374, 'currently': 10375, 'indulging': 10376, 'boldest': 10377, 'alfajores': 10378, 'beam': 10379, 'precut': 10380, 'liquer': 10381, 'strooong': 10382, 'napolean': 10383, 'curds': 10384, 'zingers': 10385, 'laika': 10386, 'cherokee': 10387, 'unpopped': 10388, 'lauri': 10389, 'ebelskiver': 10390, 'yippee': 10391, 'slimfast': 10392, 'distiller': 10393, 'brodies': 10394, 'cassoulet': 10395, 'roe': 10396, 'mattd': 10397, 'allergenic': 10398, 'wiley': 10399, 'painfully': 10400, 'firehouse': 10401, 'poppyseed': 10402, 'exchange': 10403, 'boomer': 10404, 'mc': 10405, 'cormicks': 10406, 'shiznit': 10407, 'variet': 10408, 'labor': 10409, 'notes': 10410, 'sunstrike': 10411, 'ermerils': 10412, 'woulda': 10413, 'shoulda': 10414, 'coulda': 10415, 'resturant': 10416, 'gerbil': 10417, 'gran': 10418, 'collezione': 10419, 'laws': 10420, 'exhale': 10421, 'desolove': 10422, 'swell': 10423, 'barrel': 10424, 'occassional': 10425, 'begone': 10426, 'pepermint': 10427, 'gagina': 10428, 'orgainic': 10429, 'meltdown': 10430, 'concentrates': 10431, 'adkins': 10432, 'breasts': 10433, 'sarge': 10434, 'zagnuts': 10435, 'sphynx': 10436, 'reacts': 10437, 'mount': 10438, 'treasures': 10439, 'thicking': 10440, 'loaves': 10441, 'jasian': 10442, 'freshen': 10443, 'skunk': 10444, 'chocholate': 10445, 'florescent': 10446, 'twinkie': 10447, 'everlast': 10448, 'pleasent': 10449, 'offset': 10450, 'prie': 10451, 'gnawhides': 10452, 'pls': 10453, 'yuh': 10454, 'trofie': 10455, 'fount': 10456, 'textmati': 10457, 'exted': 10458, 'pamaela': 10459, 'truffel': 10460, 'kinetic': 10461, 'kraziness': 10462, 'dob': 10463, 'archway': 10464, 'tankyada': 10465, 'spaghettis': 10466, 'involved': 10467, 'manic': 10468, 'prouduct': 10469, 'leftover': 10470, 'fridge': 10471, 'abc': 10472, 'meaningful': 10473, 'fraud': 10474, 'artwork': 10475, 'endorsed': 10476, 'weston': 10477, 'elliott': 10478, 'pruduct': 10479, 'trition': 10480, 'glassjar': 10481, 'filtered': 10482, 'unknown': 10483, 'impurities': 10484, 'overpaid': 10485, 'pumking': 10486, 'southwestern': 10487, 'yumy': 10488, 'fizzilicious': 10489, 'novelty': 10490, 'cattle': 10491, 'teariffic': 10492, 'sukiyaki': 10493, 'brine': 10494, 'lye': 10495, 'reader': 10496, 'nissin': 10497, 'considerably': 10498, 'chailicious': 10499, 'geliva': 10500, 'zours': 10501, 'tatse': 10502, 'noirot': 10503, 'tipping': 10504, 'harbo': 10505, 'cursing': 10506, 'bukkake': 10507, 'relations': 10508, 'stunned': 10509, 'deeelectable': 10510, 'loooooooooooves': 10511, 'ghees': 10512, 'bootlegging': 10513, 'hazer': 10514, 'birthing': 10515, 'happysqueezes': 10516, 'kar': 10517, 'sucessful': 10518, 'inflammatory': 10519, 'alcohols': 10520, 'benson': 10521, 'saltfree': 10522, 'laksa': 10523, 'neooooooow': 10524, 'bieglow': 10525, 'tropics': 10526, 'supports': 10527, 'wrist': 10528, 'amazingness': 10529, 'omnivores': 10530, 'withholding': 10531, 'kentuckygirl': 10532, 'uplifting': 10533, 'ge': 10534, 'roasty': 10535, 'deborah': 10536, 'jellys': 10537, 'pollen': 10538, 'hominy': 10539, 'chocoperfection': 10540, 'dresssing': 10541, 'moontime': 10542, 'fertility': 10543, 'husk': 10544, 'choloate': 10545, 'cheers': 10546, 'driest': 10547, 'tek': 10548, 'cinnamony': 10549, 'underrated': 10550, 'bulldogs': 10551, 'irritants': 10552, 'michaell': 10553, 'becoming': 10554, 'dacaf': 10555, 'advertise': 10556, 'prominently': 10557, 'charcoal': 10558, 'honeys': 10559, 'oishii': 10560, 'discriminating': 10561, 'palates': 10562, 'printed': 10563, 'purrfect': 10564, 'hero': 10565, 'barksters': 10566, 'krisps': 10567, 'mori': 10568, 'opa': 10569, 'progressively': 10570, 'gordon': 10571, 'wooden': 10572, 'thunk': 10573, 'aaaaaagh': 10574, 'whoop': 10575, 'calzones': 10576, 'nachos': 10577, 'mxl': 10578, 'micmate': 10579, 'gelee': 10580, 'install': 10581, 'wrinkle': 10582, 'hydrated': 10583, 'hawwian': 10584, 'pernod': 10585, 'absinthe': 10586, 'waking': 10587, 'cramping': 10588, 'enfamil': 10589, 'squeezeable': 10590, 'phillippine': 10591, 'eauction': 10592, 'stewart': 10593, 'marcona': 10594, 'tenessee': 10595, 'lightnin': 10596, 'decorators': 10597, 'gall': 10598, 'stones': 10599, 'behind': 10600, 'bonkers': 10601, 'deeper': 10602, 'indicate': 10603, 'flags': 10604, 'doctors': 10605, 'click': 10606, 'button': 10607, 'critique': 10608, 'soccer': 10609, 'gallbladder': 10610, 'flare': 10611, 'disagree': 10612, 'recvd': 10613, 'assembly': 10614, 'alpacas': 10615, 'cheeselicious': 10616, 'ried': 10617, 'nector': 10618, 'montauk': 10619, 'flows': 10620, 'overdone': 10621, 'intoxicated': 10622, 'crockett': 10623, 'determine': 10624, 'resource': 10625, 'middling': 10626, 'labrador': 10627, 'spartan': 10628, 'xxx': 10629, 'clasico': 10630, 'endless': 10631, 'bendingly': 10632, 'fajitas': 10633, 'sanded': 10634, 'aztec': 10635, 'truth': 10636, 'toothsaver': 10637, 'chino': 10638, 'cocoquik': 10639, 'nanas': 10640, 'professor': 10641, 'incident': 10642, 'chronicle': 10643, 'malamute': 10644, 'pipe': 10645, 'intro': 10646, 'spherification': 10647, 'lungo': 10648, 'strongest': 10649, 'anxiety': 10650, 'lemonheads': 10651, 'seemingly': 10652, 'teresa': 10653, 'marketplace': 10654, 'barrista': 10655, 'mark': 10656, 'chasing': 10657, 'elk': 10658, 'antler': 10659, 'pnut': 10660, 'intrigued': 10661, 'lump': 10662, 'crabmeat': 10663, 'closeout': 10664, 'consistantly': 10665, 'barnie': 10666, 'azar': 10667, 'variant': 10668, 'mdh': 10669, 'ashy': 10670, 'babysitting': 10671, 'braces': 10672, 'larva': 10673, 'rosa': 10674, 'layered': 10675, 'agava': 10676, 'smoooooze': 10677, 'loveeeeee': 10678, 'horsepower': 10679, 'stingers': 10680, 'davinci': 10681, 'cheeta': 10682, 'default': 10683, 'mtr': 10684, 'rajma': 10685, 'krafty': 10686, 'yeee': 10687, 'uck': 10688, 'delectible': 10689, 'vazer': 10690, 'fantasitc': 10691, 'yuummy': 10692, 'compliment': 10693, 'whoopty': 10694, 'quatity': 10695, 'lhasa': 10696, 'chelsea': 10697, 'caffeen': 10698, 'pebbles': 10699, 'cardiac': 10700, 'tune': 10701, 'barking': 10702, 'kambucha': 10703, 'deeeeeeeeelish': 10704, 'sole': 10705, 'palatibility': 10706, 'intolerent': 10707, 'mmouthwatering': 10708, 'moisturizes': 10709, 'bog': 10710, 'proceed': 10711, 'finesse': 10712, 'parakeets': 10713, 'incompetent': 10714, 'timeless': 10715, 'abomination': 10716, 'bartender': 10717, 'steamed': 10718, 'amazin': 10719, 'oomph': 10720, 'member': 10721, 'beaufort': 10722, 'imagine': 10723, 'doa': 10724, 'cauliflower': 10725, 'education': 10726, 'twain': 10727, 'challenged': 10728, 'ashwagandha': 10729, 'downsized': 10730, 'cove': 10731, 'mgm': 10732, 'appliance': 10733, 'tunalicious': 10734, 'diabetes': 10735, 'yoga': 10736, 'fil': 10737, 'vicki': 10738, 'colleen': 10739, 'barrett': 10740, 'cheesey': 10741, 'patients': 10742, 'nestea': 10743, 'income': 10744, 'dorkie': 10745, 'steroids': 10746, 'brt': 10747, 'butterscotches': 10748, 'hersey': 10749, 'tipped': 10750, 'slowest': 10751, 'excuse': 10752, 'uuuuuuumm': 10753, 'nicer': 10754, 'ripe': 10755, 'moisture': 10756, 'rudolph': 10757, 'pschologically': 10758, 'elegance': 10759, 'costosa': 10760, 'hc': 10761, 'ap': 10762, 'ritif': 10763, 'recycle': 10764, 'muntok': 10765, 'expensively': 10766, 'promotion': 10767, 'bodywash': 10768, 'disappionted': 10769, 'heven': 10770, 'gmos': 10771, 'wonderfulitaliantreat': 10772, 'thirty': 10773, 'remains': 10774, 'gelvalia': 10775, 'sunburst': 10776, 'aegean': 10777, 'liquors': 10778, 'hitor': 10779, 'planks': 10780, 'calms': 10781, 'decortating': 10782, 'tident': 10783, 'sososo': 10784, 'snout': 10785, 'occupier': 10786, 'yummazing': 10787, 'bayer': 10788, 'masa': 10789, 'harina': 10790, 'treated': 10791, 'nylabones': 10792, 'nonni': 10793, 'popcorrn': 10794, 'pil': 10795, 'captains': 10796, 'corazona': 10797, 'jane': 10798, 'inbetween': 10799, 'gussies': 10800, 'highfat': 10801, 'renal': 10802, 'swwwwweet': 10803, 'caibou': 10804, 'madhaya': 10805, 'vegie': 10806, 'cared': 10807, 'cylinders': 10808, 'karma': 10809, 'paino': 10810, 'frech': 10811, 'viva': 10812, 'affair': 10813, 'licorace': 10814, 'adjust': 10815, 'barb': 10816, 'orchard': 10817, 'rainy': 10818, 'rj': 10819, 'hahaa': 10820, 'jerusalem': 10821, 'howard': 10822, 'lifeless': 10823, 'lori': 10824, 'samatra': 10825, 'overcharging': 10826, 'pucca': 10827, 'astonishingly': 10828, 'foodshouldtastethisgood': 10829, 'octopus': 10830, 'justify': 10831, 'zucchini': 10832, 'autimatic': 10833, 'hazel': 10834, 'nuttiness': 10835, 'poopsie': 10836, 'grnd': 10837, 'blk': 10838, 'sadie': 10839, 'snot': 10840, 'saucisson': 10841, 'troubling': 10842, 'traveler': 10843, 'sailing': 10844, 'wholepaycheck': 10845, 'consul': 10846, 'littles': 10847, 'healthsome': 10848, 'ottimo': 10849, 'grana': 10850, 'padano': 10851, 'surf': 10852, 'turf': 10853, 'wilderness': 10854, 'hoppin': 10855, 'daiquiri': 10856, 'babysitter': 10857, 'totes': 10858, 'promote': 10859, 'development': 10860, 'enseda': 10861, 'upgraded': 10862, 'cautious': 10863, 'uncommon': 10864, 'flavorable': 10865, 'ahem': 10866, 'pause': 10867, 'transitioning': 10868, 'checkout': 10869, 'boneless': 10870, 'preorder': 10871, 'definition': 10872, 'caffeien': 10873, 'dinos': 10874, 'hammered': 10875, 'nail': 10876, 'cork': 10877, 'identifiable': 10878, 'boldo': 10879, 'remove': 10880, 'tartaric': 10881, 'surgar': 10882, 'overbake': 10883, 'premiums': 10884, 'soybeans': 10885, 'areas': 10886, 'smartnourish': 10887, 'js': 10888, 'mott': 10889, 'toaster': 10890, 'halfway': 10891, 'venisen': 10892, 'chocolot': 10893, 'hagen': 10894, 'catit': 10895, 'remembers': 10896, 'droppings': 10897, 'blackcurrant': 10898, 'dopey': 10899, 'studies': 10900, 'substandard': 10901, 'albondigas': 10902, 'meatball': 10903, 'autism': 10904, 'ripples': 10905, 'limon': 10906, 'bubba': 10907, 'reached': 10908, 'growup': 10909, 'twirler': 10910, 'manly': 10911, 'camomile': 10912, 'weens': 10913, 'alum': 10914, 'sppedy': 10915, 'gingerale': 10916, 'doneness': 10917, 'custardy': 10918, 'eay': 10919, 'cousacous': 10920, 'demanding': 10921, 'jobs': 10922, 'reproducing': 10923, 'reednikki': 10924, 'octane': 10925, 'gasoline': 10926, 'loveeeee': 10927, 'kim': 10928, 'chee': 10929, 'axe': 10930, 'fixins': 10931, 'slipped': 10932, 'senchas': 10933, 'trifecta': 10934, 'tenth': 10935, 'anita': 10936, 'omh': 10937, 'outings': 10938, 'artoo': 10939, 'statement': 10940, 'goumet': 10941, 'rec': 10942, 'averse': 10943, 'kitteh': 10944, 'bunniez': 10945, 'macadmia': 10946, 'pinata': 10947, 'evaluation': 10948, 'flamin': 10949, 'mrp': 10950, 'sanitation': 10951, 'goals': 10952, 'talent': 10953, 'grating': 10954, 'beeeejeeezuz': 10955, 'yeeeech': 10956, 'mel': 10957, 'stacker': 10958, 'solidly': 10959, 'blts': 10960, 'milkshake': 10961, 'mucus': 10962, 'drainage': 10963, 'yours': 10964, 'unpeeled': 10965, 'vastly': 10966, 'hollow': 10967, 'clouds': 10968, 'goodman': 10969, 'overcharged': 10970, 'periods': 10971, 'lacy': 10972, 'weightwatchers': 10973, 'messing': 10974, 'sunset': 10975, 'ecstasy': 10976, 'penut': 10977, 'suet': 10978, 'earlier': 10979, 'skim': 10980, 'interchangeable': 10981, 'prepares': 10982, 'bg': 10983, 'series': 10984, 'banaspaty': 10985, 'waay': 10986, 'traumatic': 10987, 'zoey': 10988, 'angelhair': 10989, 'coffeemaker': 10990, 'kir': 10991, 'ruining': 10992, 'besi': 10993, 'tartness': 10994, 'insipid': 10995, 'marybeth': 10996, 'cheesburger': 10997, 'yami': 10998, 'benefitted': 10999, 'vanish': 11000, 'housebreaking': 11001, 'biermann': 11002, 'omnomnomnom': 11003, 'fulfilled': 11004, 'filet': 11005, 'redeeming': 11006, 'annamaet': 11007, 'impact': 11008, 'eu': 11009, 'wissotsky': 11010, 'boooo': 11011, 'hempshake': 11012, 'lambs': 11013, 'uall': 11014, 'blackjack': 11015, 'attached': 11016, 'raided': 11017, 'rectified': 11018, 'fruitables': 11019, 'components': 11020, 'raya': 11021, 'heidi': 11022, 'truffes': 11023, 'ca': 11024, 'methods': 11025, 'christ': 11026, 'bast': 11027, 'karley': 11028, 'swanson': 11029, 'stroller': 11030, 'bonk': 11031, 'considers': 11032, 'intollerances': 11033, 'serves': 11034, 'sayan': 11035, 'slave': 11036, 'aliens': 11037, 'pricely': 11038, 'espressivo': 11039, 'jammy': 11040, 'vegi': 11041, 'basset': 11042, 'fashion': 11043, 'jalape': 11044, 'snacki': 11045, 'picutre': 11046, 'angle': 11047, 'puerh': 11048, 'carrageenan': 11049, 'lining': 11050, 'danbo': 11051, 'caraway': 11052, 'sorts': 11053, 'peta': 11054, 'aguas': 11055, 'frescas': 11056, 'nescaf': 11057, 'macchiato': 11058, 'breadcrumbs': 11059, 'criminal': 11060, 'hardened': 11061, 'lindsor': 11062, 'mercury': 11063, 'porduct': 11064, 'bigbert': 11065, 'picks': 11066, 'hoard': 11067, 'lobsters': 11068, 'hyped': 11069, 'dentabites': 11070, 'mia': 11071, 'ths': 11072, 'admire': 11073, 'organization': 11074, 'pictures': 11075, 'planing': 11076, 'sleepiness': 11077, 'wraps': 11078, 'lousey': 11079, 'licked': 11080, 'nothin': 11081, 'proud': 11082, 'mcdougal': 11083, 'comparative': 11084, 'advantage': 11085, 'tamers': 11086, 'berbere': 11087, 'cleanings': 11088, 'quintella': 11089, 'aiding': 11090, 'factors': 11091, 'stunningly': 11092, 'noble': 11093, 'hung': 11094, 'amongst': 11095, 'mistrial': 11096, 'milled': 11097, 'sympathy': 11098, 'adventurist': 11099, 'frdinker': 11100, 'turducken': 11101, 'snapped': 11102, 'bons': 11103, 'kits': 11104, 'singed': 11105, 'phoenix': 11106, 'problemmatic': 11107, 'chem': 11108, 'diggity': 11109, 'tooooooooooo': 11110, 'excessively': 11111, 'excelentes': 11112, 'attributes': 11113, 'moisturizing': 11114, 'softener': 11115, 'peasy': 11116, 'agra': 11117, 'teasy': 11118, 'congealed': 11119, 'corrective': 11120, 'tingle': 11121, 'parachute': 11122, 'cakea': 11123, 'magster': 11124, 'ginormous': 11125, 'sanfrancisco': 11126, 'sink': 11127, 'carbquick': 11128, 'ladies': 11129, 'billy': 11130, 'fortnightly': 11131, 'louisville': 11132, 'ribeye': 11133, 'yoli': 11134, 'pinkgrapefruit': 11135, 'reg': 11136, 'sediment': 11137, 'campy': 11138, 'honeystix': 11139, 'kickin': 11140, 'coffemate': 11141, 'annas': 11142, 'converting': 11143, 'haircare': 11144, 'skincare': 11145, 'nurturme': 11146, 'reduces': 11147, 'chlolesterol': 11148, 'germ': 11149, 'preservres': 11150, 'pastey': 11151, 'bargained': 11152, 'forty': 11153, 'discernable': 11154, 'monterrey': 11155, 'justins': 11156, 'manhattans': 11157, 'castup': 11158, 'proto': 11159, 'ostrim': 11160, 'mt': 11161, 'petals': 11162, 'alien': 11163, 'blob': 11164, 'macademia': 11165, 'strung': 11166, 'moscato': 11167, 'deeee': 11168, 'prostate': 11169, 'affordably': 11170, 'petsitter': 11171, 'lishious': 11172, 'eternal': 11173, 'cheat': 11174, 'manifique': 11175, 'insanity': 11176, 'grandchildren': 11177, 'blegh': 11178, 'rubbing': 11179, 'overal': 11180, 'weavers': 11181, 'carried': 11182, 'ikea': 11183, 'contamined': 11184, 'perfumy': 11185, 'passage': 11186, 'shareable': 11187, 'fearing': 11188, 'justifies': 11189, 'vanill': 11190, 'girlfriends': 11191, 'pouf': 11192, 'quck': 11193, 'looovee': 11194, 'coon': 11195, 'stevita': 11196, 'tagline': 11197, 'implications': 11198, 'georgia': 11199, 'diego': 11200, 'coasters': 11201, 'lettuce': 11202, 'swapinc': 11203, 'cavendar': 11204, 'nurserosado': 11205, 'santana': 11206, 'dignified': 11207, 'relive': 11208, 'worm': 11209, 'ludicrous': 11210, 'enthusiast': 11211, 'notinstant': 11212, 'wrecked': 11213, 'squism': 11214, 'grayish': 11215, 'conventions': 11216, 'leo': 11217, 'romo': 11218, 'taj': 11219, 'mahal': 11220, 'textures': 11221, 'committed': 11222, 'chewable': 11223, 'arthritic': 11224, 'wifes': 11225, 'divina': 11226, 'mutts': 11227, 'buiscuits': 11228, 'exorbitant': 11229, 'negatively': 11230, 'goaty': 11231, 'subside': 11232, 'dime': 11233, 'misshapen': 11234, 'frankenstein': 11235, 'whilesome': 11236, 'peptobismol': 11237, 'spoken': 11238, 'aide': 11239, 'nonplused': 11240, 'pricier': 11241, 'unwholesome': 11242, 'hunt': 11243, 'counters': 11244, 'compressed': 11245, 'nola': 11246, 'reflect': 11247, 'swelling': 11248, 'ohmygodisitgoood': 11249, 'consistancy': 11250, 'wusses': 11251, 'enegry': 11252, 'mano': 11253, 'bottlecaps': 11254, 'pointless': 11255, 'cuisinart': 11256, 'scheweppes': 11257, 'zatarain': 11258, 'ownder': 11259, 'mugicha': 11260, 'aromatherapy': 11261, 'abi': 11262, 'interactive': 11263, 'marinated': 11264, 'morsals': 11265, 'excellente': 11266, 'ddjj': 11267, 'heidecker': 11268, 'verified': 11269, 'perchase': 11270, 'cajohn': 11271, 'trinidad': 11272, 'dances': 11273, 'bolds': 11274, 'symphony': 11275, 'ahhhhh': 11276, 'tossing': 11277, 'hm': 11278, 'exaggerating': 11279, 'pac': 11280, 'drawing': 11281, 'strewn': 11282, 'coney': 11283, 'dunkaroos': 11284, 'duriable': 11285, 'empties': 11286, 'ramien': 11287, 'hoot': 11288, 'chowdah': 11289, 'hog': 11290, 'barista': 11291, 'splintered': 11292, 'bullets': 11293, 'eclipse': 11294, 'refreshes': 11295, 'instantly': 11296, 'ultramix': 11297, 'amedei': 11298, 'einkorn': 11299, 'thighs': 11300, 'walker': 11301, 'shortbreads': 11302, 'urban': 11303, 'shocking': 11304, 'convieniance': 11305, 'peeling': 11306, 'artesanal': 11307, 'maltodextrin': 11308, 'poopcorn': 11309, 'aces': 11310, 'envelope': 11311, 'sulfites': 11312, 'delicioous': 11313, 'cresteds': 11314, 'awsomely': 11315, 'omygosh': 11316, 'parker': 11317, 'whoever': 11318, 'experiment': 11319, 'ahhhmazing': 11320, 'aphids': 11321, 'systemic': 11322, 'insecticide': 11323, 'wore': 11324, 'papillions': 11325, 'enthusiastic': 11326, 'beau': 11327, 'monde': 11328, 'sharry': 11329, 'rebranded': 11330, 'classsic': 11331, 'jel': 11332, 'ahhliv': 11333, 'macht': 11334, 'kinder': 11335, 'froh': 11336, 'cyclists': 11337, 'preps': 11338, 'weetabix': 11339, 'rack': 11340, 'cerial': 11341, 'tracked': 11342, 'solve': 11343, 'ziyad': 11344, 'falafil': 11345, 'prayers': 11346, 'answered': 11347, 'wii': 11348, 'category': 11349, 'refrigerated': 11350, 'ranchy': 11351, 'receved': 11352, 'switchin': 11353, 'matches': 11354, 'discription': 11355, 'bleach': 11356, 'serviceable': 11357, 'tweaks': 11358, 'greta': 11359, 'downgrade': 11360, 'deters': 11361, 'overeating': 11362, 'woudn': 11363, 'minded': 11364, 'complimented': 11365, 'kay': 11366, 'gremlin': 11367, 'wha': 11368, 'fiend': 11369, 'dietrich': 11370, 'nicest': 11371, 'sniffs': 11372, 'fentiman': 11373, 'shandy': 11374, 'grillers': 11375, 'naw': 11376, 'hella': 11377, 'recalls': 11378, 'shizuoka': 11379, 'located': 11380, 'margherita': 11381, 'deeeeee': 11382, 'healthily': 11383, 'decafs': 11384, 'recording': 11385, 'latency': 11386, 'madness': 11387, 'amazone': 11388, 'kingdom': 11389, 'jams': 11390, 'poisons': 11391, 'yuuuh': 11392, 'uumm': 11393, 'rehydrate': 11394, 'awesame': 11395, 'seagull': 11396, 'noddles': 11397, 'wafery': 11398, 'scrumpalicious': 11399, 'striplings': 11400, 'singleservecoffee': 11401, 'tasterful': 11402, 'natucket': 11403, 'squeeker': 11404, 'pronounceable': 11405, 'alkaline': 11406, 'coupons': 11407, 'brave': 11408, 'merely': 11409, 'stripe': 11410, 'potting': 11411, 'craptastic': 11412, 'seeing': 11413, 'thirsty': 11414, 'quaff': 11415, 'glaceau': 11416, 'frites': 11417, 'sharkies': 11418, 'bru': 11419, 'ahead': 11420, 'deliever': 11421, 'ability': 11422, 'wagner': 11423, 'carbonara': 11424, 'teacher': 11425, 'adzuki': 11426, 'onecup': 11427, 'lungs': 11428, 'bakes': 11429, 'positively': 11430, 'bloomed': 11431, 'grapefruits': 11432, 'brandie': 11433, 'larissa': 11434, 'exaggerated': 11435, 'rusty': 11436, 'dripping': 11437, 'pone': 11438, 'dissapionted': 11439, 'cirmi': 11440, 'lowry': 11441, 'streusel': 11442, 'impressions': 11443, 'nw': 11444, 'dancing': 11445, 'longest': 11446, 'oversweet': 11447, 'boyer': 11448, 'resolution': 11449, 'cholestrol': 11450, 'reheat': 11451, 'nutrional': 11452, 'sascat': 11453, 'genuin': 11454, 'juciest': 11455, 'tmj': 11456, 'maya': 11457, 'gusta': 11458, 'guayusa': 11459, 'prince': 11460, 'brisling': 11461, 'grateful': 11462, 'nursery': 11463, 'artemis': 11464, 'nozzles': 11465, 'boss': 11466, 'gus': 11467, 'ki': 11468, 'yumiiii': 11469, 'glob': 11470, 'chcolate': 11471, 'hobby': 11472, 'jmac': 11473, 'repelled': 11474, 'stabilized': 11475, 'dispense': 11476, 'keto': 11477, 'florist': 11478, 'channels': 11479, 'boulder': 11480, 'guard': 11481, 'kurig': 11482, 'weathertight': 11483, 'roma': 11484, 'ristretto': 11485, 'maraschino': 11486, 'moved': 11487, 'bronx': 11488, 'seattles': 11489, 'saccharination': 11490, 'detangle': 11491, 'conoisseur': 11492, 'das': 11493, 'paramount': 11494, 'saladitos': 11495, 'wudda': 11496, 'sorrel': 11497, 'fittest': 11498, 'fortnum': 11499, 'mason': 11500, 'channeled': 11501, 'bigfoot': 11502, 'awwwwwwwwwwwwwwwwwwwwwwwwl': 11503, 'loaf': 11504, 'puleeeze': 11505, 'workday': 11506, 'wing': 11507, 'fiji': 11508, 'announcement': 11509, 'vets': 11510, 'hooey': 11511, 'victum': 11512, 'nutrisoda': 11513, 'happycamper': 11514, 'swisshot': 11515, 'gaining': 11516, 'firey': 11517, 'purrrfect': 11518, 'tuo': 11519, 'escabeche': 11520, 'pangs': 11521, 'fronts': 11522, 'friggin': 11523, 'nutrtional': 11524, 'confusion': 11525, 'manufacturing': 11526, 'processes': 11527, 'starved': 11528, 'rowntree': 11529, 'guacamole': 11530, 'tums': 11531, 'jummy': 11532, 'tullyrific': 11533, 'roaches': 11534, 'gma': 11535, 'woodhouse': 11536, 'nation': 11537, 'coolest': 11538, 'lifewater': 11539, 'scored': 11540, 'distribution': 11541, 'models': 11542, 'tonighy': 11543, 'ft': 11544, 'boiled': 11545, 'dduuuuuudddddeee': 11546, 'revitalizing': 11547, 'placed': 11548, 'kiki': 11549, 'grandbabies': 11550, 'merlot': 11551, 'canday': 11552, 'unsanitary': 11553, 'fanastic': 11554, 'bday': 11555, 'grands': 11556, 'weirdest': 11557, 'mobility': 11558, 'omygodomygodomygod': 11559, 'tuff': 11560, 'eray': 11561, 'outsmarting': 11562, 'prostrate': 11563, 'synthetic': 11564, 'potential': 11565, 'wat': 11566, 'poping': 11567, 'thinnest': 11568, 'begrudgingly': 11569, 'wp': 11570, 'wontons': 11571, 'capp': 11572, 'jeans': 11573, 'sacha': 11574, 'allow': 11575, 'hry': 11576, 'sludge': 11577, 'sunscreen': 11578, 'defines': 11579, 'britishness': 11580, 'rays': 11581, 'crate': 11582, 'norman': 11583, 'zuckerman': 11584, 'boise': 11585, 'missteak': 11586, 'tzus': 11587, 'rpice': 11588, 'flackers': 11589, 'knockoff': 11590, 'diameter': 11591, 'grossmutter': 11592, 'plush': 11593, 'decorative': 11594, 'congestion': 11595, 'marker': 11596, 'hangover': 11597, 'drago': 11598, 'vizsla': 11599, 'backflips': 11600, 'clas': 11601, 'bobby': 11602, 'philippine': 11603, 'beachcomber': 11604, 'budds': 11605, 'savoring': 11606, 'risebar': 11607, 'toppers': 11608, 'ferrets': 11609, 'ricore': 11610, 'boite': 11611, 'hediard': 11612, 'cupped': 11613, 'squeemish': 11614, 'tdawnyg': 11615, 'kokumaro': 11616, 'insurance': 11617, 'undiscovered': 11618, 'gem': 11619, 'consistant': 11620, 'guatemala': 11621, 'antigua': 11622, 'lacquat': 11623, 'dan': 11624, 'nos': 11625, 'paso': 11626, 'darjeeking': 11627, 'finn': 11628, 'amul': 11629, 'hob': 11630, 'nobs': 11631, 'fastachi': 11632, 'porcini': 11633, 'hirt': 11634, 'nurseries': 11635, 'swear': 11636, 'flavoured': 11637, 'saltie': 11638, 'fueling': 11639, 'nordic': 11640, 'ware': 11641, 'beehive': 11642, 'jlh': 11643, 'retreat': 11644, 'doogswell': 11645, 'cinnaman': 11646, 'koala': 11647, 'badass': 11648, 'bruiser': 11649, 'dots': 11650, 'binge': 11651, 'poppie': 11652, 'yummeeeeee': 11653, 'relatives': 11654, 'bos': 11655, 'stared': 11656, 'vietnam': 11657, 'octopi': 11658, 'nshape': 11659, 'dumbbells': 11660, 'fowl': 11661, 'justanothergeek': 11662, 'ripping': 11663, 'satisied': 11664, 'americas': 11665, 'gaiters': 11666, 'indicated': 11667, 'systems': 11668, 'screwed': 11669, 'dreamafields': 11670, 'granma': 11671, 'websites': 11672, 'overkill': 11673, 'evarrrrrr': 11674, 'shtuff': 11675, 'iz': 11676, 'amazzzzing': 11677, 'supervision': 11678, 'toner': 11679, 'aprroved': 11680, 'hullless': 11681, 'mortars': 11682, 'crescendo': 11683, 'anchovian': 11684, 'unimpressive': 11685, 'jagged': 11686, 'movin': 11687, 'feet': 11688, 'cozy': 11689, 'stingy': 11690, 'ectasy': 11691, 'obligate': 11692, 'carnivores': 11693, 'orangic': 11694, 'slurpy': 11695, 'twig': 11696, 'loped': 11697, 'garlicky': 11698, 'quarter': 11699, 'newsflash': 11700, 'eucalyptus': 11701, 'awkward': 11702, 'sandman': 11703, 'virgnia': 11704, 'overrides': 11705, 'inquisitive': 11706, 'landfill': 11707, 'cocanut': 11708, 'adout': 11709, 'caponata': 11710, 'assume': 11711, 'wessex': 11712, 'petroleum': 11713, 'rexie': 11714, 'terric': 11715, 'explore': 11716, 'zoology': 11717, 'samplers': 11718, 'sustainer': 11719, 'qick': 11720, 'tealicious': 11721, 'maggiensa': 11722, 'jeff': 11723, 'foxworthy': 11724, 'redneck': 11725, 'reversed': 11726, 'cruelty': 11727, 'piquillos': 11728, 'bartenders': 11729, 'chefs': 11730, 'morph': 11731, 'tigger': 11732, 'percentage': 11733, 'confuse': 11734, 'gooseberries': 11735, 'doenst': 11736, 'noooooooooooooo': 11737, 'sharelyn': 11738, 'soothling': 11739, 'ziwipeak': 11740, 'peaks': 11741, 'virbec': 11742, 'heb': 11743, 'jv': 11744, 'retrivers': 11745, 'baaaad': 11746, 'budding': 11747, 'gntas': 11748, 'untruthful': 11749, 'cuious': 11750, 'cliff': 11751, 'wolfed': 11752, 'fpl': 11753, 'stablizer': 11754, 'fatal': 11755, 'unnaturally': 11756, 'faithful': 11757, 'quenching': 11758, 'hive': 11759, 'cookouts': 11760, 'preventor': 11761, 'carrier': 11762, 'jaws': 11763, 'tulleys': 11764, 'persians': 11765, 'himalayans': 11766, 'flawless': 11767, 'discerning': 11768, 'chill': 11769, 'shatila': 11770, 'baklawa': 11771, 'christina': 11772, 'marvellous': 11773, 'marginal': 11774, 'stackable': 11775, 'volumize': 11776, 'bllue': 11777, 'hisbiscus': 11778, 'canadien': 11779, 'mistaken': 11780, 'pneumonia': 11781, 'qucik': 11782, 'produces': 11783, 'torture': 11784, 'chrleston': 11785, 'tealovers': 11786, 'cannied': 11787, 'premix': 11788, 'cecco': 11789, 'illion': 11790, 'swirls': 11791, 'begin': 11792, 'fuirt': 11793, 'newbies': 11794, 'vox': 11795, 'quieted': 11796, 'comments': 11797, 'december': 11798, 'hungarian': 11799, 'sprayed': 11800, 'grease': 11801, 'transfats': 11802, 'experimenting': 11803, 'valerie': 11804, 'pa': 11805, 'suoreme': 11806, 'aaaarrrrrgggghhhhh': 11807, 'appended': 11808, 'japones': 11809, 'hawaian': 11810, 'didnot': 11811, 'wegmans': 11812, 'jerkie': 11813, 'debbie': 11814, 'unflavorful': 11815, 'starlight': 11816, 'loooooooove': 11817, 'digestible': 11818, 'madmax': 11819, 'chocolatety': 11820, 'yuuummy': 11821, 'overheated': 11822, 'boon': 11823, 'cloudy': 11824, 'spent': 11825, 'moctail': 11826, 'mojito': 11827, 'rajah': 11828, 'unwrap': 11829, 'succulent': 11830, 'smoooooooooth': 11831, 'qualiy': 11832, 'fed': 11833, 'robot': 11834, 'football': 11835, 'illys': 11836, 'chessy': 11837, 'condensor': 11838, 'infuser': 11839, 'herman': 11840, 'glyco': 11841, 'flexiii': 11842, 'horehound': 11843, 'export': 11844, 'tax': 11845, 'natra': 11846, 'urinary': 11847, 'browning': 11848, 'nips': 11849, 'liv': 11850, 'slurpishly': 11851, 'marianne': 11852, 'bergamont': 11853, 'mere': 11854, 'clearance': 11855, 'colters': 11856, 'unanimous': 11857, 'greats': 11858, 'scotch': 11859, 'delclious': 11860, 'tgif': 11861, 'seedling': 11862, 'wolfs': 11863, 'sadaf': 11864, 'glutne': 11865, 'mustards': 11866, 'cocoas': 11867, 'patient': 11868, 'pitiful': 11869, 'beetroot': 11870, 'hypertension': 11871, 'maggi': 11872, 'hazelnunts': 11873, 'queasy': 11874, 'glitery': 11875, 'palmeritas': 11876, 'competitor': 11877, 'bfast': 11878, 'multiportion': 11879, 'cycling': 11880, 'swallow': 11881, 'miracles': 11882, 'exist': 11883, 'foor': 11884, 'alo': 11885, 'rollercaoster': 11886, 'exfoliator': 11887, 'undone': 11888, 'tag': 11889, 'putting': 11890, 'scovilles': 11891, 'franciso': 11892, 'unsorted': 11893, 'eternally': 11894, 'notches': 11895, 'abot': 11896, 'chiken': 11897, 'cavaties': 11898, 'garbonzo': 11899, 'parm': 11900, 'hotness': 11901, 'woooooooooooooooooooonderful': 11902, 'maintaining': 11903, 'suggestions': 11904, 'lacked': 11905, 'dreamfield': 11906, 'hillarious': 11907, 'wilco': 11908, 'squirt': 11909, 'tolerate': 11910, 'wiser': 11911, 'dinobone': 11912, 'behaive': 11913, 'classed': 11914, 'leads': 11915, 'molassas': 11916, 'counselor': 11917, 'justifiably': 11918, 'communications': 11919, 'pissedoff': 11920, 'wahoo': 11921, 'deicious': 11922, 'justice': 11923, 'shattering': 11924, 'nunaturals': 11925, 'nustevia': 11926, 'emulsifier': 11927, 'fibre': 11928, 'hetrbal': 11929, 'techno': 11930, 'blanched': 11931, 'hunters': 11932, 'chesie': 11933, 'glutinous': 11934, 'safey': 11935, 'sensory': 11936, 'wag': 11937, 'scream': 11938, 'bulls': 11939, 'joyous': 11940, 'kashmiri': 11941, 'seasickness': 11942, 'profile': 11943, 'nastalga': 11944, 'yesteryear': 11945, 'absolutly': 11946, 'addidcted': 11947, 'absolutley': 11948, 'dura': 11949, 'durability': 11950, 'dilution': 11951, 'pauper': 11952, 'evaporated': 11953, 'powered': 11954, 'mardona': 11955, 'lee': 11956, 'swigging': 11957, 'nicaraguan': 11958, 'baggie': 11959, 'unfortunate': 11960, 'recive': 11961, 'aritfical': 11962, 'addictingly': 11963, 'macarons': 11964, 'spookily': 11965, 'ballasts': 11966, 'upside': 11967, 'revisited': 11968, 'garrett': 11969, 'award': 11970, 'preground': 11971, 'capture': 11972, 'loooooove': 11973, 'cubano': 11974, 'cortadito': 11975, 'moose': 11976, 'alkali': 11977, 'shampo': 11978, 'reman': 11979, 'downhill': 11980, 'classique': 11981, 'peoper': 11982, 'poochon': 11983, 'ziwipeaks': 11984, 'request': 11985, 'buzzzzzzzzzz': 11986, 'charly': 11987, 'occassions': 11988, 'tagged': 11989, 'brit': 11990, 'abroad': 11991, 'martins': 11992, 'forteto': 11993, 'habits': 11994, 'captain': 11995, 'elders': 11996, 'gratitude': 11997, 'sometime': 11998, 'nb': 11999, 'pureed': 12000, 'vines': 12001, 'castellana': 12002, 'crostini': 12003, 'jen': 12004, 'excepcional': 12005, 'colan': 12006, 'climber': 12007, 'specific': 12008, 'reva': 12009, 'suger': 12010, 'anne': 12011, 'masked': 12012, 'anal': 12013, 'gland': 12014, 'mavijeans': 12015, 'seasonal': 12016, 'greeeaattt': 12017, 'powdder': 12018, 'joseph': 12019, 'trunk': 12020, 'minestrone': 12021, 'freezed': 12022, 'abit': 12023, 'maids': 12024, 'chomping': 12025, 'unacceptably': 12026, 'dine': 12027, 'feliciaflan': 12028, 'dogwell': 12029, 'uncooked': 12030, 'meiu': 12031, 'origonal': 12032, 'cautions': 12033, 'keen': 12034, 'refunded': 12035, 'patak': 12036, 'anticiapting': 12037, 'fr': 12038, 'popcornopolis': 12039, 'costing': 12040, 'chairs': 12041, 'flag': 12042, 'burritos': 12043, 'spicier': 12044, 'balled': 12045, 'salso': 12046, 'gallo': 12047, 'iveta': 12048, 'scone': 12049, 'poochie': 12050, 'pic': 12051, 'supernoodles': 12052, 'deodorant': 12053, 'task': 12054, 'dynamic': 12055, 'likey': 12056, 'southeastern': 12057, 'haz': 12058, 'unlocks': 12059, 'cathouse': 12060, 'prairie': 12061, 'trainng': 12062, 'performs': 12063, 'sensational': 12064, 'tone': 12065, 'lentis': 12066, 'piggy': 12067, 'hotdish': 12068, 'offensive': 12069, 'rotating': 12070, 'pakistan': 12071, 'golfers': 12072, 'polynesian': 12073, 'rosie': 12074, 'nontheless': 12075, 'topchips': 12076, 'chokable': 12077, 'checked': 12078, 'ballistic': 12079, 'inorganic': 12080, 'ohhhh': 12081, 'rasberries': 12082, 'llave': 12083, 'souxsie': 12084, 'rib': 12085, 'barbecued': 12086, 'hilarious': 12087, 'initial': 12088, 'multiples': 12089, 'rabbits': 12090, 'herbals': 12091, 'settle': 12092, 'delay': 12093, 'darkly': 12094, 'roated': 12095, 'luster': 12096, 'untitled': 12097, 'joyful': 12098, 'activities': 12099, 'cuba': 12100, 'omigosh': 12101, 'hippy': 12102, 'eucharist': 12103, 'stupidly': 12104, 'supercrema': 12105, 'bubblewrap': 12106, 'onto': 12107, 'artdog': 12108, 'joining': 12109, 'disenchanted': 12110, 'redbard': 12111, 'sassafrass': 12112, 'platter': 12113, 'riuned': 12114, 'terrifc': 12115, 'nai': 12116, 'drunken': 12117, 'achool': 12118, 'momo': 12119, 'saltly': 12120, 'seedlander': 12121, 'plentiful': 12122, 'ski': 12123, 'senchen': 12124, 'recession': 12125, 'cottage': 12126, 'treatment': 12127, 'emptied': 12128, 'wireless': 12129, 'prce': 12130, 'mallowmars': 12131, 'receipe': 12132, 'edges': 12133, 'leafy': 12134, 'route': 12135, 'globs': 12136, 'vitalife': 12137, 'profits': 12138, 'whey': 12139, 'disintegrates': 12140, 'chooses': 12141, 'compensation': 12142, 'uhmmy': 12143, 'madagascar': 12144, 'bourbon': 12145, 'nutrish': 12146, 'garrotxa': 12147, 'bali': 12148, 'peanuty': 12149, 'claudia': 12150, 'kishi': 12151, 'oughtta': 12152, 'decreased': 12153, 'philly': 12154, 'wazoo': 12155, 'pc': 12156, 'fred': 12157, 'romey': 12158, 'excite': 12159, 'yoursefl': 12160, 'lactaid': 12161, 'pomegranet': 12162, 'spresso': 12163, 'pukes': 12164, 'plugs': 12165, 'anastasia': 12166, 'unlisted': 12167, 'newlife': 12168, 'kebob': 12169, 'tryer': 12170, 'awesomeness': 12171, 'unbearable': 12172, 'greatness': 12173, 'meatless': 12174, 'oooooooooo': 12175, 'deed': 12176, 'krackers': 12177, 'cocacola': 12178, 'annual': 12179, 'houseboat': 12180, 'insulin': 12181, 'wheelbarrow': 12182, 'smoooth': 12183, 'applicator': 12184, 'hunge': 12185, 'maryland': 12186, 'rehydrating': 12187, 'fovorite': 12188, 'pupperz': 12189, 'dug': 12190, 'evergreen': 12191, 'knocked': 12192, 'kaj': 12193, 'li': 12194, 'accidently': 12195, 'punish': 12196, 'ongoing': 12197, 'ade': 12198, 'lets': 12199, 'apocalypse': 12200, 'conniseur': 12201, 'pgpr': 12202, 'tradtiional': 12203, 'dispensing': 12204, 'haribos': 12205, 'juniors': 12206, 'tinkiyada': 12207, 'ting': 12208, 'snak': 12209, 'denver': 12210, 'broc': 12211, 'assistance': 12212, 'pickme': 12213, 'looooves': 12214, 'frequent': 12215, 'carmine': 12216, 'dogmom': 12217, 'bouilon': 12218, 'freely': 12219, 'il': 12220, 'holics': 12221, 'minrt': 12222, 'somwhat': 12223, 'rebar': 12224, 'rotton': 12225, 'boullion': 12226, 'swans': 12227, 'taxgal': 12228, 'hangovers': 12229, 'unsuccessul': 12230, 'hotair': 12231, 'stingwer': 12232, 'dunk': 12233, 'ohs': 12234, 'egad': 12235, 'liquified': 12236, 'potpourri': 12237, 'sups': 12238, 'raffle': 12239, 'dela': 12240, 'rejected': 12241, 'sourced': 12242, 'spews': 12243, 'raaw': 12244, 'adherent': 12245, 'pesticide': 12246, 'unroasted': 12247, 'mideast': 12248}\n"
          ],
          "name": "stdout"
        }
      ]
    },
    {
      "cell_type": "markdown",
      "metadata": {
        "id": "t5PSEWFoPaQ9",
        "colab_type": "text"
      },
      "source": [
        "# Encoder-Decoder"
      ]
    },
    {
      "cell_type": "code",
      "metadata": {
        "id": "8304c1GBHZs6",
        "colab_type": "code",
        "colab": {
          "base_uri": "https://localhost:8080/",
          "height": 107
        },
        "outputId": "bfabe72a-b35e-4256-fee1-7a4963b0d7ca"
      },
      "source": [
        "encoder_model = Model(inputs=encoder_inputs,outputs=[encoder_outputs, state_h, state_c])\n",
        "\n",
        "#previous layer timestamps\n",
        "decoder_state_input_h = Input(shape=(latent_dim,))\n",
        "decoder_state_input_c = Input(shape=(latent_dim,))\n",
        "decoder_hidden_state_input = Input(shape=(max_text_len,latent_dim))\n",
        "\n",
        "#embeddings of the decoder sequence\n",
        "dec_emb2= dec_emb_layer(decoder_inputs) \n",
        "\n",
        "#set the initial states to the states from the previous time step for next prediction\n",
        "decoder_outputs2, state_h2, state_c2 = decoder_lstm(dec_emb2, initial_state=[decoder_state_input_h, decoder_state_input_c])\n",
        "\n",
        "#attention inference\n",
        "attn_out_inf, attn_states_inf = attn_layer([decoder_hidden_state_input, decoder_outputs2])\n",
        "decoder_inf_concat = Concatenate(axis=-1, name='concat')([decoder_outputs2, attn_out_inf])\n",
        "\n",
        "# A dense softmax layer to generate prob dist. over the target vocabulary\n",
        "decoder_outputs2 = decoder_dense(decoder_inf_concat) \n",
        "\n",
        "# Final decoder model\n",
        "decoder_model = Model(\n",
        "    [decoder_inputs] + [decoder_hidden_state_input,decoder_state_input_h, decoder_state_input_c],\n",
        "    [decoder_outputs2] + [state_h2, state_c2])"
      ],
      "execution_count": null,
      "outputs": [
        {
          "output_type": "stream",
          "text": [
            "W0709 07:09:10.412014 140434294847360 ag_logging.py:145] Entity <function rnn at 0x7fb91e47ff28> could not be transformed and will be executed as-is. Please report this to the AutgoGraph team. When filing the bug, set the verbosity to 10 (on Linux, `export AUTOGRAPH_VERBOSITY=10`) and attach the full output. Cause: The global keyword is not yet supported.\n",
            "W0709 07:09:10.562349 140434294847360 ag_logging.py:145] Entity <function rnn at 0x7fb91e47ff28> could not be transformed and will be executed as-is. Please report this to the AutgoGraph team. When filing the bug, set the verbosity to 10 (on Linux, `export AUTOGRAPH_VERBOSITY=10`) and attach the full output. Cause: The global keyword is not yet supported.\n"
          ],
          "name": "stderr"
        },
        {
          "output_type": "stream",
          "text": [
            "WARNING: Entity <function rnn at 0x7fb91e47ff28> could not be transformed and will be executed as-is. Please report this to the AutgoGraph team. When filing the bug, set the verbosity to 10 (on Linux, `export AUTOGRAPH_VERBOSITY=10`) and attach the full output. Cause: The global keyword is not yet supported.\n",
            "WARNING: Entity <function rnn at 0x7fb91e47ff28> could not be transformed and will be executed as-is. Please report this to the AutgoGraph team. When filing the bug, set the verbosity to 10 (on Linux, `export AUTOGRAPH_VERBOSITY=10`) and attach the full output. Cause: The global keyword is not yet supported.\n"
          ],
          "name": "stdout"
        }
      ]
    },
    {
      "cell_type": "code",
      "metadata": {
        "id": "STtihhtrHZtN",
        "colab_type": "code",
        "colab": {}
      },
      "source": [
        "\n",
        "def decode_sequence(input_seq):\n",
        "    #state vectors.\n",
        "    e_out, e_h, e_c = encoder_model.predict(input_seq)\n",
        "    \n",
        "    target_seq = np.zeros((1,1))\n",
        "    \n",
        "    #the first word of target sequence is start word.\n",
        "    target_seq[0, 0] = target_word_index['sos']\n",
        "\n",
        "    stop_condition = False\n",
        "    decoded_sentence = ''\n",
        "    while not stop_condition:\n",
        "      \n",
        "        output_tokens, h, c = decoder_model.predict([target_seq] + [e_out, e_h, e_c])\n",
        "\n",
        "        #sample a token to check\n",
        "        sampled_token_index = np.argmax(output_tokens[0, -1, :])\n",
        "        sampled_token = reverse_target_word_index[sampled_token_index]\n",
        "        \n",
        "        if(sampled_token!='fini'):\n",
        "            decoded_sentence += ' '+sampled_token\n",
        "\n",
        "        #exit condition: either hit max length or find stop word.\n",
        "        if (sampled_token == 'fini'  or len(decoded_sentence.split()) >= (max_summary_len-1)):\n",
        "            stop_condition = True\n",
        "\n",
        "        #update the target sequence (of length 1).\n",
        "        target_seq = np.zeros((1,1))\n",
        "        target_seq[0, 0] = sampled_token_index\n",
        "\n",
        "        #update internal states\n",
        "        e_h, e_c = h, c\n",
        "\n",
        "    return decoded_sentence"
      ],
      "execution_count": null,
      "outputs": []
    },
    {
      "cell_type": "code",
      "metadata": {
        "id": "r2cwHujlHZtX",
        "colab_type": "code",
        "colab": {}
      },
      "source": [
        "def seq2summary(input_seq):\n",
        "    newString=''\n",
        "    for i in input_seq:\n",
        "        if((i!=0 and i!=target_word_index['sos']) and i!=target_word_index['fini']):\n",
        "            newString=newString+reverse_target_word_index[i]+' '\n",
        "    return newString\n",
        "\n",
        "def seq2text(input_seq):\n",
        "    newString=''\n",
        "    for i in input_seq:\n",
        "        if(i!=0):\n",
        "            newString=newString+reverse_source_word_index[i]+' '\n",
        "    return newString"
      ],
      "execution_count": null,
      "outputs": []
    },
    {
      "cell_type": "code",
      "metadata": {
        "id": "yue0Q0LlHZtb",
        "colab_type": "code",
        "colab": {
          "base_uri": "https://localhost:8080/",
          "height": 1000
        },
        "outputId": "3ffe89e8-c0c9-4cdc-967b-1bbece247e5f"
      },
      "source": [
        "for i in range(90):\n",
        "  print(\"Review:\",seq2text(x_val[i]))\n",
        "  print(\"Predicted summary:\",decode_sequence(x_val[i].reshape(1,max_text_len)))\n",
        "  print(\"\\n\")"
      ],
      "execution_count": null,
      "outputs": [
        {
          "output_type": "stream",
          "text": [
            "Review: wanted something could make ice tea work easily skeptical bags sat cabinet like month took tried today easy make refreshing good stuff definitely buy \n",
            "Predicted summary:  great tea\n",
            "\n",
            "\n",
            "Review: one dog allergies food year great improvement amazing red skin itching energy much better think going grain free dog food lean meat extremely beneficial best ingredients inside apparently taste great food improved quality dog life \n",
            "Predicted summary:  great food\n",
            "\n",
            "\n",
            "Review: terrific product easy pop microwave since live run great breakfast maple brown sugar flavor really tasty son likes apples cinnamon prefer one best need cold day course hearty eaters use two packets time even disaster worried calories father law eats oatmeal lower cholesterol tastes good would never know healthy \n",
            "Predicted summary:  great for baking\n",
            "\n",
            "\n",
            "Review: cookies great even greater since gluten dairy eggs light crispy oh good phenomenal price love small snack pack size thanks amazon thanks dr lucy \n",
            "Predicted summary:  great cookies\n",
            "\n",
            "\n",
            "Review: month old goldendoodle eats everything spit walked away disappointed wish loved price right \n",
            "Predicted summary:  baby loves it\n",
            "\n",
            "\n",
            "Review: dog expressed nothing phenomenal treats almost human appreciation everytime share bag small though firm crunchy regulate intake nicely pounds bag promises hold time intend order \n",
            "Predicted summary:  great product\n",
            "\n",
            "\n",
            "Review: try eliminate white sugar high fructose corn syrup artificial sweeteners diet organic maple syrup wonderful natural sweetener tried brands grades highland sugarworks far favorite always go back one perfect pancakes waffles oatmeal add smoothie drizzle ice cream amazon autoship price reasonable delicious \n",
            "Predicted summary:  best tasting\n",
            "\n",
            "\n",
            "Review: eating right much enjoyment item everybody like grape nuts almonds chocolate coffee little sweetness dried fruit healthy filling snack definitely worth trying \n",
            "Predicted summary:  delicious\n",
            "\n",
            "\n",
            "Review: wheatgrass needed product cat came perfect even tried juicing felt great making another order cat shipment came fast instructions growing easy breezy totally reccomend product \n",
            "Predicted summary:  great cat food\n",
            "\n",
            "\n",
            "Review: love cereal packages bought cases issue expired date contact amazon team got issue resolve less hours great job amazon \n",
            "Predicted summary:  great product\n",
            "\n",
            "\n",
            "Review: crackers good delighted find dismay crackers packaging order multiple boxes amazon every weeks open good half cracker crumbs longer crackers makes pretty expensive cracker company smart enough come good gluten free cracker surely way packaging arrives one piece know fragile good excuse please give attention ben \n",
            "Predicted summary:  great crackers\n",
            "\n",
            "\n",
            "Review: like food bits etc unless chopped pate perfect consistancy tho still add little hot water make bit soupy know bad teeth wants food temperature dead critter however eat pates thats miracle \n",
            "Predicted summary:  great product\n",
            "\n",
            "\n",
            "Review: best treat eat plain sweet treat fresh fruit assortment particular brand rich texture consistent \n",
            "Predicted summary:  great snack\n",
            "\n",
            "\n",
            "Review: current favorite tea add stevia sweeten bring flavor signed auto shipment much love tea healthiness green tea slight taste mango would love \n",
            "Predicted summary:  great tea\n",
            "\n",
            "\n",
            "Review: far best hot cocoa found yet keurig love assortment peppermint favorite would give try sure looking hot cocoa cups selections hot cocoa tried okay tasting amazing love order sure \n",
            "Predicted summary:  great hot chocolate\n",
            "\n",
            "\n",
            "Review: back made first cup indeed watery thought would nice much chocolate left cup brewing decided shake cup inserting keurig remove insert giving another hole brew help prefer taste swiss miss nestle sure also add vanilla irish creme powdered coffeemate creamer thickens bit add bailey amaretto show like dark chocolate version well \n",
            "Predicted summary:  great tasting\n",
            "\n",
            "\n",
            "Review: still received product purchased month ago sent email company never got response back ever going ship \n",
            "Predicted summary:  great product\n",
            "\n",
            "\n",
            "Review: initially product priced fairly quality product dented cans noted however noted price month regardless current economy fair price quickly became ridiculous purchase product \n",
            "Predicted summary:  great product\n",
            "\n",
            "\n",
            "Review: yogurt pretzels taste great even shipping intact kids really like snack great go \n",
            "Predicted summary:  great snack\n",
            "\n",
            "\n",
            "Review: skeptical buying plants online took chance looked like wanted bargain price baby arrived three days plant consisted inch long plug soil three four leaves largest least inches long easy plant look forward watching grow full size orchid recommends new plants kept degrees \n",
            "Predicted summary:  great product\n",
            "\n",
            "\n",
            "Review: vanilla beans typically run dollars two major supermarkets prices make reluctant use dishes call instead use vanilla bean paste beans good deal willing use almost abandon vanilla beans really provide superior flavor things like rice pudding custards vanilla ice cream complex luxurious flavor vanilla extract beans arrived fresh fragrant tightly bagged madagascar vanilla beans considered inferior tahitian beans one cannot detect much difference product made fan internet grocery shopping \n",
            "Predicted summary:  great product\n",
            "\n",
            "\n",
            "Review: really like one reviewer mentioned soy last ingredient soy lecithin many store bought foods soy product though keep soy intake bother quite salty rare occasion made pig ate whole bag made tongue sore really good though bought mine trader joe delighted find amazon pain go shopping get car plan order right great alternative greasy regular potato chips \n",
            "Predicted summary:  great for the price\n",
            "\n",
            "\n",
            "Review: product good tasty fresh happy experiences enjoyable price better health food store buy \n",
            "Predicted summary:  great product\n",
            "\n",
            "\n",
            "Review: would give product stars could using amazing grass orac several months almost completely cleared acne suffered acne entire life nothing serious would get new every week tried many different products make stop nothing really made much difference started taking amazing grass surprise maybe past months changes diet products using knew would make difference use half scoop everyday mix smoothie feel like making smoothie mix almond milk tastes good goes show eat make difference \n",
            "Predicted summary:  great product\n",
            "\n",
            "\n",
            "Review: ordered times new puppy recieved exactly picture shown ordered new bag thought getting exactly ordered previously one slightly added anti recipe cherry things added still small round training treats still great found interesting advertised amazon still sell old ones zuke changed items fyi chose pound option drop ordered still give stars think best treats training small moist stinky made healthy quality ingredients sure zuke changed sent something slightly different guess find next time try order \n",
            "Predicted summary:  great product\n",
            "\n",
            "\n",
            "Review: taste good kind would purchase theater would definitely purchase great popcorn even need add salt since \n",
            "Predicted summary:  great popcorn\n",
            "\n",
            "\n",
            "Review: pizza taste good easy make friends children let select toppings terrific grill \n",
            "Predicted summary:  great tasting\n",
            "\n",
            "\n",
            "Review: really liked product ordered easy store therefore assemble use product \n",
            "Predicted summary:  great product\n",
            "\n",
            "\n",
            "Review: perfect gift salmon fish lovers items lovely gift wrapped basket package salmon jerky salmon pate vacuum packed fresh fresh alaska smokehouse salmon thing needs craving delicious salmon crackers \n",
            "Predicted summary:  great gift\n",
            "\n",
            "\n",
            "Review: coffee choice long time pleased see amazon signed recurring shipments received word long ago longer available hope comes back good buy recommend becomes available \n",
            "Predicted summary:  great coffee\n",
            "\n",
            "\n",
            "Review: ordered whole box cans cereal opened first one little half filled cereal well thought got lemon opened another surprise similar half full amount turned cans like would use big fill half although like ingredient never buy brand way honest business going trust listed nutrition \n",
            "Predicted summary:  not as good as the picture\n",
            "\n",
            "\n",
            "Review: bars good feel guilty eating crunchy like nature valley bars natural tasting little brown nature valley bought whole case sorry sure eat expiration date \n",
            "Predicted summary:  not as good as the bar\n",
            "\n",
            "\n",
            "Review: worst coconut milk ever wife thai used brand appreciated organic bpa free cans however made sri lanka quality coconut milk unacceptable packaging completely misleading product looks nothing like image label would give zero stars choice cans inedible coconut milk \n",
            "Predicted summary:  not as good as the product\n",
            "\n",
            "\n",
            "Review: hello tried different foods dog one tolerates best year old border collie lab mix giving food quite time loves thank \n",
            "Predicted summary:  dog loves it\n",
            "\n",
            "\n",
            "Review: ordered box bags soy chips received opened bag chips darker color normal tasted one sour looked chips expired months ago option return bags waste \n",
            "Predicted summary:  not as good as the chips\n",
            "\n",
            "\n",
            "Review: tastes good easy make like much liked butter chicken curry though butter chicken curry wonderful one darker heavier flavor still enjoy much \n",
            "Predicted summary:  good but not great\n",
            "\n",
            "\n",
            "Review: one faves smooth easy acidity without bland however tassimo retail amazon getting inflated retail price retail pack every disc \n",
            "Predicted summary:  great product\n",
            "\n",
            "\n",
            "Review: popcorn good makes half tast good like theater popcorn \n",
            "Predicted summary:  great popcorn\n",
            "\n",
            "\n",
            "Review: gustaf dutch licorice absolute taste treat taste buds licorice think twizzlers brand greatest try gustaf think died went heaven gustaf quality licorice made discerning taste buds doubt one best quality available today brands past namely callard bowser licorice toffee perhaps surpassed one since longer business gustaf perhaps best licorice world yes expensive one pays quality one deserves real taste treat love taste black licorice favor purchase one bag taste bud delights may never want \n",
            "Predicted summary:  great product\n",
            "\n",
            "\n",
            "Review: love coffee pods love fact amazon sells bulk thanks \n",
            "Predicted summary:  great coffee\n",
            "\n",
            "\n",
            "Review: regular spam awful almost inedible would give tastes like animal flesh know mean fellow spam haters turkey spam pretty good great would give worth try \n",
            "Predicted summary:  not as good as the original\n",
            "\n",
            "\n",
            "Review: tried every coconut water available love zico reclosable bottle concentrate yes include coconuts brazil yes kinda taste like milk bottom cereal bowl yes love know tastes little different zico get tetra pak maybe change name still great beverage set autoship monthly yummy also like coconut water flavored ones good plain natural flavor still best also like zico passion fruit also like natural zico tetra pak work zico \n",
            "Predicted summary:  great tasting\n",
            "\n",
            "\n",
            "Review: hands best quality coconut used continue use company light nutty almond smell use hair skin cook \n",
            "Predicted summary:  great product\n",
            "\n",
            "\n",
            "Review: brand lives name also brews well bitter taste leaves one feeling satisfied one cup \n",
            "Predicted summary:  good stuff\n",
            "\n",
            "\n",
            "Review: family love garden eatin products yes snack product feel good putting bodies either hummus salsa guacamole \n",
            "Predicted summary:  great snack\n",
            "\n",
            "\n",
            "Review: would heard read great things amish country popcorn ordered set different lb bags kernels delicious popped wonderfully kids really enjoy lady finger popcorn due miniature size kernels kinds delicious decided purple favorite ordering purple next time set great way try several kinds kernels \n",
            "Predicted summary:  great popcorn\n",
            "\n",
            "\n",
            "Review: gum buy kids love avoid aspartame sweetened gum like poison gum store shelf real sugar \n",
            "Predicted summary:  great gum\n",
            "\n",
            "\n",
            "Review: gluten free breads tried one best far \n",
            "Predicted summary:  great gluten free bread\n",
            "\n",
            "\n",
            "Review: favorite kind tea use loose tea kurig works great six small cans easy use store \n",
            "Predicted summary:  great tea\n",
            "\n",
            "\n",
            "Review: eating almond butter wanted try something different save little money almond butter delicious expensive compared peanut butter first read sunbutter organic sunflower seed spread read tasted like peanut butter got taste like peanut butter matter fact tasted little bitter put refrigerator tried next day definitely tasted better cold warm tried apples mixed oatmeal tablespoon snack really enjoying taste price order coming every month still taste good almond butter nearly half price take \n",
            "Predicted summary:  great tasting cereal\n",
            "\n",
            "\n",
            "Review: daughter months old gave food package everything point home cooked vegetables fruit grains tell healthy snack really enjoys taste delicious easy take go right helpful chewing uncomfortable new molars melt mouth satisfy definitely buy \n",
            "Predicted summary:  great snack\n",
            "\n",
            "\n",
            "Review: favorite oatmeal house local store sells immediately come amazon eaten oatmeal years almost twice protein kind oatmeal subscribing \n",
            "Predicted summary:  great cereal\n",
            "\n",
            "\n",
            "Review: baby likes think much sugar made concentrate tastes artificial try instead vegetable fruit juices less sugar tastes much better good price amazon \n",
            "Predicted summary:  great taste\n",
            "\n",
            "\n",
            "Review: excited product first toy bought new rescue dog however dinosaur dental chew chewed mangled within first minutes thought supposed non edible seems able eat non edible durable toy though \n",
            "Predicted summary:  not for small dogs\n",
            "\n",
            "\n",
            "Review: found difficult get quaker oats old fashioned oatmeal amazon without pay shipping charges tried country choice organic oats delicious least good competition like buying organic products importantly children like could tell difference oats quaker oats normally eat finished eating batch oats order another \n",
            "Predicted summary:  great tasting cereal\n",
            "\n",
            "\n",
            "Review: right combination originally thought baby allergies however fed food baby got used liked \n",
            "Predicted summary:  great product\n",
            "\n",
            "\n",
            "Review: bought primal chicken chips thinking safe usa product could replace smokehouse natural duck chips dog treats oz reseal bag thought would small crispy crunchy chip wrong chip tough jerky size half dollar fold leathery stuff half multiple times tear smaller pieces lb shih tzu still trouble chewing even choked last bit gave away big dog loves \n",
            "Predicted summary:  great snack\n",
            "\n",
            "\n",
            "Review: gave half pack friend visiting love although would nice came bigger cans \n",
            "Predicted summary:  great product\n",
            "\n",
            "\n",
            "Review: adopted cat shelter type food fed continue feeding absolutely loves changing brands food anytime soon seems high quality dry cat food definitely one cat loves big bag food great especially large containers store get stale happy food glad shelter ended recommending cat happy happy knowing fed appropriately high quality food helping stay healthy \n",
            "Predicted summary:  great food\n",
            "\n",
            "\n",
            "Review: really found crunchies like although tried savory ones thing wanted add mix spend lot time picking seeds teeth raspberries strawberries worst comes also tastiest pieces bag crunchies fault though reason cannot give mix full stars \n",
            "Predicted summary:  great product\n",
            "\n",
            "\n",
            "Review: ordered four one pound bags product extremely impressed way packaged tightly packaged thick plastic none spilled leaked shipping furthermore product worked great project price right barry farms terrific job certainly continue order products future first order certainly recommend others \n",
            "Predicted summary:  great product\n",
            "\n",
            "\n",
            "Review: googled best dark chocolate leonidas among results wonderful personal touch customer service best dark chocolate tasted make leonidas belgian chocolates keeper well earned reputation thank delicious \n",
            "Predicted summary:  great chocolate\n",
            "\n",
            "\n",
            "Review: dog loves things hes moderate chewer takes weeks go suggest throw away starts get small worry jagged edges seem get moldy one major drawback darn thing ouch \n",
            "Predicted summary:  great product\n",
            "\n",
            "\n",
            "Review: first time curry rice boy cooked stuff exactly supposed taste bad guess little strong though thick like ice bearing spice pretty intense think get guess good stuff seen curry making videos used often way thick potatoes onions pork prepared perfection mixed could taste could taste pork anything sauce \n",
            "Predicted summary:  not as good as the original\n",
            "\n",
            "\n",
            "Review: nuts healthy numerous benefits besides energy source brand particular delicious little salty pecans greatest overall kinds nuts abundant taste good \n",
            "Predicted summary:  great snack\n",
            "\n",
            "\n",
            "Review: got make like cheerios good old fashioned original cheerios however try keep open mind always improvement cereal bad good like cheerios slightly sweeter enough make real difference enough get noticed extra sugar content definitely worth nuts supposed completely invisible palette want sweet cereal eat honey nut cheerios want non sweetened cereal eat cheerios hybrid falls far short \n",
            "Predicted summary:  not as good as the ones\n",
            "\n",
            "\n",
            "Review: bar good tastes like eating banana mixed nuts like sugar added uses natural sugars banana flavor bar \n",
            "Predicted summary:  great tasting bar\n",
            "\n",
            "\n",
            "Review: feel good using food schnauzer minor food allergies trouble finding food without grains products price good even better auto order free shipping live rural area carry paul newman foods door door delivery great use \n",
            "Predicted summary:  great product\n",
            "\n",
            "\n",
            "Review: best healthy food eat drizzle raw oatmeal cereal could dropped sugar though buy blueberries without damn sugar avoid sugar enough continue buying though good product \n",
            "Predicted summary:  great cereal\n",
            "\n",
            "\n",
            "Review: great product subscribe save half would pay grocery store problems getting different kind tomato would ordered got regular whole peeled tomatoes cans dented sure couple bound get dented considering twenty pounds cans shipped across country couple dents expected folks overall really tough complain \n",
            "Predicted summary:  great product\n",
            "\n",
            "\n",
            "Review: husband loves chocolate covered cherries tasted would eat kind small town could find christmas holidays valentines day found online keep hand year chocolate cherries happy hubby \n",
            "Predicted summary:  delicious\n",
            "\n",
            "\n",
            "Review: erin baker organic breakfast cookies delicious moist enjoying cookie individually packaged great throwing lunch work school driving trip although makes different kinds find fruit nut favorite like oatmeal cookie wholesome moist one winner \n",
            "Predicted summary:  great cookie\n",
            "\n",
            "\n",
            "Review: good little crunchy rounds cheese bit salty criticism bit aquired taste low carb program satisfy craving crunch even used crouton substitute salads satisfied ordered second box \n",
            "Predicted summary:  great snack\n",
            "\n",
            "\n",
            "Review: let tell purchased product less per count research find mass sellers sell much cheaper product good price site \n",
            "Predicted summary:  great price\n",
            "\n",
            "\n",
            "Review: finished first large cup blown away man good stuff wife also commented tasty tasty believe exact words hope next cup continues impress type person likes pour little coffee milk sugar might strong enough clean socks wearing think get second cup right \n",
            "Predicted summary:  great tasting coffee\n",
            "\n",
            "\n",
            "Review: used carnation generic instant milk awful stuff product excellent added oatmeal cooking vs plain water pleased used elderly moms coffee vs using non nutritious coffee creamer looking forward trying ways point ordering started using canned cream soups elderly mom fill empty desired amount water add peak best part use non fat skim never spoiled wasted milk never go without milk \n",
            "Predicted summary:  great product\n",
            "\n",
            "\n",
            "Review: could smell aroma french roast coffee took plastic covering box smelled wonderful good brewed like pods solid plastic take less room trash hopefully less room landfill good product \n",
            "Predicted summary:  not bad\n",
            "\n",
            "\n",
            "Review: use buy costco local one longer carries great kids snacks go great price shipped quickly \n",
            "Predicted summary:  great snack\n",
            "\n",
            "\n",
            "Review: explain tastey interesting thing made single portions adding little water heating microwave mixed kinds dishes including baked beans mixed vegetables provides flavoring \n",
            "Predicted summary:  great product\n",
            "\n",
            "\n",
            "Review: coconut cashew hands best ever started buying true bars last november bakery main way find better gluten free products know anything gluten free understand difficult eat foods without absolute sure gluten free dedicated source best ever tasting melt mouth best tasting favorite coconut cashew good found hard eat entire sleeve recommended celiac since birth \n",
            "Predicted summary:  great tasting\n",
            "\n",
            "\n",
            "Review: really enjoyed coffee love buying bulk package cut top box away reach get handful put rack cabinet butter toffee flavor smooth always enjoyed hazelnut step flavor find quiet corner enjoy cup relax \n",
            "Predicted summary:  great coffee\n",
            "\n",
            "\n",
            "Review: gluten free sugar free white chocolate bars protein get better favorite flavors think thin bars subscribe save get boxes per month buying amazon cheapest way get bars save per box compared buying store admit first bar tasted slightly chemically think must vitamin tasting absolutely delicious crave bars \n",
            "Predicted summary:  delicious\n",
            "\n",
            "\n",
            "Review: ordered lot money great lot family visiting weekend holidays perfect keep office refrigeration means last longer great buy \n",
            "Predicted summary:  great product\n",
            "\n",
            "\n",
            "Review: wife found product local drug store buying several bags merchant ran product went online find new source obviously likes product much pleased find amazon com store product order process simple always shipping time quick product packaged well \n",
            "Predicted summary:  great product\n",
            "\n",
            "\n",
            "Review: three cats wild chicken pot pie variety petite cuisine real chicken clear broth actually looks like something would serve ingredients real meat products wheat gluten preservatives dyes actually quite bit broth concerned opened first thought mostly water however real broth evidently pretty tasty cats practically inhale love finish broth start working chicken always clear whole plate definitely buy \n",
            "Predicted summary:  not for me\n",
            "\n",
            "\n",
            "Review: like snacks healthier alternative options almonds great way go particular almonds pack lot flavor kick great quick snack full flavor delicious \n",
            "Predicted summary:  great snack\n",
            "\n",
            "\n",
            "Review: capsules easy wife take really help crohn disease reviewing found hemp seed oil helps crohn disease tried prescription meds read affects worse crohn disease product really helped many sick often \n",
            "Predicted summary:  great product\n",
            "\n",
            "\n",
            "Review: sent gf loved gift got one day holiday reimbursed shipping nd day \n",
            "Predicted summary:  great product\n",
            "\n",
            "\n",
            "Review: daughters dog detroit loves em otherwise would keep ordering em say \n",
            "Predicted summary:  my dog loves these\n",
            "\n",
            "\n",
            "Review: bought package starbucks thought good crispy hmm bought case mix cinnamon sugar chocolate chip oatmeal first tasted probably suppose crispy taste stale leave awful aftertaste also taste way buttery portion side two cookies rest cracked package nothing special worth price although love packaging sorry lucy tasted way better gf cookies \n",
            "Predicted summary:  not bad\n",
            "\n",
            "\n"
          ],
          "name": "stdout"
        }
      ]
    },
    {
      "cell_type": "code",
      "metadata": {
        "id": "Mp2T19PBHZtl",
        "colab_type": "code",
        "colab": {}
      },
      "source": [
        ""
      ],
      "execution_count": null,
      "outputs": []
    }
  ]
}